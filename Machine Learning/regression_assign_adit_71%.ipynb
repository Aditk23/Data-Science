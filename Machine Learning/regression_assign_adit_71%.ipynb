{
 "cells": [
  {
   "cell_type": "code",
   "execution_count": 34,
   "id": "2e097600",
   "metadata": {},
   "outputs": [],
   "source": [
    "# Let's import our libraries\n",
    "import numpy as np\n",
    "import pandas as pd\n",
    "import seaborn as sns\n",
    "import matplotlib.pyplot as plt"
   ]
  },
  {
   "cell_type": "code",
   "execution_count": 35,
   "id": "4ad0e424",
   "metadata": {},
   "outputs": [],
   "source": [
    "plt.rcParams['figure.figsize'] = [12,6]\n",
    "sns.set_style('darkgrid')"
   ]
  },
  {
   "cell_type": "code",
   "execution_count": 36,
   "id": "e93b2433",
   "metadata": {},
   "outputs": [],
   "source": [
    "house = pd.read_csv(\"Maison.csv\")"
   ]
  },
  {
   "cell_type": "code",
   "execution_count": 37,
   "id": "59d0ad7a",
   "metadata": {},
   "outputs": [
    {
     "data": {
      "text/html": [
       "<div>\n",
       "<style scoped>\n",
       "    .dataframe tbody tr th:only-of-type {\n",
       "        vertical-align: middle;\n",
       "    }\n",
       "\n",
       "    .dataframe tbody tr th {\n",
       "        vertical-align: top;\n",
       "    }\n",
       "\n",
       "    .dataframe thead th {\n",
       "        text-align: right;\n",
       "    }\n",
       "</style>\n",
       "<table border=\"1\" class=\"dataframe\">\n",
       "  <thead>\n",
       "    <tr style=\"text-align: right;\">\n",
       "      <th></th>\n",
       "      <th>PRIX</th>\n",
       "      <th>SUPERFICIE</th>\n",
       "      <th>CHAMBRES</th>\n",
       "      <th>SDB</th>\n",
       "      <th>ETAGES</th>\n",
       "      <th>ALLEE</th>\n",
       "      <th>SALLEJEU</th>\n",
       "      <th>CAVE</th>\n",
       "      <th>GAZ</th>\n",
       "      <th>AIR</th>\n",
       "      <th>GARAGES</th>\n",
       "      <th>SITUATION</th>\n",
       "    </tr>\n",
       "  </thead>\n",
       "  <tbody>\n",
       "    <tr>\n",
       "      <th>0</th>\n",
       "      <td>42000</td>\n",
       "      <td>5850</td>\n",
       "      <td>3</td>\n",
       "      <td>1</td>\n",
       "      <td>2</td>\n",
       "      <td>1</td>\n",
       "      <td>0</td>\n",
       "      <td>1</td>\n",
       "      <td>0</td>\n",
       "      <td>0</td>\n",
       "      <td>1</td>\n",
       "      <td>0</td>\n",
       "    </tr>\n",
       "    <tr>\n",
       "      <th>1</th>\n",
       "      <td>38500</td>\n",
       "      <td>4000</td>\n",
       "      <td>2</td>\n",
       "      <td>1</td>\n",
       "      <td>1</td>\n",
       "      <td>1</td>\n",
       "      <td>0</td>\n",
       "      <td>0</td>\n",
       "      <td>0</td>\n",
       "      <td>0</td>\n",
       "      <td>0</td>\n",
       "      <td>0</td>\n",
       "    </tr>\n",
       "    <tr>\n",
       "      <th>2</th>\n",
       "      <td>49500</td>\n",
       "      <td>3060</td>\n",
       "      <td>3</td>\n",
       "      <td>1</td>\n",
       "      <td>1</td>\n",
       "      <td>1</td>\n",
       "      <td>0</td>\n",
       "      <td>0</td>\n",
       "      <td>0</td>\n",
       "      <td>0</td>\n",
       "      <td>0</td>\n",
       "      <td>0</td>\n",
       "    </tr>\n",
       "    <tr>\n",
       "      <th>3</th>\n",
       "      <td>60500</td>\n",
       "      <td>6650</td>\n",
       "      <td>3</td>\n",
       "      <td>1</td>\n",
       "      <td>2</td>\n",
       "      <td>1</td>\n",
       "      <td>1</td>\n",
       "      <td>0</td>\n",
       "      <td>0</td>\n",
       "      <td>0</td>\n",
       "      <td>0</td>\n",
       "      <td>0</td>\n",
       "    </tr>\n",
       "    <tr>\n",
       "      <th>4</th>\n",
       "      <td>61000</td>\n",
       "      <td>6360</td>\n",
       "      <td>2</td>\n",
       "      <td>1</td>\n",
       "      <td>1</td>\n",
       "      <td>1</td>\n",
       "      <td>0</td>\n",
       "      <td>0</td>\n",
       "      <td>0</td>\n",
       "      <td>0</td>\n",
       "      <td>0</td>\n",
       "      <td>0</td>\n",
       "    </tr>\n",
       "  </tbody>\n",
       "</table>\n",
       "</div>"
      ],
      "text/plain": [
       "    PRIX  SUPERFICIE  CHAMBRES  SDB  ETAGES  ALLEE  SALLEJEU  CAVE  GAZ  AIR  \\\n",
       "0  42000        5850         3    1       2      1         0     1    0    0   \n",
       "1  38500        4000         2    1       1      1         0     0    0    0   \n",
       "2  49500        3060         3    1       1      1         0     0    0    0   \n",
       "3  60500        6650         3    1       2      1         1     0    0    0   \n",
       "4  61000        6360         2    1       1      1         0     0    0    0   \n",
       "\n",
       "   GARAGES  SITUATION  \n",
       "0        1          0  \n",
       "1        0          0  \n",
       "2        0          0  \n",
       "3        0          0  \n",
       "4        0          0  "
      ]
     },
     "execution_count": 37,
     "metadata": {},
     "output_type": "execute_result"
    }
   ],
   "source": [
    "house.head()"
   ]
  },
  {
   "cell_type": "code",
   "execution_count": 38,
   "id": "586ac79e",
   "metadata": {},
   "outputs": [
    {
     "data": {
      "text/plain": [
       "(546, 12)"
      ]
     },
     "execution_count": 38,
     "metadata": {},
     "output_type": "execute_result"
    }
   ],
   "source": [
    "house.shape"
   ]
  },
  {
   "cell_type": "code",
   "execution_count": 39,
   "id": "7d89c97d",
   "metadata": {},
   "outputs": [],
   "source": [
    "house = house.rename(index = str, columns = {'PRIX':'price','SUPERFICIE': 'area','CHAMBRES': 'rooms', \n",
    "                         'SDB': 'bathroom', 'ETAGES': 'floors','ALLEE': 'driveway',\n",
    "                         'SALLEJEU':'game_room', 'CAVE': 'cellar', \n",
    "                         'GAZ': 'gas', 'AIR':'air', 'GARAGES': 'garage', 'SITUATION': 'situation'})"
   ]
  },
  {
   "cell_type": "code",
   "execution_count": 40,
   "id": "3e0b6cf7",
   "metadata": {},
   "outputs": [
    {
     "data": {
      "text/html": [
       "<div>\n",
       "<style scoped>\n",
       "    .dataframe tbody tr th:only-of-type {\n",
       "        vertical-align: middle;\n",
       "    }\n",
       "\n",
       "    .dataframe tbody tr th {\n",
       "        vertical-align: top;\n",
       "    }\n",
       "\n",
       "    .dataframe thead th {\n",
       "        text-align: right;\n",
       "    }\n",
       "</style>\n",
       "<table border=\"1\" class=\"dataframe\">\n",
       "  <thead>\n",
       "    <tr style=\"text-align: right;\">\n",
       "      <th></th>\n",
       "      <th>price</th>\n",
       "      <th>area</th>\n",
       "      <th>rooms</th>\n",
       "      <th>bathroom</th>\n",
       "      <th>floors</th>\n",
       "      <th>driveway</th>\n",
       "      <th>game_room</th>\n",
       "      <th>cellar</th>\n",
       "      <th>gas</th>\n",
       "      <th>air</th>\n",
       "      <th>garage</th>\n",
       "      <th>situation</th>\n",
       "    </tr>\n",
       "  </thead>\n",
       "  <tbody>\n",
       "    <tr>\n",
       "      <th>0</th>\n",
       "      <td>42000</td>\n",
       "      <td>5850</td>\n",
       "      <td>3</td>\n",
       "      <td>1</td>\n",
       "      <td>2</td>\n",
       "      <td>1</td>\n",
       "      <td>0</td>\n",
       "      <td>1</td>\n",
       "      <td>0</td>\n",
       "      <td>0</td>\n",
       "      <td>1</td>\n",
       "      <td>0</td>\n",
       "    </tr>\n",
       "    <tr>\n",
       "      <th>1</th>\n",
       "      <td>38500</td>\n",
       "      <td>4000</td>\n",
       "      <td>2</td>\n",
       "      <td>1</td>\n",
       "      <td>1</td>\n",
       "      <td>1</td>\n",
       "      <td>0</td>\n",
       "      <td>0</td>\n",
       "      <td>0</td>\n",
       "      <td>0</td>\n",
       "      <td>0</td>\n",
       "      <td>0</td>\n",
       "    </tr>\n",
       "    <tr>\n",
       "      <th>2</th>\n",
       "      <td>49500</td>\n",
       "      <td>3060</td>\n",
       "      <td>3</td>\n",
       "      <td>1</td>\n",
       "      <td>1</td>\n",
       "      <td>1</td>\n",
       "      <td>0</td>\n",
       "      <td>0</td>\n",
       "      <td>0</td>\n",
       "      <td>0</td>\n",
       "      <td>0</td>\n",
       "      <td>0</td>\n",
       "    </tr>\n",
       "    <tr>\n",
       "      <th>3</th>\n",
       "      <td>60500</td>\n",
       "      <td>6650</td>\n",
       "      <td>3</td>\n",
       "      <td>1</td>\n",
       "      <td>2</td>\n",
       "      <td>1</td>\n",
       "      <td>1</td>\n",
       "      <td>0</td>\n",
       "      <td>0</td>\n",
       "      <td>0</td>\n",
       "      <td>0</td>\n",
       "      <td>0</td>\n",
       "    </tr>\n",
       "    <tr>\n",
       "      <th>4</th>\n",
       "      <td>61000</td>\n",
       "      <td>6360</td>\n",
       "      <td>2</td>\n",
       "      <td>1</td>\n",
       "      <td>1</td>\n",
       "      <td>1</td>\n",
       "      <td>0</td>\n",
       "      <td>0</td>\n",
       "      <td>0</td>\n",
       "      <td>0</td>\n",
       "      <td>0</td>\n",
       "      <td>0</td>\n",
       "    </tr>\n",
       "  </tbody>\n",
       "</table>\n",
       "</div>"
      ],
      "text/plain": [
       "   price  area  rooms  bathroom  floors  driveway  game_room  cellar  gas  \\\n",
       "0  42000  5850      3         1       2         1          0       1    0   \n",
       "1  38500  4000      2         1       1         1          0       0    0   \n",
       "2  49500  3060      3         1       1         1          0       0    0   \n",
       "3  60500  6650      3         1       2         1          1       0    0   \n",
       "4  61000  6360      2         1       1         1          0       0    0   \n",
       "\n",
       "   air  garage  situation  \n",
       "0    0       1          0  \n",
       "1    0       0          0  \n",
       "2    0       0          0  \n",
       "3    0       0          0  \n",
       "4    0       0          0  "
      ]
     },
     "execution_count": 40,
     "metadata": {},
     "output_type": "execute_result"
    }
   ],
   "source": [
    "house.head()"
   ]
  },
  {
   "cell_type": "code",
   "execution_count": 41,
   "id": "16aa9819",
   "metadata": {},
   "outputs": [
    {
     "data": {
      "text/plain": [
       "price        0\n",
       "area         0\n",
       "rooms        0\n",
       "bathroom     0\n",
       "floors       0\n",
       "driveway     0\n",
       "game_room    0\n",
       "cellar       0\n",
       "gas          0\n",
       "air          0\n",
       "garage       0\n",
       "situation    0\n",
       "dtype: int64"
      ]
     },
     "execution_count": 41,
     "metadata": {},
     "output_type": "execute_result"
    }
   ],
   "source": [
    "house.isnull().sum()"
   ]
  },
  {
   "cell_type": "code",
   "execution_count": 42,
   "id": "9f6f97c8",
   "metadata": {},
   "outputs": [
    {
     "data": {
      "image/png": "[encoded data removed]",
      "text/plain": [
       "<Figure size 864x432 with 1 Axes>"
      ]
     },
     "metadata": {},
     "output_type": "display_data"
    }
   ],
   "source": [
    "import warnings\n",
    "warnings.filterwarnings('ignore')\n",
    "sns.distplot(house['price'])\n",
    "plt.show()"
   ]
  },
  {
   "cell_type": "code",
   "execution_count": 43,
   "id": "e392c0f0",
   "metadata": {},
   "outputs": [
    {
     "data": {
      "image/png": "[encoded data removed]",
      "text/plain": [
       "<Figure size 864x432 with 1 Axes>"
      ]
     },
     "metadata": {},
     "output_type": "display_data"
    }
   ],
   "source": [
    "sns.distplot(house['area'])\n",
    "plt.show()"
   ]
  },
  {
   "cell_type": "code",
   "execution_count": 44,
   "id": "391a1772",
   "metadata": {},
   "outputs": [
    {
     "data": {
      "text/plain": [
       "Index(['price', 'area', 'rooms', 'bathroom', 'floors', 'driveway', 'game_room',\n",
       "       'cellar', 'gas', 'air', 'garage', 'situation'],\n",
       "      dtype='object')"
      ]
     },
     "execution_count": 44,
     "metadata": {},
     "output_type": "execute_result"
    }
   ],
   "source": [
    "house.columns"
   ]
  },
  {
   "cell_type": "code",
   "execution_count": 45,
   "id": "349d0f95",
   "metadata": {},
   "outputs": [
    {
     "data": {
      "image/png": "[encoded data removed]",
      "text/plain": [
       "<Figure size 864x432 with 1 Axes>"
      ]
     },
     "metadata": {},
     "output_type": "display_data"
    }
   ],
   "source": [
    "q = house['price'].quantile(0.98)\n",
    "house = house[house['price']<q]\n",
    "sns.distplot(house['price'])\n",
    "plt.show()"
   ]
  },
  {
   "cell_type": "code",
   "execution_count": 46,
   "id": "c9857105",
   "metadata": {},
   "outputs": [
    {
     "data": {
      "image/png": "[encoded data removed]",
      "text/plain": [
       "<Figure size 864x432 with 1 Axes>"
      ]
     },
     "metadata": {},
     "output_type": "display_data"
    }
   ],
   "source": [
    "q = house['area'].quantile(0.98)\n",
    "house = house[house['area']<q]\n",
    "sns.distplot(house['area'])\n",
    "plt.show()"
   ]
  },
  {
   "cell_type": "code",
   "execution_count": 47,
   "id": "10ae6dbd",
   "metadata": {},
   "outputs": [
    {
     "data": {
      "text/plain": [
       "0.04259634888438134"
      ]
     },
     "execution_count": 47,
     "metadata": {},
     "output_type": "execute_result"
    }
   ],
   "source": [
    "21/(21+472)"
   ]
  },
  {
   "cell_type": "code",
   "execution_count": 48,
   "id": "57c684d3",
   "metadata": {},
   "outputs": [],
   "source": [
    "d = ['gas','game_room']\n",
    "for i in d:\n",
    "    house = house.drop(i,axis=1)"
   ]
  },
  {
   "cell_type": "code",
   "execution_count": 49,
   "id": "7f2556c6",
   "metadata": {},
   "outputs": [],
   "source": [
    "index_names = house[ (house['rooms'] == 1) | (house['rooms'] == 6) | (house['rooms']==5)].index\n",
    "house.drop(index_names, inplace = True)\n",
    "\n",
    "\n",
    "\n",
    "index_names = house[ (house['bathroom'] == 4) | (house['bathroom'] == 3)].index\n",
    "house.drop(index_names, inplace = True)\n",
    "\n",
    "\n",
    "\n",
    "\n",
    "index_names = house[(house['garage'] == 3)].index\n",
    "house.drop(index_names, inplace = True)\n",
    "\n"
   ]
  },
  {
   "cell_type": "code",
   "execution_count": 53,
   "id": "5d0fbe95",
   "metadata": {},
   "outputs": [
    {
     "name": "stdout",
     "output_type": "stream",
     "text": [
      "3    280\n",
      "2    132\n",
      "4     81\n",
      "Name: rooms, dtype: int64\n",
      "1    374\n",
      "2    119\n",
      "Name: bathroom, dtype: int64\n",
      "1    210\n",
      "2    210\n",
      "3     37\n",
      "4     36\n",
      "Name: floors, dtype: int64\n",
      "1    423\n",
      "0     70\n",
      "Name: driveway, dtype: int64\n",
      "0    326\n",
      "1    167\n",
      "Name: cellar, dtype: int64\n",
      "0    338\n",
      "1    155\n",
      "Name: air, dtype: int64\n",
      "0    285\n",
      "1    115\n",
      "2     93\n",
      "Name: garage, dtype: int64\n",
      "0    382\n",
      "1    111\n",
      "Name: situation, dtype: int64\n"
     ]
    }
   ],
   "source": [
    "cat = ['rooms', 'bathroom', 'floors', 'driveway', \n",
    "       'cellar',  'air', 'garage', 'situation']\n",
    "for i in cat:\n",
    "    print(house[i].value_counts())"
   ]
  },
  {
   "cell_type": "code",
   "execution_count": 54,
   "id": "3427a361",
   "metadata": {},
   "outputs": [
    {
     "data": {
      "text/plain": [
       "(493, 10)"
      ]
     },
     "execution_count": 54,
     "metadata": {},
     "output_type": "execute_result"
    }
   ],
   "source": [
    "house.shape"
   ]
  },
  {
   "cell_type": "code",
   "execution_count": 56,
   "id": "f83676e9",
   "metadata": {},
   "outputs": [
    {
     "data": {
      "text/plain": [
       "<AxesSubplot:>"
      ]
     },
     "execution_count": 56,
     "metadata": {},
     "output_type": "execute_result"
    },
    {
     "data": {
      "image/png": "[encoded data removed]",
      "text/plain": [
       "<Figure size 864x432 with 2 Axes>"
      ]
     },
     "metadata": {},
     "output_type": "display_data"
    }
   ],
   "source": [
    "sns.heatmap(house.corr(), fmt='.2g', annot=True, cmap = 'YlGnBu')"
   ]
  },
  {
   "cell_type": "code",
   "execution_count": 21,
   "id": "8d7df186",
   "metadata": {},
   "outputs": [
    {
     "data": {
      "text/plain": [
       "Index(['price', 'area', 'rooms', 'bathroom', 'floors', 'driveway', 'cellar',\n",
       "       'air', 'garage', 'situation'],\n",
       "      dtype='object')"
      ]
     },
     "execution_count": 21,
     "metadata": {},
     "output_type": "execute_result"
    }
   ],
   "source": [
    "house.columns"
   ]
  },
  {
   "cell_type": "code",
   "execution_count": 57,
   "id": "58cf0e6d",
   "metadata": {},
   "outputs": [
    {
     "data": {
      "text/html": [
       "<div>\n",
       "<style scoped>\n",
       "    .dataframe tbody tr th:only-of-type {\n",
       "        vertical-align: middle;\n",
       "    }\n",
       "\n",
       "    .dataframe tbody tr th {\n",
       "        vertical-align: top;\n",
       "    }\n",
       "\n",
       "    .dataframe thead th {\n",
       "        text-align: right;\n",
       "    }\n",
       "</style>\n",
       "<table border=\"1\" class=\"dataframe\">\n",
       "  <thead>\n",
       "    <tr style=\"text-align: right;\">\n",
       "      <th></th>\n",
       "      <th>price</th>\n",
       "      <th>area</th>\n",
       "      <th>rooms</th>\n",
       "      <th>bathroom</th>\n",
       "      <th>floors</th>\n",
       "      <th>driveway</th>\n",
       "      <th>cellar</th>\n",
       "      <th>air</th>\n",
       "      <th>garage</th>\n",
       "      <th>situation</th>\n",
       "    </tr>\n",
       "  </thead>\n",
       "  <tbody>\n",
       "    <tr>\n",
       "      <th>0</th>\n",
       "      <td>42000</td>\n",
       "      <td>5850</td>\n",
       "      <td>3</td>\n",
       "      <td>1</td>\n",
       "      <td>2</td>\n",
       "      <td>1</td>\n",
       "      <td>1</td>\n",
       "      <td>0</td>\n",
       "      <td>1</td>\n",
       "      <td>0</td>\n",
       "    </tr>\n",
       "    <tr>\n",
       "      <th>1</th>\n",
       "      <td>38500</td>\n",
       "      <td>4000</td>\n",
       "      <td>2</td>\n",
       "      <td>1</td>\n",
       "      <td>1</td>\n",
       "      <td>1</td>\n",
       "      <td>0</td>\n",
       "      <td>0</td>\n",
       "      <td>0</td>\n",
       "      <td>0</td>\n",
       "    </tr>\n",
       "    <tr>\n",
       "      <th>2</th>\n",
       "      <td>49500</td>\n",
       "      <td>3060</td>\n",
       "      <td>3</td>\n",
       "      <td>1</td>\n",
       "      <td>1</td>\n",
       "      <td>1</td>\n",
       "      <td>0</td>\n",
       "      <td>0</td>\n",
       "      <td>0</td>\n",
       "      <td>0</td>\n",
       "    </tr>\n",
       "    <tr>\n",
       "      <th>3</th>\n",
       "      <td>60500</td>\n",
       "      <td>6650</td>\n",
       "      <td>3</td>\n",
       "      <td>1</td>\n",
       "      <td>2</td>\n",
       "      <td>1</td>\n",
       "      <td>0</td>\n",
       "      <td>0</td>\n",
       "      <td>0</td>\n",
       "      <td>0</td>\n",
       "    </tr>\n",
       "    <tr>\n",
       "      <th>4</th>\n",
       "      <td>61000</td>\n",
       "      <td>6360</td>\n",
       "      <td>2</td>\n",
       "      <td>1</td>\n",
       "      <td>1</td>\n",
       "      <td>1</td>\n",
       "      <td>0</td>\n",
       "      <td>0</td>\n",
       "      <td>0</td>\n",
       "      <td>0</td>\n",
       "    </tr>\n",
       "    <tr>\n",
       "      <th>5</th>\n",
       "      <td>66000</td>\n",
       "      <td>4160</td>\n",
       "      <td>3</td>\n",
       "      <td>1</td>\n",
       "      <td>1</td>\n",
       "      <td>1</td>\n",
       "      <td>1</td>\n",
       "      <td>1</td>\n",
       "      <td>0</td>\n",
       "      <td>0</td>\n",
       "    </tr>\n",
       "    <tr>\n",
       "      <th>6</th>\n",
       "      <td>66000</td>\n",
       "      <td>3880</td>\n",
       "      <td>3</td>\n",
       "      <td>2</td>\n",
       "      <td>2</td>\n",
       "      <td>1</td>\n",
       "      <td>1</td>\n",
       "      <td>0</td>\n",
       "      <td>2</td>\n",
       "      <td>0</td>\n",
       "    </tr>\n",
       "    <tr>\n",
       "      <th>7</th>\n",
       "      <td>69000</td>\n",
       "      <td>4160</td>\n",
       "      <td>3</td>\n",
       "      <td>1</td>\n",
       "      <td>3</td>\n",
       "      <td>1</td>\n",
       "      <td>0</td>\n",
       "      <td>0</td>\n",
       "      <td>0</td>\n",
       "      <td>0</td>\n",
       "    </tr>\n",
       "    <tr>\n",
       "      <th>8</th>\n",
       "      <td>83800</td>\n",
       "      <td>4800</td>\n",
       "      <td>3</td>\n",
       "      <td>1</td>\n",
       "      <td>1</td>\n",
       "      <td>1</td>\n",
       "      <td>1</td>\n",
       "      <td>0</td>\n",
       "      <td>0</td>\n",
       "      <td>0</td>\n",
       "    </tr>\n",
       "    <tr>\n",
       "      <th>9</th>\n",
       "      <td>88500</td>\n",
       "      <td>5500</td>\n",
       "      <td>3</td>\n",
       "      <td>2</td>\n",
       "      <td>4</td>\n",
       "      <td>1</td>\n",
       "      <td>0</td>\n",
       "      <td>1</td>\n",
       "      <td>1</td>\n",
       "      <td>0</td>\n",
       "    </tr>\n",
       "  </tbody>\n",
       "</table>\n",
       "</div>"
      ],
      "text/plain": [
       "   price  area  rooms  bathroom  floors  driveway  cellar  air  garage  \\\n",
       "0  42000  5850      3         1       2         1       1    0       1   \n",
       "1  38500  4000      2         1       1         1       0    0       0   \n",
       "2  49500  3060      3         1       1         1       0    0       0   \n",
       "3  60500  6650      3         1       2         1       0    0       0   \n",
       "4  61000  6360      2         1       1         1       0    0       0   \n",
       "5  66000  4160      3         1       1         1       1    1       0   \n",
       "6  66000  3880      3         2       2         1       1    0       2   \n",
       "7  69000  4160      3         1       3         1       0    0       0   \n",
       "8  83800  4800      3         1       1         1       1    0       0   \n",
       "9  88500  5500      3         2       4         1       0    1       1   \n",
       "\n",
       "   situation  \n",
       "0          0  \n",
       "1          0  \n",
       "2          0  \n",
       "3          0  \n",
       "4          0  \n",
       "5          0  \n",
       "6          0  \n",
       "7          0  \n",
       "8          0  \n",
       "9          0  "
      ]
     },
     "execution_count": 57,
     "metadata": {},
     "output_type": "execute_result"
    }
   ],
   "source": [
    "house.head(10)"
   ]
  },
  {
   "cell_type": "code",
   "execution_count": 58,
   "id": "0d4c2450",
   "metadata": {},
   "outputs": [
    {
     "data": {
      "text/plain": [
       "(493, 10)"
      ]
     },
     "execution_count": 58,
     "metadata": {},
     "output_type": "execute_result"
    }
   ],
   "source": [
    "house.shape"
   ]
  },
  {
   "cell_type": "code",
   "execution_count": 59,
   "id": "13f45f41",
   "metadata": {},
   "outputs": [],
   "source": [
    "from sklearn.linear_model import LinearRegression\n",
    "from sklearn.model_selection import train_test_split"
   ]
  },
  {
   "cell_type": "code",
   "execution_count": 60,
   "id": "c19a627f",
   "metadata": {},
   "outputs": [],
   "source": [
    "lm = LinearRegression()"
   ]
  },
  {
   "cell_type": "code",
   "execution_count": 61,
   "id": "892ecd36",
   "metadata": {},
   "outputs": [],
   "source": [
    "#X = house[['area', 'rooms', 'bathroom', 'floors', 'driveway', 'game_room',\n",
    "#       'cellar', 'gas', 'air', 'garage', 'situation']]\n",
    "X = house[['area', 'rooms', 'bathroom', 'floors', 'driveway', \n",
    "       'cellar',  'air',  'situation','garage']]\n",
    "\n",
    "\n",
    "y = house['price']"
   ]
  },
  {
   "cell_type": "code",
   "execution_count": 62,
   "id": "76b0682a",
   "metadata": {},
   "outputs": [],
   "source": [
    "X_train, X_test, y_train, y_test = train_test_split( X, y, test_size=0.3, random_state=101)"
   ]
  },
  {
   "cell_type": "code",
   "execution_count": 63,
   "id": "29fb2a09",
   "metadata": {},
   "outputs": [],
   "source": [
    "import statsmodels.api as sm"
   ]
  },
  {
   "cell_type": "code",
   "execution_count": 64,
   "id": "f16f191e",
   "metadata": {},
   "outputs": [],
   "source": [
    "\n",
    "X_endog = sm.add_constant(X_test)"
   ]
  },
  {
   "cell_type": "code",
   "execution_count": 65,
   "id": "a99853d0",
   "metadata": {},
   "outputs": [
    {
     "data": {
      "text/plain": [
       "<statsmodels.regression.linear_model.RegressionResultsWrapper at 0x7fb110aee490>"
      ]
     },
     "execution_count": 65,
     "metadata": {},
     "output_type": "execute_result"
    }
   ],
   "source": [
    "res = sm.OLS(y_test, X_endog)\n",
    "res.fit()"
   ]
  },
  {
   "cell_type": "code",
   "execution_count": 66,
   "id": "193e94e7",
   "metadata": {},
   "outputs": [
    {
     "data": {
      "text/html": [
       "<table class=\"simpletable\">\n",
       "<caption>OLS Regression Results</caption>\n",
       "<tr>\n",
       "  <th>Dep. Variable:</th>          <td>price</td>      <th>  R-squared:         </th> <td>   0.714</td>\n",
       "</tr>\n",
       "<tr>\n",
       "  <th>Model:</th>                   <td>OLS</td>       <th>  Adj. R-squared:    </th> <td>   0.695</td>\n",
       "</tr>\n",
       "<tr>\n",
       "  <th>Method:</th>             <td>Least Squares</td>  <th>  F-statistic:       </th> <td>   38.20</td>\n",
       "</tr>\n",
       "<tr>\n",
       "  <th>Date:</th>             <td>Sun, 04 Jul 2021</td> <th>  Prob (F-statistic):</th> <td>2.80e-33</td>\n",
       "</tr>\n",
       "<tr>\n",
       "  <th>Time:</th>                 <td>14:04:53</td>     <th>  Log-Likelihood:    </th> <td> -1606.7</td>\n",
       "</tr>\n",
       "<tr>\n",
       "  <th>No. Observations:</th>      <td>   148</td>      <th>  AIC:               </th> <td>   3233.</td>\n",
       "</tr>\n",
       "<tr>\n",
       "  <th>Df Residuals:</th>          <td>   138</td>      <th>  BIC:               </th> <td>   3263.</td>\n",
       "</tr>\n",
       "<tr>\n",
       "  <th>Df Model:</th>              <td>     9</td>      <th>                     </th>     <td> </td>   \n",
       "</tr>\n",
       "<tr>\n",
       "  <th>Covariance Type:</th>      <td>nonrobust</td>    <th>                     </th>     <td> </td>   \n",
       "</tr>\n",
       "</table>\n",
       "<table class=\"simpletable\">\n",
       "<tr>\n",
       "      <td></td>         <th>coef</th>     <th>std err</th>      <th>t</th>      <th>P>|t|</th>  <th>[0.025</th>    <th>0.975]</th>  \n",
       "</tr>\n",
       "<tr>\n",
       "  <th>const</th>     <td>-2538.6485</td> <td> 5923.119</td> <td>   -0.429</td> <td> 0.669</td> <td>-1.43e+04</td> <td> 9173.155</td>\n",
       "</tr>\n",
       "<tr>\n",
       "  <th>area</th>      <td>    4.0826</td> <td>    0.736</td> <td>    5.547</td> <td> 0.000</td> <td>    2.627</td> <td>    5.538</td>\n",
       "</tr>\n",
       "<tr>\n",
       "  <th>rooms</th>     <td> 4134.5180</td> <td> 1878.294</td> <td>    2.201</td> <td> 0.029</td> <td>  420.561</td> <td> 7848.475</td>\n",
       "</tr>\n",
       "<tr>\n",
       "  <th>bathroom</th>  <td> 9756.7516</td> <td> 2947.169</td> <td>    3.311</td> <td> 0.001</td> <td> 3929.304</td> <td> 1.56e+04</td>\n",
       "</tr>\n",
       "<tr>\n",
       "  <th>floors</th>    <td> 6671.8834</td> <td> 1629.612</td> <td>    4.094</td> <td> 0.000</td> <td> 3449.646</td> <td> 9894.121</td>\n",
       "</tr>\n",
       "<tr>\n",
       "  <th>driveway</th>  <td> 4671.8738</td> <td> 3468.713</td> <td>    1.347</td> <td> 0.180</td> <td>-2186.825</td> <td> 1.15e+04</td>\n",
       "</tr>\n",
       "<tr>\n",
       "  <th>cellar</th>    <td> 4688.8612</td> <td> 2480.340</td> <td>    1.890</td> <td> 0.061</td> <td> -215.524</td> <td> 9593.246</td>\n",
       "</tr>\n",
       "<tr>\n",
       "  <th>air</th>       <td>  1.16e+04</td> <td> 2947.434</td> <td>    3.934</td> <td> 0.000</td> <td> 5767.107</td> <td> 1.74e+04</td>\n",
       "</tr>\n",
       "<tr>\n",
       "  <th>situation</th> <td> 8949.1213</td> <td> 3049.028</td> <td>    2.935</td> <td> 0.004</td> <td> 2920.268</td> <td>  1.5e+04</td>\n",
       "</tr>\n",
       "<tr>\n",
       "  <th>garage</th>    <td> 2228.3922</td> <td> 1695.380</td> <td>    1.314</td> <td> 0.191</td> <td>-1123.888</td> <td> 5580.673</td>\n",
       "</tr>\n",
       "</table>\n",
       "<table class=\"simpletable\">\n",
       "<tr>\n",
       "  <th>Omnibus:</th>       <td>16.745</td> <th>  Durbin-Watson:     </th> <td>   1.940</td>\n",
       "</tr>\n",
       "<tr>\n",
       "  <th>Prob(Omnibus):</th> <td> 0.000</td> <th>  Jarque-Bera (JB):  </th> <td>  27.055</td>\n",
       "</tr>\n",
       "<tr>\n",
       "  <th>Skew:</th>          <td> 0.573</td> <th>  Prob(JB):          </th> <td>1.33e-06</td>\n",
       "</tr>\n",
       "<tr>\n",
       "  <th>Kurtosis:</th>      <td> 4.753</td> <th>  Cond. No.          </th> <td>3.09e+04</td>\n",
       "</tr>\n",
       "</table><br/><br/>Notes:<br/>[1] Standard Errors assume that the covariance matrix of the errors is correctly specified.<br/>[2] The condition number is large, 3.09e+04. This might indicate that there are<br/>strong multicollinearity or other numerical problems."
      ],
      "text/plain": [
       "<class 'statsmodels.iolib.summary.Summary'>\n",
       "\"\"\"\n",
       "                            OLS Regression Results                            \n",
       "==============================================================================\n",
       "Dep. Variable:                  price   R-squared:                       0.714\n",
       "Model:                            OLS   Adj. R-squared:                  0.695\n",
       "Method:                 Least Squares   F-statistic:                     38.20\n",
       "Date:                Sun, 04 Jul 2021   Prob (F-statistic):           2.80e-33\n",
       "Time:                        14:04:53   Log-Likelihood:                -1606.7\n",
       "No. Observations:                 148   AIC:                             3233.\n",
       "Df Residuals:                     138   BIC:                             3263.\n",
       "Df Model:                           9                                         \n",
       "Covariance Type:            nonrobust                                         \n",
       "==============================================================================\n",
       "                 coef    std err          t      P>|t|      [0.025      0.975]\n",
       "------------------------------------------------------------------------------\n",
       "const      -2538.6485   5923.119     -0.429      0.669   -1.43e+04    9173.155\n",
       "area           4.0826      0.736      5.547      0.000       2.627       5.538\n",
       "rooms       4134.5180   1878.294      2.201      0.029     420.561    7848.475\n",
       "bathroom    9756.7516   2947.169      3.311      0.001    3929.304    1.56e+04\n",
       "floors      6671.8834   1629.612      4.094      0.000    3449.646    9894.121\n",
       "driveway    4671.8738   3468.713      1.347      0.180   -2186.825    1.15e+04\n",
       "cellar      4688.8612   2480.340      1.890      0.061    -215.524    9593.246\n",
       "air          1.16e+04   2947.434      3.934      0.000    5767.107    1.74e+04\n",
       "situation   8949.1213   3049.028      2.935      0.004    2920.268     1.5e+04\n",
       "garage      2228.3922   1695.380      1.314      0.191   -1123.888    5580.673\n",
       "==============================================================================\n",
       "Omnibus:                       16.745   Durbin-Watson:                   1.940\n",
       "Prob(Omnibus):                  0.000   Jarque-Bera (JB):               27.055\n",
       "Skew:                           0.573   Prob(JB):                     1.33e-06\n",
       "Kurtosis:                       4.753   Cond. No.                     3.09e+04\n",
       "==============================================================================\n",
       "\n",
       "Notes:\n",
       "[1] Standard Errors assume that the covariance matrix of the errors is correctly specified.\n",
       "[2] The condition number is large, 3.09e+04. This might indicate that there are\n",
       "strong multicollinearity or other numerical problems.\n",
       "\"\"\""
      ]
     },
     "execution_count": 66,
     "metadata": {},
     "output_type": "execute_result"
    }
   ],
   "source": [
    "res.fit().summary()"
   ]
  },
  {
   "cell_type": "code",
   "execution_count": 81,
   "id": "611f15d0",
   "metadata": {},
   "outputs": [],
   "source": [
    "X = house[['area', 'rooms', 'bathroom', 'floors', 'driveway', \n",
    "       'cellar',  'air',  'situation','garage']]\n",
    "\n",
    "y = house['price']\n",
    "\n",
    "\n",
    "from sklearn.preprocessing import StandardScaler\n",
    "scaler = StandardScaler()\n",
    "scaler.fit(X)\n",
    "x_scaled = scaler.transform(X)\n"
   ]
  },
  {
   "cell_type": "code",
   "execution_count": 82,
   "id": "330de9ee",
   "metadata": {},
   "outputs": [],
   "source": [
    "X_train, X_test, y_train, y_test = train_test_split( x_scaled, y, test_size=0.3, random_state=101)\n"
   ]
  },
  {
   "cell_type": "code",
   "execution_count": 83,
   "id": "fcb57124",
   "metadata": {},
   "outputs": [],
   "source": [
    "X_endog = sm.add_constant(X_test)"
   ]
  },
  {
   "cell_type": "code",
   "execution_count": 84,
   "id": "bd8727ac",
   "metadata": {},
   "outputs": [
    {
     "data": {
      "text/plain": [
       "<statsmodels.regression.linear_model.RegressionResultsWrapper at 0x7fb111028700>"
      ]
     },
     "execution_count": 84,
     "metadata": {},
     "output_type": "execute_result"
    }
   ],
   "source": [
    "res = sm.OLS(y_test, X_endog)\n",
    "res.fit()"
   ]
  },
  {
   "cell_type": "code",
   "execution_count": 85,
   "id": "17c6504e",
   "metadata": {},
   "outputs": [
    {
     "data": {
      "text/html": [
       "<table class=\"simpletable\">\n",
       "<caption>OLS Regression Results</caption>\n",
       "<tr>\n",
       "  <th>Dep. Variable:</th>          <td>price</td>      <th>  R-squared:         </th> <td>   0.714</td>\n",
       "</tr>\n",
       "<tr>\n",
       "  <th>Model:</th>                   <td>OLS</td>       <th>  Adj. R-squared:    </th> <td>   0.695</td>\n",
       "</tr>\n",
       "<tr>\n",
       "  <th>Method:</th>             <td>Least Squares</td>  <th>  F-statistic:       </th> <td>   38.20</td>\n",
       "</tr>\n",
       "<tr>\n",
       "  <th>Date:</th>             <td>Sun, 04 Jul 2021</td> <th>  Prob (F-statistic):</th> <td>2.80e-33</td>\n",
       "</tr>\n",
       "<tr>\n",
       "  <th>Time:</th>                 <td>14:09:09</td>     <th>  Log-Likelihood:    </th> <td> -1606.7</td>\n",
       "</tr>\n",
       "<tr>\n",
       "  <th>No. Observations:</th>      <td>   148</td>      <th>  AIC:               </th> <td>   3233.</td>\n",
       "</tr>\n",
       "<tr>\n",
       "  <th>Df Residuals:</th>          <td>   138</td>      <th>  BIC:               </th> <td>   3263.</td>\n",
       "</tr>\n",
       "<tr>\n",
       "  <th>Df Model:</th>              <td>     9</td>      <th>                     </th>     <td> </td>   \n",
       "</tr>\n",
       "<tr>\n",
       "  <th>Covariance Type:</th>      <td>nonrobust</td>    <th>                     </th>     <td> </td>   \n",
       "</tr>\n",
       "</table>\n",
       "<table class=\"simpletable\">\n",
       "<tr>\n",
       "    <td></td>       <th>coef</th>     <th>std err</th>      <th>t</th>      <th>P>|t|</th>  <th>[0.025</th>    <th>0.975]</th>  \n",
       "</tr>\n",
       "<tr>\n",
       "  <th>const</th> <td> 6.601e+04</td> <td> 1118.313</td> <td>   59.030</td> <td> 0.000</td> <td> 6.38e+04</td> <td> 6.82e+04</td>\n",
       "</tr>\n",
       "<tr>\n",
       "  <th>x1</th>    <td> 7166.9732</td> <td> 1291.969</td> <td>    5.547</td> <td> 0.000</td> <td> 4612.359</td> <td> 9721.588</td>\n",
       "</tr>\n",
       "<tr>\n",
       "  <th>x2</th>    <td> 2683.7676</td> <td> 1219.224</td> <td>    2.201</td> <td> 0.029</td> <td>  272.991</td> <td> 5094.544</td>\n",
       "</tr>\n",
       "<tr>\n",
       "  <th>x3</th>    <td> 4175.1070</td> <td> 1261.152</td> <td>    3.311</td> <td> 0.001</td> <td> 1681.427</td> <td> 6668.787</td>\n",
       "</tr>\n",
       "<tr>\n",
       "  <th>x4</th>    <td> 5782.3812</td> <td> 1412.351</td> <td>    4.094</td> <td> 0.000</td> <td> 2989.735</td> <td> 8575.027</td>\n",
       "</tr>\n",
       "<tr>\n",
       "  <th>x5</th>    <td> 1630.6599</td> <td> 1210.712</td> <td>    1.347</td> <td> 0.180</td> <td> -763.284</td> <td> 4024.604</td>\n",
       "</tr>\n",
       "<tr>\n",
       "  <th>x6</th>    <td> 2219.1543</td> <td> 1173.901</td> <td>    1.890</td> <td> 0.061</td> <td> -102.004</td> <td> 4540.312</td>\n",
       "</tr>\n",
       "<tr>\n",
       "  <th>x7</th>    <td> 5383.3297</td> <td> 1368.426</td> <td>    3.934</td> <td> 0.000</td> <td> 2677.536</td> <td> 8089.124</td>\n",
       "</tr>\n",
       "<tr>\n",
       "  <th>x8</th>    <td> 3737.8911</td> <td> 1273.525</td> <td>    2.935</td> <td> 0.004</td> <td> 1219.745</td> <td> 6256.038</td>\n",
       "</tr>\n",
       "<tr>\n",
       "  <th>x9</th>    <td> 1747.6352</td> <td> 1329.616</td> <td>    1.314</td> <td> 0.191</td> <td> -881.419</td> <td> 4376.689</td>\n",
       "</tr>\n",
       "</table>\n",
       "<table class=\"simpletable\">\n",
       "<tr>\n",
       "  <th>Omnibus:</th>       <td>16.745</td> <th>  Durbin-Watson:     </th> <td>   1.940</td>\n",
       "</tr>\n",
       "<tr>\n",
       "  <th>Prob(Omnibus):</th> <td> 0.000</td> <th>  Jarque-Bera (JB):  </th> <td>  27.055</td>\n",
       "</tr>\n",
       "<tr>\n",
       "  <th>Skew:</th>          <td> 0.573</td> <th>  Prob(JB):          </th> <td>1.33e-06</td>\n",
       "</tr>\n",
       "<tr>\n",
       "  <th>Kurtosis:</th>      <td> 4.753</td> <th>  Cond. No.          </th> <td>    2.65</td>\n",
       "</tr>\n",
       "</table><br/><br/>Notes:<br/>[1] Standard Errors assume that the covariance matrix of the errors is correctly specified."
      ],
      "text/plain": [
       "<class 'statsmodels.iolib.summary.Summary'>\n",
       "\"\"\"\n",
       "                            OLS Regression Results                            \n",
       "==============================================================================\n",
       "Dep. Variable:                  price   R-squared:                       0.714\n",
       "Model:                            OLS   Adj. R-squared:                  0.695\n",
       "Method:                 Least Squares   F-statistic:                     38.20\n",
       "Date:                Sun, 04 Jul 2021   Prob (F-statistic):           2.80e-33\n",
       "Time:                        14:09:09   Log-Likelihood:                -1606.7\n",
       "No. Observations:                 148   AIC:                             3233.\n",
       "Df Residuals:                     138   BIC:                             3263.\n",
       "Df Model:                           9                                         \n",
       "Covariance Type:            nonrobust                                         \n",
       "==============================================================================\n",
       "                 coef    std err          t      P>|t|      [0.025      0.975]\n",
       "------------------------------------------------------------------------------\n",
       "const       6.601e+04   1118.313     59.030      0.000    6.38e+04    6.82e+04\n",
       "x1          7166.9732   1291.969      5.547      0.000    4612.359    9721.588\n",
       "x2          2683.7676   1219.224      2.201      0.029     272.991    5094.544\n",
       "x3          4175.1070   1261.152      3.311      0.001    1681.427    6668.787\n",
       "x4          5782.3812   1412.351      4.094      0.000    2989.735    8575.027\n",
       "x5          1630.6599   1210.712      1.347      0.180    -763.284    4024.604\n",
       "x6          2219.1543   1173.901      1.890      0.061    -102.004    4540.312\n",
       "x7          5383.3297   1368.426      3.934      0.000    2677.536    8089.124\n",
       "x8          3737.8911   1273.525      2.935      0.004    1219.745    6256.038\n",
       "x9          1747.6352   1329.616      1.314      0.191    -881.419    4376.689\n",
       "==============================================================================\n",
       "Omnibus:                       16.745   Durbin-Watson:                   1.940\n",
       "Prob(Omnibus):                  0.000   Jarque-Bera (JB):               27.055\n",
       "Skew:                           0.573   Prob(JB):                     1.33e-06\n",
       "Kurtosis:                       4.753   Cond. No.                         2.65\n",
       "==============================================================================\n",
       "\n",
       "Notes:\n",
       "[1] Standard Errors assume that the covariance matrix of the errors is correctly specified.\n",
       "\"\"\""
      ]
     },
     "execution_count": 85,
     "metadata": {},
     "output_type": "execute_result"
    }
   ],
   "source": [
    "res.fit().summary()"
   ]
  },
  {
   "cell_type": "code",
   "execution_count": 86,
   "id": "e4de92af",
   "metadata": {},
   "outputs": [
    {
     "data": {
      "text/plain": [
       "array([[-0.26599841,  1.6999336 , -0.56407607, ...,  1.47670077,\n",
       "         1.85511224,  1.77167681],\n",
       "       [ 2.01255848, -1.38119605, -0.56407607, ..., -0.67718526,\n",
       "        -0.53905094,  0.49658678],\n",
       "       [-0.419801  ,  0.15936877,  1.77281052, ..., -0.67718526,\n",
       "        -0.53905094,  1.77167681],\n",
       "       ...,\n",
       "       [ 0.95872592,  1.6999336 ,  1.77281052, ...,  1.47670077,\n",
       "         1.85511224,  0.49658678],\n",
       "       [-1.80402431,  0.15936877, -0.56407607, ..., -0.67718526,\n",
       "        -0.53905094, -0.77850324],\n",
       "       [ 0.98720788,  0.15936877, -0.56407607, ..., -0.67718526,\n",
       "         1.85511224, -0.77850324]])"
      ]
     },
     "execution_count": 86,
     "metadata": {},
     "output_type": "execute_result"
    }
   ],
   "source": [
    "X_train"
   ]
  },
  {
   "cell_type": "code",
   "execution_count": null,
   "id": "2edcb3ad",
   "metadata": {},
   "outputs": [],
   "source": []
  }
 ],
 "metadata": {
  "kernelspec": {
   "display_name": "Python 3",
   "language": "python",
   "name": "python3"
  },
  "language_info": {
   "codemirror_mode": {
    "name": "ipython",
    "version": 3
   },
   "file_extension": ".py",
   "mimetype": "text/x-python",
   "name": "python",
   "nbconvert_exporter": "python",
   "pygments_lexer": "ipython3",
   "version": "3.8.8"
  }
 },
 "nbformat": 4,
 "nbformat_minor": 5
}
