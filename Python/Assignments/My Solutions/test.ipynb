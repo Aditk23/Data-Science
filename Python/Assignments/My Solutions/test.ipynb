{
 "cells": [
  {
   "cell_type": "code",
   "execution_count": 55,
   "id": "74174443",
   "metadata": {},
   "outputs": [],
   "source": [
    "#input: hello world! 123\n",
    "#Output: letters: 10 digits: 3 special: 1"
   ]
  },
  {
   "cell_type": "code",
   "execution_count": 56,
   "id": "bce9fb49",
   "metadata": {},
   "outputs": [
    {
     "name": "stdout",
     "output_type": "stream",
     "text": [
      "Enter String :  hello world! 123\n",
      "Letters: 10 Digits: 3 SC: 1\n"
     ]
    }
   ],
   "source": [
    "# Input string \n",
    "inp = input(\"Enter String : \")\n",
    "\n",
    "# Declared variable for letter, digits and special chars\n",
    "l=d=sc = 0\n",
    "\n",
    "#Removed white space\n",
    "new_inp = \"\".join(inp.split())\n",
    "\n",
    "# For loop for calculation\n",
    "for i in new_inp:\n",
    "    if(i.isalpha()):\n",
    "        l=l+1\n",
    "    elif(i.isdigit()):\n",
    "        d=d+1\n",
    "    else:\n",
    "        sc=sc+1\n",
    "\n",
    "print(f'Letters: {l} Digits: {d} SC: {sc}')"
   ]
  },
  {
   "cell_type": "code",
   "execution_count": 57,
   "id": "c6e0b62e",
   "metadata": {},
   "outputs": [],
   "source": [
    "#Input: 9\n",
    "#Output: 11106\n"
   ]
  },
  {
   "cell_type": "code",
   "execution_count": 58,
   "id": "10124c9e",
   "metadata": {},
   "outputs": [
    {
     "name": "stdout",
     "output_type": "stream",
     "text": [
      "Enter number : 1\n",
      "1234\n"
     ]
    }
   ],
   "source": [
    "inp = input(\"Enter number : \")\n",
    "print(int(inp) + int(inp*2) + int(inp*3) + int(inp*4))"
   ]
  },
  {
   "cell_type": "code",
   "execution_count": null,
   "id": "ddb18442",
   "metadata": {},
   "outputs": [],
   "source": [
    "#Input: 1,2,3,4,5,6,7,8,9\n",
    "#Output: 1,9, 25, 49, 81\n"
   ]
  },
  {
   "cell_type": "code",
   "execution_count": 60,
   "id": "67fa745f",
   "metadata": {},
   "outputs": [
    {
     "name": "stdout",
     "output_type": "stream",
     "text": [
      "Enter Sequence : 1,2,3,4,5,6\n",
      "[1, 9, 25]\n"
     ]
    }
   ],
   "source": [
    "# Splitted input by comma\n",
    "lst = input(\"Enter Sequence : \").split(',')\n",
    "\n",
    "new_lst = []\n",
    "\n",
    "# Created new list which contains only odd numbers\n",
    "for i in lst:\n",
    "    if int(i)%2!=0:\n",
    "        new_lst.append(int(i))\n",
    "\n",
    "# Used list comprehension to calculate square of numbers\n",
    "res = [i**2 for i in new_lst]\n",
    "print(res)"
   ]
  },
  {
   "cell_type": "code",
   "execution_count": 61,
   "id": "88d6cdc3",
   "metadata": {},
   "outputs": [],
   "source": [
    "#Input: list1 = [2, 9, 5, 64, 15,10]\n",
    "#Output: [9, 5,15]"
   ]
  },
  {
   "cell_type": "code",
   "execution_count": 62,
   "id": "bfb1e32d",
   "metadata": {},
   "outputs": [
    {
     "name": "stdout",
     "output_type": "stream",
     "text": [
      "[9, 5, 15]\n"
     ]
    }
   ],
   "source": [
    "# Defined function to calculate odd number\n",
    "def odd(lst):\n",
    "    res = []\n",
    "    for i in lst:\n",
    "        if i%2!=0:\n",
    "            res.append(i)\n",
    "    return res\n",
    "\n",
    "# Function called\n",
    "print(odd([2, 9, 5, 64, 15,10]))\n"
   ]
  },
  {
   "cell_type": "code",
   "execution_count": 66,
   "id": "f6c4ac71",
   "metadata": {},
   "outputs": [],
   "source": [
    "s = pd.Series((1,2,3))\n",
    "n = np.array(s)"
   ]
  },
  {
   "cell_type": "code",
   "execution_count": 67,
   "id": "21ef6259",
   "metadata": {},
   "outputs": [
    {
     "data": {
      "text/plain": [
       "array([1, 2, 3])"
      ]
     },
     "execution_count": 67,
     "metadata": {},
     "output_type": "execute_result"
    }
   ],
   "source": [
    "n"
   ]
  },
  {
   "cell_type": "code",
   "execution_count": null,
   "id": "47c52064",
   "metadata": {},
   "outputs": [],
   "source": []
  }
 ],
 "metadata": {
  "kernelspec": {
   "display_name": "Python 3",
   "language": "python",
   "name": "python3"
  },
  "language_info": {
   "codemirror_mode": {
    "name": "ipython",
    "version": 3
   },
   "file_extension": ".py",
   "mimetype": "text/x-python",
   "name": "python",
   "nbconvert_exporter": "python",
   "pygments_lexer": "ipython3",
   "version": "3.8.8"
  }
 },
 "nbformat": 4,
 "nbformat_minor": 5
}
