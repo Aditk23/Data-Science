{
 "cells": [
  {
   "cell_type": "code",
   "execution_count": 2,
   "metadata": {
    "ExecuteTime": {
     "end_time": "2021-05-01T03:35:49.131118Z",
     "start_time": "2021-05-01T03:35:49.119666Z"
    }
   },
   "outputs": [
    {
     "name": "stdout",
     "output_type": "stream",
     "text": [
      "['This', 'is', 'Python', 'class']\n"
     ]
    }
   ],
   "source": [
    "my_str = 'This is Python class'\n",
    "str1 = ''\n",
    "lst = []\n",
    "for i in range(len(my_str)):\n",
    "    if i == len(my_str)-1:\n",
    "        str1 += my_str[i]\n",
    "        lst += [str1]\n",
    "    elif my_str[i] == ' ':\n",
    "        lst += [str1]\n",
    "        str1 = ''\n",
    "    else:\n",
    "        str1 += my_str[i]\n",
    "print(lst)\n",
    "    "
   ]
  },
  {
   "cell_type": "code",
   "execution_count": 7,
   "metadata": {
    "ExecuteTime": {
     "end_time": "2021-05-01T03:39:43.338888Z",
     "start_time": "2021-05-01T03:39:43.326691Z"
    }
   },
   "outputs": [
    {
     "name": "stdout",
     "output_type": "stream",
     "text": [
      "True\n",
      "4456277552\n",
      "4456277552\n",
      "False\n",
      "4616166192\n",
      "4616166256\n"
     ]
    }
   ],
   "source": [
    "my_str1 = 'Python'\n",
    "my_str2 = 'Python'\n",
    "# is operator compares the memory address\n",
    "# Object reusablity of string - A-Z, a-z, 0-9, _\n",
    "print(my_str1 is my_str2)\n",
    "print(id(my_str1))\n",
    "print(id(my_str2))\n",
    "\n",
    "my_str3 = 'Python$'\n",
    "my_str4 = 'Python$'\n",
    "print(my_str3 is my_str4)\n",
    "print(id(my_str3))\n",
    "print(id(my_str4))"
   ]
  },
  {
   "cell_type": "code",
   "execution_count": null,
   "metadata": {},
   "outputs": [],
   "source": [
    "# W. A P. which takes one number from 0 to 9 from the user and prints it in the word. And if the word is not \n",
    "# from 0 to 9 then it should print that number is outside of the range and program should exit. \n",
    "# For exapmple:- #input = 1 #output = one\n",
    "\n",
    "my_inp = int(input('Enter a number in range 0-9: '))\n",
    "if my_inp == 0:\n",
    "    print(\"Zero\")\n",
    "elif my_inp == 1:\n",
    "    print(\"one\")\n",
    "elif my_inp == 2:\n",
    "    print(\"Two\")\n",
    "    .\n",
    "    .\n",
    "    .\n",
    "elif my_inp == 9:\n",
    "    print(\"Nine\")\n",
    "else:\n",
    "    print('Number is outside of range')"
   ]
  },
  {
   "cell_type": "code",
   "execution_count": null,
   "metadata": {},
   "outputs": [],
   "source": [
    "#Write a python program to find below output using loop:-\n",
    "\n",
    "#Input:- 'This is Python class', sep = 'is', \n",
    "#Output:- ['This', 'is', 'Python class']\n",
    "\n",
    "inp_str = 'This is Python class'\n",
    "sep = 'is'\n",
    "out_lst = []\n",
    "my_str = ''\n",
    "\n",
    "for i\n"
   ]
  },
  {
   "cell_type": "code",
   "execution_count": 9,
   "metadata": {
    "ExecuteTime": {
     "end_time": "2021-05-01T03:44:17.159630Z",
     "start_time": "2021-05-01T03:44:17.147236Z"
    }
   },
   "outputs": [
    {
     "name": "stdout",
     "output_type": "stream",
     "text": [
      "False\n"
     ]
    }
   ],
   "source": [
    "str1 = 'Python'\n",
    "str2 = 'Python'\n",
    "\n",
    "#Compare str1 and str2 and print False using equality operator (==, !=)\n",
    "print(str1 != str2)"
   ]
  },
  {
   "cell_type": "code",
   "execution_count": 23,
   "metadata": {
    "ExecuteTime": {
     "end_time": "2021-05-01T03:45:26.058892Z",
     "start_time": "2021-05-01T03:45:26.014172Z"
    }
   },
   "outputs": [],
   "source": [
    "# import random\n",
    "# lst = [10,20,30,40,50]\n",
    "# random.shuffle(lst)\n",
    "# print(lst)"
   ]
  },
  {
   "cell_type": "code",
   "execution_count": null,
   "metadata": {},
   "outputs": [],
   "source": [
    "# Tuple - \n",
    "# 1. Tuple is a collection of heterogeneous elements kept inside () separated by comma\n",
    "# small brackets are optional\n",
    "# 2. It is similar to list, but is is immutable\n",
    "# 3. It is a seq\n",
    "#     1. Indexing, slicing, concatenation, Repetition, Membership, length\n",
    "# 4. Tuple can have duplicate elements\n"
   ]
  },
  {
   "cell_type": "code",
   "execution_count": 41,
   "metadata": {
    "ExecuteTime": {
     "end_time": "2021-05-01T04:01:49.376965Z",
     "start_time": "2021-05-01T04:01:49.370938Z"
    }
   },
   "outputs": [],
   "source": [
    "# lst = [10,20,30,40]\n",
    "# tpl = (1,2,3,4)\n",
    "\n",
    "# Creating a tuple with single element\n",
    "# Comma is neccessary\n",
    "# tpl = (10,)\n",
    "# print(tpl, type(tpl))\n",
    "\n",
    "# Creating a tuple, if you know the elements in advance\n",
    "# tpl = 10, 10.20, 10+20j, 'Python', None, True, (1,2,3), [1,2,3]\n",
    "# print(tpl, type(tpl))\n",
    "\n",
    "# Creating a tuple using tuple function - tuple(iterable) \n",
    "# iterable - __iter__ - string, list, tuple, dictionary, set\n",
    "# tpl1 = tuple(['Python'])\n",
    "# print(tpl1, type(tpl1))\n",
    "# tpl2 = tuple([10,20,30,40])\n",
    "# print(tpl2, type(tpl2))\n",
    "# tpl3 = tuple((10,20,30,40))\n",
    "# print(tpl3, type(tpl3))\n",
    "# tpl4 = tuple({1:10,2:20,3:30,4:40})\n",
    "# print(tpl4, type(tpl4))\n",
    "\n",
    "# Creating a tuple using eval()\n",
    "# tpl = eval(input('Enter a tuple: '))\n",
    "# print(tpl, type(tuple))\n",
    "# print(tpl[0])\n",
    "\n",
    "\n",
    "\n",
    "\n"
   ]
  },
  {
   "cell_type": "code",
   "execution_count": 60,
   "metadata": {
    "ExecuteTime": {
     "end_time": "2021-05-01T04:09:32.073363Z",
     "start_time": "2021-05-01T04:09:32.062585Z"
    }
   },
   "outputs": [
    {
     "name": "stdout",
     "output_type": "stream",
     "text": [
      "8\n"
     ]
    }
   ],
   "source": [
    "# Tuple is a seq\n",
    "tpl = (10, 10.20, 10+20j, 'Python', None, True, (1,2,3), [1,2,3])\n",
    "# Idexing\n",
    "# print(tpl[0])\n",
    "# print(tpl[-len(tpl)])\n",
    "\n",
    "# print(tpl[-1])\n",
    "# print(tpl[len(tpl)-1])\n",
    "\n",
    "# Slicing\n",
    "# print(tpl[2:5])\n",
    "# print(tpl)\n",
    "\n",
    "# Slicing in reverse order\n",
    "# print(tpl[4:1:-1])\n",
    "# print(tpl)\n",
    "\n",
    "# reversing a tuple\n",
    "# print(tpl[::-1])\n",
    "\n",
    "# print(tpl[::-2])\n",
    "\n",
    "# print(tpl[::2])\n",
    "\n",
    "# Concatenation on tuple - +\n",
    "# Both the operands should be tuple type\n",
    "# tpl1 = (1,2,3,4)\n",
    "# print(tpl + tpl1)\n",
    "# print(tpl)\n",
    "# print(tpl1)\n",
    "# print(tpl + [1,2,3])\n",
    "\n",
    "# Repetition of tuple - *\n",
    "# One operand should be tuple and other should be int\n",
    "# print(tpl * 3)\n",
    "\n",
    "# Membership - in, not in\n",
    "tpl = (10, 10.20, 10+20j, 'Python', None, True, (1,2,3), [1,2,3])\n",
    "# print('Python' in tpl)\n",
    "# print('Python' not in tpl)\n",
    "\n",
    "# Length - to find how many elements inside a tuple\n",
    "# print(len(tpl))\n",
    "\n"
   ]
  },
  {
   "cell_type": "code",
   "execution_count": 68,
   "metadata": {
    "ExecuteTime": {
     "end_time": "2021-05-01T04:15:47.265647Z",
     "start_time": "2021-05-01T04:15:47.255988Z"
    }
   },
   "outputs": [
    {
     "name": "stdout",
     "output_type": "stream",
     "text": [
      "5\n",
      "7\n"
     ]
    }
   ],
   "source": [
    "# Methods in tuple\n",
    "tpl = (10.20, 10.20, 10+20j, 'Python',10.20, None, True, 10.20,(1,2,3), 10.20, [1,2,3])\n",
    "# print(dir(tpl))\n",
    "# 'count', 'index'\n",
    "# print(tpl.count(10.20))\n",
    "# print(tpl.index(10.20, 5))\n",
    "\n",
    "\n"
   ]
  },
  {
   "cell_type": "code",
   "execution_count": 67,
   "metadata": {
    "ExecuteTime": {
     "end_time": "2021-05-01T04:15:20.314326Z",
     "start_time": "2021-05-01T04:15:20.310968Z"
    }
   },
   "outputs": [],
   "source": [
    "# Tuple is immutable\n",
    "# You can not make changes to existing tuple object\n",
    "# tpl = (10, 10.20, 10+20j, 'Python', None, True, (1,2,3), [1,2,3])\n",
    "# tpl[0] = 111\n",
    "# print(tpl)"
   ]
  },
  {
   "cell_type": "code",
   "execution_count": 76,
   "metadata": {
    "ExecuteTime": {
     "end_time": "2021-05-01T04:22:04.775665Z",
     "start_time": "2021-05-01T04:22:04.758168Z"
    }
   },
   "outputs": [
    {
     "name": "stdout",
     "output_type": "stream",
     "text": [
      "10.2\n",
      "10.2\n",
      "(10+20j)\n",
      "Python\n",
      "10.2\n",
      "None\n",
      "True\n",
      "10.2\n"
     ]
    }
   ],
   "source": [
    "# Tuple packing and unpacking\n",
    "\n",
    "# Packing - assigning multiple values to a single variable\n",
    "a = 10\n",
    "b = 10.20\n",
    "c = 10+20j\n",
    "d = 'Python'\n",
    "e = True\n",
    "f = [1,2,3,4]\n",
    "\n",
    "# tpl = a,b,c,d,e,f   # Tuple packing\n",
    "# print(tpl, type(tpl))\n",
    "\n",
    "# Unpacking - assigning a tuple to multiple variables\n",
    "# No. of values and no. of variables should match\n",
    "\n",
    "\n",
    "tpl = (10.20, 10.20, 10+20j, 'Python',10.20, None, True, 10.20)\n",
    "m,n,o,p,q,r,s,t = tpl    # Tuple unpacking\n",
    "print(m)\n",
    "print(n)\n",
    "print(o)\n",
    "print(p)\n",
    "print(q)\n",
    "print(r)\n",
    "print(s)\n",
    "print(t)\n",
    "\n",
    "\n",
    "\n",
    "\n"
   ]
  },
  {
   "cell_type": "code",
   "execution_count": 83,
   "metadata": {
    "ExecuteTime": {
     "end_time": "2021-05-01T04:27:20.812637Z",
     "start_time": "2021-05-01T04:27:20.800580Z"
    }
   },
   "outputs": [
    {
     "data": {
      "text/plain": [
       "[[0, 0, 0, 0, 0],\n",
       " [0, 1, 2, 3, 4],\n",
       " [0, 2, 4, 6, 8],\n",
       " [0, 3, 6, 9, 12],\n",
       " [0, 4, 8, 12, 16]]"
      ]
     },
     "execution_count": 83,
     "metadata": {},
     "output_type": "execute_result"
    }
   ],
   "source": [
    "# List comprehension\n",
    "# Syntax - [expr for loop if cond]\n",
    "\n",
    "# Create a list of square of all numbers from 1 to 10\n",
    "# [i*i for i in range(1, 11)]\n",
    "\n",
    "# Create a list of square of all even numbers from 1 to 10\n",
    "# [i*i for i in range(1, 11) if i%2 == 0]\n",
    "\n",
    "# [[[i*j for j in range(5)]for i in range(5)]for k in range]\n"
   ]
  },
  {
   "cell_type": "code",
   "execution_count": 92,
   "metadata": {
    "ExecuteTime": {
     "end_time": "2021-05-01T04:47:15.200117Z",
     "start_time": "2021-05-01T04:47:15.187904Z"
    }
   },
   "outputs": [
    {
     "name": "stdout",
     "output_type": "stream",
     "text": [
      "(10, 20, 30, 333, 40, 50, 60)\n"
     ]
    }
   ],
   "source": [
    "# Tuple comprehension creates a generator\n",
    "\n",
    "# (i for i in range(5))\n",
    "\n",
    "\n",
    "lst = ['abc@gmail.com', 'pqrst@yahoo.com', 'mnopq@hotmail.com', 'xyz@rediffmail.com']\n",
    "\n",
    "# 1. use for loop\n",
    "# ['yahoo.com', 'hotmail.com']\n",
    "# out_lst = []\n",
    "# for email in lst:\n",
    "#     if len(email[:email.index('@')]) > 3:\n",
    "#         out_lst.append(email[email.index('@')+1:])\n",
    "# print(out_lst)\n",
    "    \n",
    "[email[email.index('@')+1:] for email in lst if len(email[:email.index('@')]) > 3]\n",
    "\n",
    "\n",
    "\n",
    "\n",
    "# 1. use list comprehension\n",
    "# ['pqrst', 'mnopq']\n",
    "\n",
    "[email[:email.index('@')] for email in lst if len(email[:email.index('@')]) > 3]\n",
    "\n",
    "tpl = (10,20,30,40,50,60)\n",
    "# output = (10,20,30, 333, 40,50,60)\n",
    "\n",
    "lst = list(tpl)\n",
    "lst.insert(3, 333)\n",
    "print(tuple(lst))\n",
    "\n",
    "\n",
    "\n",
    "\n"
   ]
  },
  {
   "cell_type": "code",
   "execution_count": 93,
   "metadata": {
    "ExecuteTime": {
     "end_time": "2021-05-01T04:49:44.915747Z",
     "start_time": "2021-05-01T04:49:44.909132Z"
    }
   },
   "outputs": [
    {
     "name": "stdout",
     "output_type": "stream",
     "text": [
      "{1: 11, 2: 222, 3: 333, 4: 444} <class 'dict'>\n"
     ]
    }
   ],
   "source": [
    "# Dictionary - A collection of key value pair kept inside {} separated by comma\n",
    "\n",
    "# d = {1:11, 2:222, 3:333, 4:444}\n",
    "# print(d, type(d))\n",
    "\n",
    "# Key, value pair is called an item, element\n",
    "# Key value pair are separated by :\n",
    "# Items are separated by comma\n",
    "# {} are mandatory, \n",
    "# Key can be only immutable\n",
    "# Value can be anything\n",
    "# Key can not be duplicated\n",
    "# Dictionary is not a sequence\n",
    "    # Operations like indexing, slicing, concatenation, repetition, are not allowed\n",
    "# Dictionary is mutable - You can modify the dictionary\n",
    "\n",
    "\n"
   ]
  },
  {
   "cell_type": "code",
   "execution_count": 102,
   "metadata": {
    "ExecuteTime": {
     "end_time": "2021-05-01T05:00:13.985450Z",
     "start_time": "2021-05-01T05:00:13.977240Z"
    }
   },
   "outputs": [],
   "source": [
    "# Dictionary is used to store structured data \n",
    "# emp_info = [['ABC', 101, 10000], ['PQR', 102, 20000], ['XYZ', 103, 30000]]\n",
    "# print(emp_info[0][1])\n",
    "\n",
    "d = {101:{'name':'ABC', 'sal':20000}, 102:{'name':'PQR', 'sal':30000},103:{'name':'XYZ','sal': 40000}}\n",
    "# print(d[102]['sal'])\n",
    "# print(d[104])   # Raises key error if key is not available\n"
   ]
  },
  {
   "cell_type": "code",
   "execution_count": 104,
   "metadata": {
    "ExecuteTime": {
     "end_time": "2021-05-01T05:01:15.335908Z",
     "start_time": "2021-05-01T05:01:15.331626Z"
    }
   },
   "outputs": [],
   "source": [
    "# Key can be only immutable\n",
    "# d = {[1,2,3]:(1,2,3)}  # TypeError: unhashable type: 'list'\n",
    "\n"
   ]
  },
  {
   "cell_type": "code",
   "execution_count": 107,
   "metadata": {
    "ExecuteTime": {
     "end_time": "2021-05-01T05:02:21.519083Z",
     "start_time": "2021-05-01T05:02:21.512349Z"
    }
   },
   "outputs": [
    {
     "name": "stdout",
     "output_type": "stream",
     "text": [
      "{1: 300, 2: 'Python'}\n"
     ]
    }
   ],
   "source": [
    "# Key can not be duplicated\n",
    "d = {1:100, 2:200, True:300, 2:'Python'}\n",
    "print(d)\n",
    "\n",
    "# key.      value \n",
    "# 1         300\n",
    "# 2         'Python'\n",
    "\n",
    "\n",
    "\n"
   ]
  },
  {
   "cell_type": "code",
   "execution_count": 108,
   "metadata": {
    "ExecuteTime": {
     "end_time": "2021-05-01T05:04:15.122979Z",
     "start_time": "2021-05-01T05:04:15.112874Z"
    }
   },
   "outputs": [
    {
     "name": "stdout",
     "output_type": "stream",
     "text": [
      "Before the operation\n",
      "{101: {'name': 'ABC', 'sal': 20000}, 102: {'name': 'PQR', 'sal': 30000}, 103: {'name': 'XYZ', 'sal': 40000}} 4671456064\n",
      "After Operation\n",
      "{101: 'Random Value', 102: {'name': 'PQR', 'sal': 30000}, 103: {'name': 'XYZ', 'sal': 40000}} 4671456064\n"
     ]
    }
   ],
   "source": [
    "# Dictionary is mutable\n",
    "d = {101:{'name':'ABC', 'sal':20000}, 102:{'name':'PQR', 'sal':30000},103:{'name':'XYZ','sal': 40000}}\n",
    "print('Before the operation')\n",
    "print(d, id(d))\n",
    "d[101] = 'Random Value'\n",
    "print('After Operation')\n",
    "print(d, id(d))\n",
    "\n",
    "\n",
    "\n",
    "\n",
    "# key     value\n",
    "#         key     value\n",
    "# 101     'name'  'ABC'\n",
    "#         'sal'   20000\n",
    "# 102     'name'  'PQR'\n",
    "#         'sal'   30000\n",
    "# 103     'name'  'XYZ'\n",
    "#         'sal'   40000"
   ]
  },
  {
   "cell_type": "code",
   "execution_count": 148,
   "metadata": {
    "ExecuteTime": {
     "end_time": "2021-05-01T05:36:43.351652Z",
     "start_time": "2021-05-01T05:36:43.338857Z"
    }
   },
   "outputs": [],
   "source": [
    "# print(dir(dict))\n",
    " "
   ]
  },
  {
   "cell_type": "code",
   "execution_count": 114,
   "metadata": {
    "ExecuteTime": {
     "end_time": "2021-05-01T05:11:32.790796Z",
     "start_time": "2021-05-01T05:11:32.783669Z"
    }
   },
   "outputs": [
    {
     "name": "stdout",
     "output_type": "stream",
     "text": [
      "dict_keys([101, 102, 103])\n",
      "dict_values([{'name': 'ABC', 'sal': 20000}, {'name': 'PQR', 'sal': 30000}, {'name': 'XYZ', 'sal': 40000}])\n",
      "dict_items([(101, {'name': 'ABC', 'sal': 20000}), (102, {'name': 'PQR', 'sal': 30000}), (103, {'name': 'XYZ', 'sal': 40000})])\n"
     ]
    }
   ],
   "source": [
    "d = {101:{'name':'ABC', 'sal':20000}, 102:{'name':'PQR', 'sal':30000}, 103:{'name':'XYZ','sal': 40000}}\n",
    "# print(d[104])   # KeyError: 104\n",
    "\n",
    "# keys, values, items\n",
    "# print(d.keys())\n",
    "# print(d.values())\n",
    "# print(d.items())\n",
    "\n"
   ]
  },
  {
   "cell_type": "code",
   "execution_count": 122,
   "metadata": {
    "ExecuteTime": {
     "end_time": "2021-05-01T05:16:46.383428Z",
     "start_time": "2021-05-01T05:16:46.374058Z"
    }
   },
   "outputs": [
    {
     "name": "stdout",
     "output_type": "stream",
     "text": [
      "{'name': 'ABC', 'sal': 20000}\n",
      "None\n",
      "Key is not present\n",
      "{101: {'name': 'ABC', 'sal': 20000}, 102: {'name': 'PQR', 'sal': 30000}, 103: {'name': 'XYZ', 'sal': 40000}}\n"
     ]
    }
   ],
   "source": [
    "# Accessing any element from a dictionary - get, setdefault\n",
    "d = {101:{'name':'ABC', 'sal':20000}, 102:{'name':'PQR', 'sal':30000}, 103:{'name':'XYZ','sal': 40000}}\n",
    "\n",
    "# get\n",
    "# Signature: d.get(key, default=None, /)\n",
    "# Docstring: Return the value for key if key is in the dictionary, else default.\n",
    "\n",
    "\n",
    "print(d.get(101))   # If key is present - returns the value associated with it\n",
    "print(d.get(104))   # If key is not present - returns None\n",
    "\n",
    "# If key is not present and 2nd arguments is passed by user - returns 2nd arguments, but does not make any changes to the dictioanry\n",
    "print(d.get(104, 'Key is not present'))   \n",
    "print(d)\n",
    "\n",
    "\n"
   ]
  },
  {
   "cell_type": "code",
   "execution_count": 127,
   "metadata": {
    "ExecuteTime": {
     "end_time": "2021-05-01T05:22:50.151998Z",
     "start_time": "2021-05-01T05:22:50.137781Z"
    }
   },
   "outputs": [
    {
     "ename": "TypeError",
     "evalue": "unhashable type: 'list'",
     "output_type": "error",
     "traceback": [
      "\u001b[0;31m---------------------------------------------------------------------------\u001b[0m",
      "\u001b[0;31mTypeError\u001b[0m                                 Traceback (most recent call last)",
      "\u001b[0;32m<ipython-input-127-f488ecea3498>\u001b[0m in \u001b[0;36m<module>\u001b[0;34m\u001b[0m\n\u001b[0;32m----> 1\u001b[0;31m \u001b[0md\u001b[0m \u001b[0;34m=\u001b[0m \u001b[0;34m{\u001b[0m\u001b[0;36m1\u001b[0m\u001b[0;34m:\u001b[0m\u001b[0;36m100\u001b[0m\u001b[0;34m,\u001b[0m \u001b[0;36m10.20\u001b[0m\u001b[0;34m:\u001b[0m\u001b[0;36m10\u001b[0m\u001b[0;34m+\u001b[0m\u001b[0;36m20j\u001b[0m\u001b[0;34m,\u001b[0m \u001b[0;34m'a'\u001b[0m\u001b[0;34m:\u001b[0m\u001b[0;34m'Python'\u001b[0m\u001b[0;34m,\u001b[0m \u001b[0;34m[\u001b[0m\u001b[0;36m1\u001b[0m\u001b[0;34m,\u001b[0m\u001b[0;36m2\u001b[0m\u001b[0;34m,\u001b[0m\u001b[0;36m3\u001b[0m\u001b[0;34m]\u001b[0m\u001b[0;34m:\u001b[0m\u001b[0;34m[\u001b[0m\u001b[0;36m10\u001b[0m\u001b[0;34m,\u001b[0m\u001b[0;36m20\u001b[0m\u001b[0;34m,\u001b[0m\u001b[0;36m30\u001b[0m\u001b[0;34m]\u001b[0m\u001b[0;34m}\u001b[0m\u001b[0;34m\u001b[0m\u001b[0;34m\u001b[0m\u001b[0m\n\u001b[0m\u001b[1;32m      2\u001b[0m \u001b[0;31m# print(d)\u001b[0m\u001b[0;34m\u001b[0m\u001b[0;34m\u001b[0m\u001b[0;34m\u001b[0m\u001b[0m\n\u001b[1;32m      3\u001b[0m \u001b[0md\u001b[0m\u001b[0;34m[\u001b[0m\u001b[0;36m2\u001b[0m\u001b[0;34m]\u001b[0m \u001b[0;34m=\u001b[0m \u001b[0;34m'Hello'\u001b[0m\u001b[0;34m\u001b[0m\u001b[0;34m\u001b[0m\u001b[0m\n\u001b[1;32m      4\u001b[0m \u001b[0md\u001b[0m\u001b[0;34m[\u001b[0m\u001b[0;36m10.2\u001b[0m\u001b[0;34m]\u001b[0m \u001b[0;34m=\u001b[0m \u001b[0;36m3333\u001b[0m\u001b[0;34m\u001b[0m\u001b[0;34m\u001b[0m\u001b[0m\n\u001b[1;32m      5\u001b[0m \u001b[0mprint\u001b[0m\u001b[0;34m(\u001b[0m\u001b[0md\u001b[0m\u001b[0;34m)\u001b[0m\u001b[0;34m\u001b[0m\u001b[0;34m\u001b[0m\u001b[0m\n",
      "\u001b[0;31mTypeError\u001b[0m: unhashable type: 'list'"
     ]
    }
   ],
   "source": [
    "d = {1:100, 10.20:10+20j, 'a':'Python', (1,2,3):[10,20,30]}\n",
    "# print(d)\n",
    "d[2] = 'Hello'\n",
    "d[10.2] = 3333\n",
    "print(d)"
   ]
  },
  {
   "cell_type": "code",
   "execution_count": 126,
   "metadata": {
    "ExecuteTime": {
     "end_time": "2021-05-01T05:20:24.363604Z",
     "start_time": "2021-05-01T05:20:24.352685Z"
    }
   },
   "outputs": [
    {
     "name": "stdout",
     "output_type": "stream",
     "text": [
      "{1: 100}\n"
     ]
    }
   ],
   "source": [
    "d = {1:100}\n",
    "print(d)"
   ]
  },
  {
   "cell_type": "code",
   "execution_count": 133,
   "metadata": {
    "ExecuteTime": {
     "end_time": "2021-05-01T05:25:50.802256Z",
     "start_time": "2021-05-01T05:25:50.795394Z"
    }
   },
   "outputs": [
    {
     "name": "stdout",
     "output_type": "stream",
     "text": [
      "This key is not present\n",
      "{101: {'name': 'ABC', 'sal': 20000}, 102: {'name': 'PQR', 'sal': 30000}, 103: {'name': 'XYZ', 'sal': 40000}, 104: 'This key is not present'}\n"
     ]
    }
   ],
   "source": [
    "# Setdefault\n",
    "# Signature: d.setdefault(key, default=None, /)\n",
    "# Docstring:\n",
    "# Insert key with a value of default if key is not in the dictionary.\n",
    "\n",
    "# Return the value for key if key is in the dictionary, else default.\n",
    "\n",
    "d = {101:{'name':'ABC', 'sal':20000}, 102:{'name':'PQR', 'sal':30000}, 103:{'name':'XYZ','sal': 40000}}\n",
    "# print(d.setdefault(102))\n",
    "# print(d.setdefault(104))\n",
    "# print(d)\n",
    "\n",
    "# print(d.setdefault(104, 'This key is not present'))\n",
    "# print(d)"
   ]
  },
  {
   "cell_type": "code",
   "execution_count": 136,
   "metadata": {
    "ExecuteTime": {
     "end_time": "2021-05-01T05:28:39.505405Z",
     "start_time": "2021-05-01T05:28:39.496862Z"
    }
   },
   "outputs": [
    {
     "name": "stdout",
     "output_type": "stream",
     "text": [
      "{101: 100, 102: {'name': 'PQR', 'sal': 30000}, 103: {'name': 'XYZ', 'sal': 40000}, 2: 200, 3: 300}\n",
      "{101: 100, 2: 200, 3: 300}\n"
     ]
    }
   ],
   "source": [
    "# 'update',  - is similar to extend method in list\n",
    "\n",
    "# d = {101:{'name':'ABC', 'sal':20000}, 102:{'name':'PQR', 'sal':30000}, 103:{'name':'XYZ','sal': 40000}}\n",
    "# d1 = {101:100, 2:200, 3:300}\n",
    "\n",
    "# d.update(d1)\n",
    "# print(d)\n",
    "# print(d1)\n"
   ]
  },
  {
   "cell_type": "code",
   "execution_count": 144,
   "metadata": {
    "ExecuteTime": {
     "end_time": "2021-05-01T05:34:10.884592Z",
     "start_time": "2021-05-01T05:34:10.872115Z"
    }
   },
   "outputs": [
    {
     "name": "stdout",
     "output_type": "stream",
     "text": [
      "{}\n"
     ]
    }
   ],
   "source": [
    "# 'pop', 'popitem', clear\n",
    "d = {101:{'name':'ABC', 'sal':20000}, 102:{'name':'PQR', 'sal':30000}, 103:{'name':'XYZ','sal': 40000}}\n",
    "# If user knows the key then we can use pop\n",
    "# d.pop(k,[v])\n",
    "\n",
    "# In case of pop method if key is present then it will remove the key-value pair from dictionary and returns only the value\n",
    "# print(d.pop(101))\n",
    "# print(d)\n",
    "\n",
    "\n",
    "# If key ios not present then it raises keyErro if 2nd arg is not passed\n",
    "# d.pop(104)\n",
    "\n",
    "# If we pass the 2nd arg and key is not present then it will return the 2nd afrg as value\n",
    "# d.pop(104, 'This key is not presnet')\n",
    "\n",
    "\n",
    "# popitem - it does not take any argument from the dictionary\n",
    "# and removes the alst entry from the dictionary(map)\n",
    "# d.popitem()\n",
    "# print(d)\n",
    "\n",
    "# clear - clears all elements from the dictionary and leaves empty dictionary behind\n",
    "d.clear()\n",
    "print(d)\n",
    "\n",
    "\n",
    "\n",
    "\n"
   ]
  },
  {
   "cell_type": "code",
   "execution_count": 151,
   "metadata": {
    "ExecuteTime": {
     "end_time": "2021-05-01T05:45:55.545169Z",
     "start_time": "2021-05-01T05:45:55.529597Z"
    }
   },
   "outputs": [
    {
     "name": "stdout",
     "output_type": "stream",
     "text": [
      "{'P': [10, 20, 30, 40], 'y': [10, 20, 30, 40], 't': [10, 20, 30, 40], 'h': [10, 20, 30, 40], 'o': [10, 20, 30, 40], 'n': [10, 20, 30, 40]}\n"
     ]
    }
   ],
   "source": [
    "# 'fromkeys',\n",
    "# Signature: d.fromkeys(iterable, value=None, /)\n",
    "# Docstring: Create a new dictionary with keys from iterable and values set to value.\n",
    "\n",
    "d = {}\n",
    "d = d.fromkeys('Python', [10,20,30,40])\n",
    "print(d)\n",
    "\n"
   ]
  },
  {
   "cell_type": "code",
   "execution_count": 171,
   "metadata": {
    "ExecuteTime": {
     "end_time": "2021-05-01T05:57:38.786424Z",
     "start_time": "2021-05-01T05:57:38.771761Z"
    }
   },
   "outputs": [
    {
     "name": "stdout",
     "output_type": "stream",
     "text": [
      "{101: {'name': 'ABC', 'sal': 20000}, 102: {'name': 'PQR', 'sal': 30000}, 103: {'name': 'XYZ', 'sal': 40000}}\n",
      "{101: {'name': 'ABC', 'sal': 300000}, 102: {'name': 'PQR', 'sal': 30000}, 103: {'name': 'XYZ', 'sal': 40000}}\n"
     ]
    }
   ],
   "source": [
    "# copy - shallow copy, deepcopy\n",
    "# Mutable - list, dictionary\n",
    "# Aliasing -> shallow copy -> deepcopy\n",
    "\n",
    "d = {1:100, 2:200, 3:300, 4:400}\n",
    "d1 = d          # Aliasing\n",
    "# print(d == d1)\n",
    "# print(d)\n",
    "# print(d1)\n",
    "# print(d is d1)\n",
    "# print(id(d))\n",
    "# print(id(d1))\n",
    "# d1[1] = 111\n",
    "# print(d)\n",
    "# print(d1)\n",
    "\n",
    "\n",
    "# Shallow copy - copy, or slicing\n",
    "d = {1:100, 2:200, 3:300, 4:400}\n",
    "d1 = d.copy()\n",
    "# print(d == d1)\n",
    "# print(d)\n",
    "# print(d1)\n",
    "\n",
    "# print(d is d1)\n",
    "# print(id(d))\n",
    "# print(id(d1))\n",
    "# d1[1] = 111\n",
    "# print(d)\n",
    "# print(d1)\n",
    "\n",
    "\n",
    "d = {101:{'name':'ABC', 'sal':20000}, 102:{'name':'PQR', 'sal':30000}, 103:{'name':'XYZ','sal': 40000}}\n",
    "d1 = d.copy()\n",
    "# print(d is d1)\n",
    "# print(id(d))\n",
    "# print(id(d1))\n",
    "\n",
    "# d1[101] = 100\n",
    "# print(d)\n",
    "# print(d1)\n",
    "\n",
    "# d1[101]['sal'] = 300000\n",
    "# print(d)\n",
    "# print(d1)\n",
    "\n",
    "# Deepcopy\n",
    "from copy import deepcopy\n",
    "d = {101:{'name':'ABC', 'sal':20000}, 102:{'name':'PQR', 'sal':30000}, 103:{'name':'XYZ','sal': 40000}}\n",
    "d2 = deepcopy(d)\n",
    "# print(d is d2)\n",
    "# print(id(d))\n",
    "# print(id(d2))\n",
    "d2[101]['sal'] = 300000\n",
    "print(d)\n",
    "print(d2)\n",
    "\n",
    "\n",
    "\n",
    "\n",
    "\n",
    "\n",
    "\n",
    "\n",
    "\n"
   ]
  },
  {
   "cell_type": "code",
   "execution_count": 174,
   "metadata": {
    "ExecuteTime": {
     "end_time": "2021-05-01T06:02:41.349504Z",
     "start_time": "2021-05-01T06:02:41.345859Z"
    }
   },
   "outputs": [],
   "source": [
    "# tpl = (1,2,3)\n",
    "# print(tpl, id(tpl))\n",
    "# tpl = tpl + (10,20,30)\n",
    "# print(tpl, id(tpl))"
   ]
  },
  {
   "cell_type": "code",
   "execution_count": 175,
   "metadata": {
    "ExecuteTime": {
     "end_time": "2021-05-01T06:06:25.972009Z",
     "start_time": "2021-05-01T06:06:25.958879Z"
    }
   },
   "outputs": [
    {
     "data": {
      "text/plain": [
       "{'pqrst': 'yahoo.com', 'mnopq': 'hotmail.com'}"
      ]
     },
     "execution_count": 175,
     "metadata": {},
     "output_type": "execute_result"
    }
   ],
   "source": [
    "# Dictionary comprehension\n",
    "# {key:expr for loop if cond}\n",
    "\n",
    "# lst = ['abc@gmail.com', 'pqrst@yahoo.com', 'mnopq@hotmail.com', 'xyz@rediffmail.com']\n",
    "\n",
    "# {email[:email.index('@')]:email[email.index('@')+1:] for email in lst if len(email[:email.index('@')]) > 3}\n",
    "\n"
   ]
  },
  {
   "cell_type": "code",
   "execution_count": 193,
   "metadata": {
    "ExecuteTime": {
     "end_time": "2021-05-01T06:19:48.370285Z",
     "start_time": "2021-05-01T06:19:48.357209Z"
    }
   },
   "outputs": [
    {
     "data": {
      "text/plain": [
       "{0: 'ABC', 1: 20000, 2: 101}"
      ]
     },
     "execution_count": 193,
     "metadata": {},
     "output_type": "execute_result"
    }
   ],
   "source": [
    "# Creation of dictionary using dict()\n",
    "\n",
    "# d = dict([(1, 100), ('name', 'Python'), ('sal', 2000)])\n",
    "# print(d)\n",
    "\n",
    "# d = dict(((1, 100), ('name', 'Python'), ('sal', 2000)))\n",
    "# print(d)\n",
    "\n",
    "# d = dict(([1, 100], ['name', 'Python'], ['sal', 2000]))\n",
    "# print(d)\n",
    "\n",
    "# d = dict([[1, 100], ['name', 'Python'], ['sal', 2000]])\n",
    "# print(d)\n",
    "\n",
    "\n",
    "# Creating a dictionary out of two lists where the keys will betaken from first list and values from 2nd list\n",
    "\n",
    "# list(zip([1,2,3,4], [10,20,30,40,50], [11, 22, 33, 44], (9, 8, 7, 6)))\n",
    "\n",
    "lst1 = ['name', 'sal', 'id']\n",
    "lst2 = ['ABC', 20000, 101]\n",
    "\n",
    "# dict(zip(lst1, lst2))\n",
    "\n",
    "\n",
    "# enumerate(iterable) - creates a tuple where every tuple will have index as first element and value at the index as 2nd element\n",
    "# But it returns enumerate object so to see the values you need to keep it in list()\n",
    "# dict(enumerate('Python'))\n",
    "\n",
    "\n",
    "# list(enumerate('Python'))\n",
    "\n",
    "dict(enumerate(lst2))\n",
    "\n",
    "\n",
    "\n"
   ]
  },
  {
   "cell_type": "code",
   "execution_count": 204,
   "metadata": {
    "ExecuteTime": {
     "end_time": "2021-05-01T06:29:00.505028Z",
     "start_time": "2021-05-01T06:29:00.490631Z"
    }
   },
   "outputs": [
    {
     "data": {
      "text/plain": [
       "1"
      ]
     },
     "execution_count": 204,
     "metadata": {},
     "output_type": "execute_result"
    }
   ],
   "source": [
    "#Write a python program to find below output:-\n",
    "\n",
    "#Input:- 'peter piper picked a peck of pickled peppers.'\n",
    "#Output:- 'retep repip dekcip a kcep fo delkcip .sreppep'\n",
    "\n",
    "# my_str = 'peter piper picked a peck of pickled peppers.'.split()\n",
    "# ' '.join([i[::-1] for i in my_str])\n",
    "\n",
    "#Write a Python program to count the number of strings having length more than 2 and are palindrome in a list using loop.\n",
    "#Input:- ['ab', 'abc', 'aba', 'xyz', '1991']\n",
    "lst = ['aa', 'abc', 'aba', 'xyz', '1991']\n",
    "p_count = 0\n",
    "# for i in lst:\n",
    "#     if i == i[::-1] and len(i)>2:\n",
    "#         p_count += 1\n",
    "# print(p_count)\n",
    "\n",
    "# [p_count + 1 for i in lst if i == i[::-1] and len(i)>2][-1]\n"
   ]
  },
  {
   "cell_type": "code",
   "execution_count": null,
   "metadata": {},
   "outputs": [],
   "source": []
  },
  {
   "cell_type": "code",
   "execution_count": null,
   "metadata": {},
   "outputs": [],
   "source": []
  },
  {
   "cell_type": "code",
   "execution_count": null,
   "metadata": {},
   "outputs": [],
   "source": []
  },
  {
   "cell_type": "code",
   "execution_count": null,
   "metadata": {},
   "outputs": [],
   "source": []
  },
  {
   "cell_type": "code",
   "execution_count": null,
   "metadata": {},
   "outputs": [],
   "source": []
  },
  {
   "cell_type": "code",
   "execution_count": null,
   "metadata": {},
   "outputs": [],
   "source": []
  },
  {
   "cell_type": "code",
   "execution_count": null,
   "metadata": {},
   "outputs": [],
   "source": []
  },
  {
   "cell_type": "code",
   "execution_count": null,
   "metadata": {},
   "outputs": [],
   "source": []
  },
  {
   "cell_type": "code",
   "execution_count": null,
   "metadata": {},
   "outputs": [],
   "source": []
  },
  {
   "cell_type": "code",
   "execution_count": null,
   "metadata": {},
   "outputs": [],
   "source": []
  },
  {
   "cell_type": "code",
   "execution_count": null,
   "metadata": {},
   "outputs": [],
   "source": []
  },
  {
   "cell_type": "code",
   "execution_count": null,
   "metadata": {},
   "outputs": [],
   "source": []
  },
  {
   "cell_type": "code",
   "execution_count": null,
   "metadata": {},
   "outputs": [],
   "source": []
  },
  {
   "cell_type": "code",
   "execution_count": null,
   "metadata": {},
   "outputs": [],
   "source": []
  },
  {
   "cell_type": "code",
   "execution_count": null,
   "metadata": {},
   "outputs": [],
   "source": []
  },
  {
   "cell_type": "code",
   "execution_count": null,
   "metadata": {},
   "outputs": [],
   "source": []
  },
  {
   "cell_type": "code",
   "execution_count": null,
   "metadata": {},
   "outputs": [],
   "source": []
  },
  {
   "cell_type": "code",
   "execution_count": null,
   "metadata": {},
   "outputs": [],
   "source": []
  },
  {
   "cell_type": "code",
   "execution_count": null,
   "metadata": {},
   "outputs": [],
   "source": []
  }
 ],
 "metadata": {
  "kernelspec": {
   "display_name": "Python 3",
   "language": "python",
   "name": "python3"
  },
  "language_info": {
   "codemirror_mode": {
    "name": "ipython",
    "version": 3
   },
   "file_extension": ".py",
   "mimetype": "text/x-python",
   "name": "python",
   "nbconvert_exporter": "python",
   "pygments_lexer": "ipython3",
   "version": "3.8.2"
  },
  "latex_envs": {
   "LaTeX_envs_menu_present": true,
   "autoclose": false,
   "autocomplete": true,
   "bibliofile": "biblio.bib",
   "cite_by": "apalike",
   "current_citInitial": 1,
   "eqLabelWithNumbers": true,
   "eqNumInitial": 1,
   "hotkeys": {
    "equation": "Ctrl-E",
    "itemize": "Ctrl-I"
   },
   "labels_anchors": false,
   "latex_user_defs": false,
   "report_style_numbering": false,
   "user_envs_cfg": false
  },
  "varInspector": {
   "cols": {
    "lenName": 16,
    "lenType": 16,
    "lenVar": 40
   },
   "kernels_config": {
    "python": {
     "delete_cmd_postfix": "",
     "delete_cmd_prefix": "del ",
     "library": "var_list.py",
     "varRefreshCmd": "print(var_dic_list())"
    },
    "r": {
     "delete_cmd_postfix": ") ",
     "delete_cmd_prefix": "rm(",
     "library": "var_list.r",
     "varRefreshCmd": "cat(var_dic_list()) "
    }
   },
   "types_to_exclude": [
    "module",
    "function",
    "builtin_function_or_method",
    "instance",
    "_Feature"
   ],
   "window_display": false
  }
 },
 "nbformat": 4,
 "nbformat_minor": 2
}
