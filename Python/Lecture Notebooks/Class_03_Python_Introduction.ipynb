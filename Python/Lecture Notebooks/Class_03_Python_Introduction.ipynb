{
 "cells": [
  {
   "cell_type": "code",
   "execution_count": null,
   "metadata": {},
   "outputs": [],
   "source": [
    "Data Types\n",
    "    Fundamental - Int, float, complex, boolean, string, None\n",
    "    Derived - List, tuple, set, dictionary, frozenset, range, bytes, byetarray\n",
    "    \n",
    "Operators\n",
    "    Arithemetic\n",
    "    Bitwise \n",
    "    Logical \n",
    "    Comparison\n",
    "    Equality\n",
    "    Assignment\n",
    "    COmpound Assignment\n",
    "    Membership\n",
    "    Identity\n",
    "    Ternary"
   ]
  },
  {
   "cell_type": "code",
   "execution_count": 12,
   "metadata": {
    "ExecuteTime": {
     "end_time": "2021-04-17T03:37:52.765729Z",
     "start_time": "2021-04-17T03:37:52.753526Z"
    }
   },
   "outputs": [
    {
     "name": "stdout",
     "output_type": "stream",
     "text": [
      "10 <class 'int'>\n",
      "22.360679774997898\n"
     ]
    }
   ],
   "source": [
    "# Integers - Any number without a decimal point\n",
    "# 10, 0, -10\n",
    "\n",
    "a = 10\n",
    "print(a, type(a))\n",
    "\n",
    "# b = 10,\n",
    "# print(b, type(b))\n",
    "\n",
    "\n",
    "# Decimal Format - 0-9, Prefix - 98\n",
    "\n",
    "# These representations are only for integer values\n",
    "# Binary - 0-1, Prefixed with 0b, bin()\n",
    "# Octal - 0-7, Prefixed with 0o, oct()\n",
    "# Hexadecimal - 0-9 & a-f, Prefixed with 0x, hex()\n",
    "\n",
    "# Binary Representation\n",
    "# num = 98\n",
    "# print(f'Binary Format of {num} = {bin(num)}')\n",
    "\n",
    "# num = 98\n",
    "# print(f'Octal Format of {num} = {oct(num)}')\n",
    "\n",
    "# num = 98\n",
    "# print(f'Hexadecimal Format of {num} = {hex(num)}')\n",
    "\n",
    "# Decimal Representation\n",
    "\n",
    "# num = 0b1100010\n",
    "# print(num)\n",
    "# print(f'Decimal Format is {num}, {type(num)}')\n",
    "\n",
    "# Float - Any number with a decimal Point\n",
    "# 10.20, -10.20, 0.001\n",
    "# Float can be represented only in decimal\n",
    "\n",
    "# Complex - Any number in the format - a+bj\n",
    "# Where a is real part and b is imaginary part and j is equal to square root of -1\n",
    "# Complex can be represented only in decimal\n",
    "\n",
    "# num = 10+20j\n",
    "# print(num)\n",
    "# print(num.real)\n",
    "# print(num.imag)\n",
    "# print(abs(num))\n",
    "\n",
    "#\n",
    "\n",
    "\n",
    "\n",
    "\n",
    "\n",
    "\n",
    "\n",
    "\n"
   ]
  },
  {
   "cell_type": "code",
   "execution_count": 22,
   "metadata": {
    "ExecuteTime": {
     "end_time": "2021-04-17T03:49:58.344419Z",
     "start_time": "2021-04-17T03:49:58.335088Z"
    }
   },
   "outputs": [
    {
     "name": "stdout",
     "output_type": "stream",
     "text": [
      "1\n"
     ]
    }
   ],
   "source": [
    "# Arithmetic Opertions - +, -, *,/(Float Division), //(Floor Division), **(Exponent), %(Modulo)\n",
    "# Complex number can not work with %(Modulo)\n",
    "\n",
    "num1 = 100\n",
    "num2 = 3\n",
    "# print(num1 + num2)\n",
    "# print(num1 - num2)\n",
    "# print(num1 * num2)\n",
    "\n",
    "# print(num1 / num2)             # -> Float Division\n",
    "# print(num1 // num2)            # -> Floor Division\n",
    "\n",
    "# Ceil Value - Nearest Highest Whole Number\n",
    "# Floor Value - Nearest Lowest Whole Number\n",
    "\n",
    "# Ceil = 34\n",
    "# num = 33.333333333333336\n",
    "# Floor = 33\n",
    "\n",
    "# print(round(num1/num2, 2))\n",
    "\n",
    "# import math\n",
    "# print(math.ceil(num1/num2))\n",
    "\n",
    "# print(num1**num2)\n",
    "\n",
    "# print(pow(base, exp))\n",
    "# print(pow(num1, num2))\n",
    "\n",
    "print(num1%num2)\n",
    "\n",
    "# Does not work with complex numbers\n",
    "\n",
    "\n",
    "# 10/3 => 3.3333333\n",
    "# 10//3 => 3\n",
    "# 10%3 => 1\n",
    "\n",
    "\n"
   ]
  },
  {
   "cell_type": "code",
   "execution_count": 23,
   "metadata": {
    "ExecuteTime": {
     "end_time": "2021-04-17T03:50:28.013014Z",
     "start_time": "2021-04-17T03:50:28.006330Z"
    }
   },
   "outputs": [],
   "source": [
    "# print(dir(__builtins__))"
   ]
  },
  {
   "cell_type": "code",
   "execution_count": 44,
   "metadata": {
    "ExecuteTime": {
     "end_time": "2021-04-17T04:18:38.724231Z",
     "start_time": "2021-04-17T04:18:38.715329Z"
    }
   },
   "outputs": [
    {
     "name": "stdout",
     "output_type": "stream",
     "text": [
      "4064\n",
      "4064\n",
      "3\n",
      "3\n",
      "3\n"
     ]
    }
   ],
   "source": [
    "# Bitwise Operators - &, |, ^, ~, <<, >>\n",
    "# it works on bits - 0-1\n",
    "# Works only with Integers\n",
    "\n",
    "\n",
    "\n",
    "# & Truth Table\n",
    "# 1 & 1 => 1\n",
    "# 1 & 0 => 0\n",
    "# 0 & 1 => 0\n",
    "# 0 & 0 => 0\n",
    "\n",
    "# | Truth Table\n",
    "# 1 | 1 => 1\n",
    "# 1 | 0 => 1\n",
    "# 0 | 1 => 1\n",
    "# 0 | 0 => 0\n",
    "\n",
    "# ^ Truth Table\n",
    "# 1 ^ 1 => 0\n",
    "# 1 ^ 0 => 1\n",
    "# 0 ^ 1 => 1\n",
    "# 0 ^ 0 => 0\n",
    "\n",
    "# print(37 & 57)\n",
    "\n",
    "# Step convert the integers in binary\n",
    "# print(bin(57))\n",
    "\n",
    "\n",
    "# 37 = 100101\n",
    "# 57 = 111001\n",
    "# ============\n",
    "# &  = 100001\n",
    "# |  = 111101\n",
    "# ^  = 011100\n",
    "\n",
    "# print(0b100001)\n",
    "\n",
    "\n",
    "# print(37 | 57)\n",
    "# print(0b111101)\n",
    "# print(37 ^ 57)\n",
    "# print(0b11100)\n",
    "\n",
    "\n",
    "\n",
    "\n",
    "# 0           1          1           0             1           0               0\n",
    "# 2**6      2**5      2**4        2**3           2**2          2**1           2**0\n",
    "#  0           32      +      16    +        0     +        4   \n",
    "\n",
    "# print(0b1101)\n",
    "\n",
    "\n",
    "# Bitwise Negation(~)\n",
    "# ~num = -(num1+1)\n",
    "\n",
    "# print(~10)\n",
    "# print(~-10)\n",
    "# print(~True)\n",
    "\n",
    "\n",
    "# True + True\n",
    "\n",
    "\n",
    "# Bitwise Left shift - num << no_of_bits  => (num * (2**no_of_bits))\n",
    "# Num << no_of_bits\n",
    "\n",
    "\n",
    "print(127 << 5)\n",
    "print(127 * (2**5))\n",
    "\n",
    "\n",
    "# print(bin(127))\n",
    "\n",
    "# 127 => 00000000000000000000111111100000\n",
    "# print(0b111111100000)\n",
    "\n",
    "\n",
    "# Bitwise Right shift - num >> no_of_bits  => (num // (2**no_of_bits))\n",
    "# Num >> no_of_bits\n",
    "\n",
    "print(127 >> 5)\n",
    "print(127 // (2 ** 5))\n",
    "\n",
    "# 127 => 00000000000000000000000000000011\n",
    "print(0b11)\n",
    "\n",
    "\n",
    "\n",
    "\n",
    "\n",
    "\n"
   ]
  },
  {
   "cell_type": "code",
   "execution_count": 51,
   "metadata": {
    "ExecuteTime": {
     "end_time": "2021-04-17T04:31:14.813783Z",
     "start_time": "2021-04-17T04:31:14.805890Z"
    }
   },
   "outputs": [
    {
     "name": "stdout",
     "output_type": "stream",
     "text": [
      "\n",
      "[]\n"
     ]
    }
   ],
   "source": [
    "# Logical Operators - and or not\n",
    "# These perators work with logic\n",
    "\n",
    "# and Truth Table - False\n",
    "# True and True = True\n",
    "# True and False = False\n",
    "# False and True = False\n",
    "# False and False = False\n",
    "\n",
    "# or Truth Table - True\n",
    "# True and True = True\n",
    "# True and False = True\n",
    "# False and True = True\n",
    "# False and False = False\n",
    "\n",
    "# not Truth Table\n",
    "# not True = False\n",
    "# not False = True\n",
    "\n",
    "\n",
    "# print(10<20)\n",
    "# print(10>20)\n",
    "\n",
    "# (10<20) and (20 != 20)\n",
    "\n",
    "\n",
    "# If \n",
    "# A and B \n",
    "# A or B\n",
    "\n",
    "# Where A and B are some value\n",
    "\n",
    "# A and B -> Result is A if A is False Otherwise Result is B\n",
    "# A or B -> Result is A if A is True Otherwise Result is B\n",
    "\n",
    "# print(10 and 20)\n",
    "# print(10 or 20)\n",
    "\n",
    "# print(0 and 20)\n",
    "# print(0 or 20)\n",
    "\n",
    "print('' and [])\n",
    "print('' or [])\n",
    "\n",
    "\n",
    "\n",
    "\n",
    "\n"
   ]
  },
  {
   "cell_type": "code",
   "execution_count": null,
   "metadata": {},
   "outputs": [],
   "source": [
    "In case of integers 0 is always False rest all values are True\n",
    "In case of Float 0.0 is always False rest all values are True\n",
    "In case of Complex 0.0+0.0j is always False rest all values are True\n",
    "In case of String '' is always False rest all values are True\n",
    "None is always False\n",
    "List, Tuple, Dict, set - [], (), {}, set() - False , Rest all True"
   ]
  },
  {
   "cell_type": "code",
   "execution_count": 75,
   "metadata": {
    "ExecuteTime": {
     "end_time": "2021-04-17T04:47:10.014911Z",
     "start_time": "2021-04-17T04:47:10.007420Z"
    }
   },
   "outputs": [
    {
     "name": "stdout",
     "output_type": "stream",
     "text": [
      "False\n",
      "False\n"
     ]
    }
   ],
   "source": [
    "# Comparison - <, <=, >, >=\n",
    "# Boolean Result - True, False\n",
    "# It will be working onl with similar data types - exception - Int and Float\n",
    "# print(10<20)\n",
    "# print(10<10.20)\n",
    "\n",
    "# print(10<(20+20j))   #'<' not supported between instances of 'int' and 'complex'\n",
    "\n",
    "\n",
    "# ord function gives the code point in ASCII table\n",
    "# ord('10')\n",
    "# ord('a')\n",
    "# ord('=')\n",
    "\n",
    "# print('A'<=65) # TypeError: '<=' not supported between instances of 'str' and 'int'\n",
    "\n",
    "# print(ord('A')<=65)\n",
    "\n",
    "# print('python' <= 'python')\n",
    "# print('pytho' <= 'pythAn')\n",
    "\n",
    "\n",
    "\n",
    "\n",
    "\n",
    "\n",
    "# Equality - ==, !=\n",
    "# Boolean Result - True, False\n",
    "# It will be working all with similar data types\n",
    "# It compares the content\n",
    "\n",
    "# print(10==10)\n",
    "# print(10==100)\n",
    "\n",
    "print(10=='100')\n",
    "print(100=='100')\n",
    "\n",
    "\n",
    "\n"
   ]
  },
  {
   "cell_type": "code",
   "execution_count": 79,
   "metadata": {
    "ExecuteTime": {
     "end_time": "2021-04-17T04:52:35.886576Z",
     "start_time": "2021-04-17T04:52:35.880546Z"
    }
   },
   "outputs": [
    {
     "name": "stdout",
     "output_type": "stream",
     "text": [
      "2\n"
     ]
    }
   ],
   "source": [
    "# Assignment - =\n",
    "# Compound Assignment - +=, -=, *=, /=, //=, %=, **=, &=, |=, ^=, ~=, <<=, >>=\n",
    "\n",
    "# Assignment - =\n",
    "\n",
    "# a = 10\n",
    "\n",
    "\n",
    "# Compound Assignment - \n",
    "# a = 10\n",
    "# a *= 2                                              # a = a * 2\n",
    "# print(a)\n",
    "\n",
    "\n",
    "a = 100\n",
    "a %= 7                               # a = a%7\n",
    "print(a)\n",
    "\n",
    "\n"
   ]
  },
  {
   "cell_type": "code",
   "execution_count": 84,
   "metadata": {
    "ExecuteTime": {
     "end_time": "2021-04-17T04:59:39.282974Z",
     "start_time": "2021-04-17T04:59:39.271595Z"
    }
   },
   "outputs": [
    {
     "name": "stdout",
     "output_type": "stream",
     "text": [
      "True\n",
      "False\n",
      "4570023088\n",
      "4570025520\n"
     ]
    }
   ],
   "source": [
    "# Membership - in, not in\n",
    "# Can be used on any iterable\n",
    "\n",
    "my_str = 'This is Python class'\n",
    "my_lst = [10,20,30,40,50]\n",
    "my_dict = {1:100, 20.30:10+20j,'a':'Python'}\n",
    "# print('is' in my_str)\n",
    "# print(60 in my_lst)\n",
    "# print('a' in my_dict)\n",
    "# print('a' not in my_dict)\n",
    "\n",
    "\n",
    "\n",
    "\n",
    "# Identity Operator - is, is not\n",
    "# Address should be same\n",
    "# a = 10\n",
    "# b = 10\n",
    "# print(a == b)\n",
    "# print(a is b)\n",
    "# print(id(a))\n",
    "# print(id(b))\n",
    "\n",
    "\n",
    "\n",
    "\n",
    "a = 300\n",
    "b = 300\n",
    "print(a == b)\n",
    "print(a is b)\n",
    "print(id(a))\n",
    "print(id(b))\n",
    "\n",
    "\n",
    "# Object Reusability\n",
    "# int - -5 to 256\n",
    "# None, True, False\n",
    "# STring - A-Z,a-z, 0-9, _\n",
    "\n",
    "\n",
    "\n",
    "\n"
   ]
  },
  {
   "cell_type": "code",
   "execution_count": 91,
   "metadata": {
    "ExecuteTime": {
     "end_time": "2021-04-17T05:08:50.496839Z",
     "start_time": "2021-04-17T05:08:50.485464Z"
    }
   },
   "outputs": [
    {
     "data": {
      "text/plain": [
       "300"
      ]
     },
     "execution_count": 91,
     "metadata": {},
     "output_type": "execute_result"
    }
   ],
   "source": [
    "# Ternary Operator\n",
    "# expr1 if cond else expr2\n",
    "# expr if cond1 else expr2 if cond2 else expr3\n",
    "\n",
    "# num1 = 100\n",
    "# num2 = 300\n",
    "# num1 if num1>num2 else num2\n",
    "\n",
    "num1 = 100\n",
    "num2 = 300\n",
    "num3 = 4\n",
    "num1 if (num1>num2) and (num1>num3) else num2 if num2>num3 else num3\n",
    "\n",
    "\n",
    "\n"
   ]
  },
  {
   "cell_type": "code",
   "execution_count": 92,
   "metadata": {
    "ExecuteTime": {
     "end_time": "2021-04-17T05:21:50.671141Z",
     "start_time": "2021-04-17T05:21:50.656919Z"
    }
   },
   "outputs": [
    {
     "name": "stdout",
     "output_type": "stream",
     "text": [
      "True\n",
      "False\n"
     ]
    }
   ],
   "source": [
    "a = 500\n",
    "b = 500\n",
    "print(a == b)\n",
    "print(a is b)"
   ]
  },
  {
   "cell_type": "code",
   "execution_count": 96,
   "metadata": {
    "ExecuteTime": {
     "end_time": "2021-04-17T05:28:05.771676Z",
     "start_time": "2021-04-17T05:28:05.757998Z"
    }
   },
   "outputs": [
    {
     "data": {
      "text/plain": [
       "[None, None, None, None, None, None, None, None, None, None]"
      ]
     },
     "execution_count": 96,
     "metadata": {},
     "output_type": "execute_result"
    }
   ],
   "source": [
    "# None - Represents the missing value\n",
    "# It is also used to initialize a variable\n",
    "\n",
    "# int a;\n",
    "\n",
    "# x = None\n",
    "# x\n",
    "# x = 10\n",
    "# x\n",
    "\n",
    "\n",
    "lst = [None] * 10\n",
    "lst\n",
    "\n",
    "\n",
    "\n"
   ]
  },
  {
   "cell_type": "code",
   "execution_count": 102,
   "metadata": {
    "ExecuteTime": {
     "end_time": "2021-04-17T05:32:05.965958Z",
     "start_time": "2021-04-17T05:32:05.960265Z"
    }
   },
   "outputs": [
    {
     "name": "stdout",
     "output_type": "stream",
     "text": [
      "False\n",
      "True\n"
     ]
    }
   ],
   "source": [
    "# Boolean - True, False\n",
    "# True = 1\n",
    "# False = 0\n",
    "\n",
    "# In case of integers 0 is always False rest all values are True\n",
    "# In case of Float 0.0 is always False rest all values are True\n",
    "# In case of Complex 0.0+0.0j is always False rest all values are True\n",
    "# In case of String '' is always False rest all values are True\n",
    "# None is always False\n",
    "# List, Tuple, Dict, set - [], (), {}, set() - False , Rest all True\n",
    "\n",
    "# print(bool(0))\n",
    "# print(bool(0.0))\n",
    "# print(bool(1))\n",
    "# print(bool(10))\n",
    "# print(bool(''))\n",
    "# print(bool(' '))\n",
    "\n",
    "\n",
    "\n"
   ]
  },
  {
   "cell_type": "code",
   "execution_count": 126,
   "metadata": {
    "ExecuteTime": {
     "end_time": "2021-04-17T05:44:44.957692Z",
     "start_time": "2021-04-17T05:44:44.944897Z"
    }
   },
   "outputs": [
    {
     "data": {
      "text/plain": [
       "'(10+20j)'"
      ]
     },
     "execution_count": 126,
     "metadata": {},
     "output_type": "execute_result"
    }
   ],
   "source": [
    "# Type Casting - int(), float(), complex(), str()\n",
    "\n",
    "# print(int(10))\n",
    "# print(int('10'))\n",
    "# print(int(10.20))\n",
    "# print(int(True))\n",
    "# print(int(0b1101))\n",
    "# print(int(0o7654))\n",
    "# print(int(0xface))\n",
    "\n",
    "# print(int('10.20'))\n",
    "# print(int(10+20j))\n",
    "# print(int('True'))\n",
    "# print(int('A'))\n",
    "\n",
    "# print(float(10))\n",
    "# print(float('10'))\n",
    "# print(float(10.20))\n",
    "# print(float(True))\n",
    "# print(float(0b1101))\n",
    "# print(float(0o7654))\n",
    "# print(float(0xface))\n",
    "# print(float('10.20'))\n",
    "\n",
    "\n",
    "# print(float(10+20j))\n",
    "# print(float('True'))\n",
    "# print(float('A'))\n",
    "\n",
    "# complex(real) -> real +0j\n",
    "# complex(real, imag) -> real +j*imag\n",
    "# complex - if first arg is string then it will not take second arg\n",
    "# complex - we can not pass the second arg as string value\n",
    "\n",
    "# print(complex(10))\n",
    "# print(complex(10.20))\n",
    "# print(complex('10', 20))  # complex() can't take second arg if first is a string\n",
    "# print(complex('10'))\n",
    "# print(complex(True))\n",
    "# print(complex(0b10101))\n",
    "# print(complex('10.20'))\n",
    "\n",
    "# print(complex('True'))\n",
    "\n",
    "\n",
    "# print(complex(10,20))\n",
    "# # print(complex(10,'20'))\n",
    "# print(complex(0b10101, 0xfc))\n",
    "\n",
    "\n",
    "# str(10+20j)\n",
    "\n",
    "\n",
    "\n",
    "\n",
    "\n",
    "\n",
    "\n"
   ]
  },
  {
   "cell_type": "code",
   "execution_count": 113,
   "metadata": {
    "ExecuteTime": {
     "end_time": "2021-04-17T05:40:14.716470Z",
     "start_time": "2021-04-17T05:40:14.701839Z"
    }
   },
   "outputs": [
    {
     "data": {
      "text/plain": [
       "'0xface'"
      ]
     },
     "execution_count": 113,
     "metadata": {},
     "output_type": "execute_result"
    }
   ],
   "source": [
    "# 0xface\n",
    "hex(64206)"
   ]
  },
  {
   "cell_type": "code",
   "execution_count": 138,
   "metadata": {
    "ExecuteTime": {
     "end_time": "2021-04-17T06:01:14.839715Z",
     "start_time": "2021-04-17T06:01:14.826635Z"
    }
   },
   "outputs": [
    {
     "name": "stdout",
     "output_type": "stream",
     "text": [
      "ASCII, abbreviated from American Standard Code. \n",
      "for 'Information' \"Interchange\". \n",
      "is a character encoding \n",
      "standard for electronic communication. \n",
      "ASCII codes represent text in computers, \n",
      "telecommunications equipment, \n",
      "and other devices.\n",
      "This is a function which takes two numbers as arguments and returns the sum of both\n"
     ]
    }
   ],
   "source": [
    "# String  - ANy thing kept inside '...', \"...\", '''...''', \"\"\"...\"\"\"\n",
    "# my_str = 'Python'\n",
    "# print(my_str, type(my_str))\n",
    "\n",
    "# my_str = \"Python\"\n",
    "# print(my_str, type(my_str))\n",
    "\n",
    "# my_str = \"\"\"Python\"\"\"\n",
    "# print(my_str, type(my_str))\n",
    "\n",
    "# my_str = '''Python'''\n",
    "# print(my_str, type(my_str))\n",
    "\n",
    "\n",
    "# Case1\n",
    "# my_str = \"This isn't Java class\"\n",
    "# print(my_str, type(my_str))\n",
    "\n",
    "# my_str = 'This is \"Python\" class'\n",
    "# print(my_str, type(my_str))\n",
    "\n",
    "# my_str = '''This is 'Python' and \"Java\" Class'''\n",
    "# print(my_str, type(my_str))\n",
    "\n",
    "\n",
    "# case2 - single and double quotations are used to write a single line string\n",
    "# Triple quotations are used to define multiline strings\n",
    "my_str = \"\"\"ASCII, abbreviated from American Standard Code. \n",
    "for 'Information' \"Interchange\". \n",
    "is a character encoding \n",
    "standard for electronic communication. \n",
    "ASCII codes represent text in computers, \n",
    "telecommunications equipment, \n",
    "and other devices.\"\"\"\n",
    "print(my_str)\n",
    "\n",
    "\n",
    "# case3 - documentation\n",
    "def add(num1, num2):\n",
    "    '''This is a function which takes two numbers as arguments and returns the sum of both'''\n",
    "    return num1+num2\n",
    "\n",
    "# add(10,20)\n",
    "print(add.__doc__)\n",
    "\n",
    "\n",
    "\n"
   ]
  },
  {
   "cell_type": "code",
   "execution_count": null,
   "metadata": {},
   "outputs": [],
   "source": [
    "# String Properties\n",
    "    1. String is a sequence\n",
    "        1. String follows +ve and -ve indexing both\n",
    "        2. +ve index starts from 0 from Left side\n",
    "        3. -ve index starts from -1 from Right side\n",
    "        4. Basic Operation \n",
    "            1. Indexing\n",
    "            2. Slicing\n",
    "            3. Concatenation\n",
    "            4. Repetition\n",
    "            5. Membership\n",
    "            6. Length"
   ]
  },
  {
   "cell_type": "code",
   "execution_count": 178,
   "metadata": {
    "ExecuteTime": {
     "end_time": "2021-04-17T06:24:53.900457Z",
     "start_time": "2021-04-17T06:24:53.889028Z"
    }
   },
   "outputs": [
    {
     "name": "stdout",
     "output_type": "stream",
     "text": [
      "Python Class Python Class Python Class Python Class \n"
     ]
    }
   ],
   "source": [
    "my_str = 'This is Python class'\n",
    "# print(f'Length of string = {len(my_str)}')\n",
    "\n",
    "\n",
    "# # Membership\n",
    "# print('T' in my_str)\n",
    "# print('This' in my_str)\n",
    "# print('Pn' in my_str)\n",
    "\n",
    "\n",
    "\n",
    "# Concatenation - +\n",
    "# Both the operand should be string type\n",
    "my_str1 = 'Python '\n",
    "my_str2 = 'Class '\n",
    "# print(my_str1 + my_str2)\n",
    "\n",
    "# print(my_str1 + [10,20])\n",
    "\n",
    "\n",
    "\n",
    "\n",
    "# Repetition - *\n",
    "# One of the operand should be string and other should be int\n",
    "\n",
    "print((my_str1 + my_str2) * 4)\n",
    "\n",
    "\n",
    "\n"
   ]
  },
  {
   "cell_type": "code",
   "execution_count": 161,
   "metadata": {
    "ExecuteTime": {
     "end_time": "2021-04-17T06:14:28.131366Z",
     "start_time": "2021-04-17T06:14:28.122033Z"
    }
   },
   "outputs": [
    {
     "name": "stdout",
     "output_type": "stream",
     "text": [
      "The sum of 110 and 220 is 330\n"
     ]
    }
   ],
   "source": [
    "# String Formatting\n",
    "# print(10,20,30,40,50)\n",
    "# print(10,20,30,40,50, sep = ' ')\n",
    "\n",
    "# print(10,20,30,40,50, sep = '\\n')\n",
    "\n",
    "\n",
    "# print(10, end = '\\n')\n",
    "# print(20, end = '\\n')\n",
    "# print(30, end = '\\n')\n",
    "# print(40, end = '\\n')\n",
    "# print(50, end = '\\n')\n",
    "\n",
    "\n",
    "\n",
    "# print(10, end = '\\t')\n",
    "# print(20, end = '\\t')\n",
    "# print(30, end = '\\t')\n",
    "# print(40, end = '\\t')\n",
    "# print(50, end = '\\t')\n",
    "\n",
    "\n",
    "num1 = 110\n",
    "num2 = 220\n",
    "print(f'The sum of {num1} and {num2} is {num1+num2}')\n",
    "\n",
    "\n"
   ]
  },
  {
   "cell_type": "code",
   "execution_count": 172,
   "metadata": {
    "ExecuteTime": {
     "end_time": "2021-04-17T06:21:06.013401Z",
     "start_time": "2021-04-17T06:21:06.003256Z"
    }
   },
   "outputs": [
    {
     "name": "stdout",
     "output_type": "stream",
     "text": [
      "[None, None, None, None]\n"
     ]
    }
   ],
   "source": [
    "my_lst = [None]\n",
    "print(my_lst * 4)"
   ]
  },
  {
   "cell_type": "code",
   "execution_count": null,
   "metadata": {},
   "outputs": [],
   "source": []
  },
  {
   "cell_type": "code",
   "execution_count": null,
   "metadata": {},
   "outputs": [],
   "source": []
  },
  {
   "cell_type": "code",
   "execution_count": null,
   "metadata": {},
   "outputs": [],
   "source": []
  },
  {
   "cell_type": "code",
   "execution_count": null,
   "metadata": {},
   "outputs": [],
   "source": []
  },
  {
   "cell_type": "code",
   "execution_count": null,
   "metadata": {},
   "outputs": [],
   "source": []
  },
  {
   "cell_type": "code",
   "execution_count": null,
   "metadata": {},
   "outputs": [],
   "source": []
  },
  {
   "cell_type": "code",
   "execution_count": null,
   "metadata": {},
   "outputs": [],
   "source": []
  },
  {
   "cell_type": "code",
   "execution_count": null,
   "metadata": {},
   "outputs": [],
   "source": []
  },
  {
   "cell_type": "code",
   "execution_count": null,
   "metadata": {},
   "outputs": [],
   "source": []
  },
  {
   "cell_type": "code",
   "execution_count": null,
   "metadata": {},
   "outputs": [],
   "source": []
  },
  {
   "cell_type": "code",
   "execution_count": null,
   "metadata": {},
   "outputs": [],
   "source": []
  },
  {
   "cell_type": "code",
   "execution_count": null,
   "metadata": {},
   "outputs": [],
   "source": []
  },
  {
   "cell_type": "code",
   "execution_count": null,
   "metadata": {},
   "outputs": [],
   "source": []
  },
  {
   "cell_type": "code",
   "execution_count": null,
   "metadata": {},
   "outputs": [],
   "source": []
  },
  {
   "cell_type": "code",
   "execution_count": null,
   "metadata": {},
   "outputs": [],
   "source": []
  },
  {
   "cell_type": "code",
   "execution_count": null,
   "metadata": {},
   "outputs": [],
   "source": []
  },
  {
   "cell_type": "code",
   "execution_count": null,
   "metadata": {},
   "outputs": [],
   "source": []
  },
  {
   "cell_type": "code",
   "execution_count": null,
   "metadata": {},
   "outputs": [],
   "source": []
  },
  {
   "cell_type": "code",
   "execution_count": null,
   "metadata": {},
   "outputs": [],
   "source": []
  },
  {
   "cell_type": "code",
   "execution_count": null,
   "metadata": {},
   "outputs": [],
   "source": []
  },
  {
   "cell_type": "code",
   "execution_count": null,
   "metadata": {},
   "outputs": [],
   "source": []
  },
  {
   "cell_type": "code",
   "execution_count": null,
   "metadata": {},
   "outputs": [],
   "source": []
  },
  {
   "cell_type": "code",
   "execution_count": null,
   "metadata": {},
   "outputs": [],
   "source": []
  },
  {
   "cell_type": "code",
   "execution_count": null,
   "metadata": {},
   "outputs": [],
   "source": []
  },
  {
   "cell_type": "code",
   "execution_count": null,
   "metadata": {},
   "outputs": [],
   "source": []
  },
  {
   "cell_type": "code",
   "execution_count": null,
   "metadata": {},
   "outputs": [],
   "source": []
  },
  {
   "cell_type": "code",
   "execution_count": null,
   "metadata": {},
   "outputs": [],
   "source": []
  },
  {
   "cell_type": "code",
   "execution_count": null,
   "metadata": {},
   "outputs": [],
   "source": []
  },
  {
   "cell_type": "code",
   "execution_count": null,
   "metadata": {},
   "outputs": [],
   "source": []
  },
  {
   "cell_type": "code",
   "execution_count": null,
   "metadata": {},
   "outputs": [],
   "source": []
  },
  {
   "cell_type": "code",
   "execution_count": null,
   "metadata": {},
   "outputs": [],
   "source": []
  },
  {
   "cell_type": "code",
   "execution_count": null,
   "metadata": {},
   "outputs": [],
   "source": []
  },
  {
   "cell_type": "code",
   "execution_count": null,
   "metadata": {},
   "outputs": [],
   "source": []
  },
  {
   "cell_type": "code",
   "execution_count": null,
   "metadata": {},
   "outputs": [],
   "source": []
  },
  {
   "cell_type": "code",
   "execution_count": null,
   "metadata": {},
   "outputs": [],
   "source": []
  },
  {
   "cell_type": "code",
   "execution_count": null,
   "metadata": {},
   "outputs": [],
   "source": []
  },
  {
   "cell_type": "code",
   "execution_count": null,
   "metadata": {},
   "outputs": [],
   "source": []
  },
  {
   "cell_type": "code",
   "execution_count": null,
   "metadata": {},
   "outputs": [],
   "source": []
  },
  {
   "cell_type": "code",
   "execution_count": null,
   "metadata": {},
   "outputs": [],
   "source": []
  },
  {
   "cell_type": "code",
   "execution_count": null,
   "metadata": {},
   "outputs": [],
   "source": []
  },
  {
   "cell_type": "code",
   "execution_count": null,
   "metadata": {},
   "outputs": [],
   "source": []
  },
  {
   "cell_type": "code",
   "execution_count": null,
   "metadata": {},
   "outputs": [],
   "source": []
  },
  {
   "cell_type": "code",
   "execution_count": null,
   "metadata": {},
   "outputs": [],
   "source": []
  },
  {
   "cell_type": "code",
   "execution_count": null,
   "metadata": {},
   "outputs": [],
   "source": []
  },
  {
   "cell_type": "code",
   "execution_count": null,
   "metadata": {},
   "outputs": [],
   "source": []
  },
  {
   "cell_type": "code",
   "execution_count": null,
   "metadata": {},
   "outputs": [],
   "source": []
  },
  {
   "cell_type": "code",
   "execution_count": null,
   "metadata": {},
   "outputs": [],
   "source": []
  },
  {
   "cell_type": "code",
   "execution_count": null,
   "metadata": {},
   "outputs": [],
   "source": []
  },
  {
   "cell_type": "code",
   "execution_count": null,
   "metadata": {},
   "outputs": [],
   "source": []
  },
  {
   "cell_type": "code",
   "execution_count": null,
   "metadata": {},
   "outputs": [],
   "source": []
  },
  {
   "cell_type": "code",
   "execution_count": null,
   "metadata": {},
   "outputs": [],
   "source": []
  },
  {
   "cell_type": "code",
   "execution_count": null,
   "metadata": {},
   "outputs": [],
   "source": []
  },
  {
   "cell_type": "code",
   "execution_count": null,
   "metadata": {},
   "outputs": [],
   "source": []
  },
  {
   "cell_type": "code",
   "execution_count": null,
   "metadata": {},
   "outputs": [],
   "source": []
  },
  {
   "cell_type": "code",
   "execution_count": null,
   "metadata": {},
   "outputs": [],
   "source": []
  },
  {
   "cell_type": "code",
   "execution_count": null,
   "metadata": {},
   "outputs": [],
   "source": []
  },
  {
   "cell_type": "code",
   "execution_count": null,
   "metadata": {},
   "outputs": [],
   "source": []
  },
  {
   "cell_type": "code",
   "execution_count": null,
   "metadata": {},
   "outputs": [],
   "source": []
  },
  {
   "cell_type": "code",
   "execution_count": null,
   "metadata": {},
   "outputs": [],
   "source": []
  },
  {
   "cell_type": "code",
   "execution_count": null,
   "metadata": {},
   "outputs": [],
   "source": []
  },
  {
   "cell_type": "code",
   "execution_count": null,
   "metadata": {},
   "outputs": [],
   "source": []
  },
  {
   "cell_type": "code",
   "execution_count": null,
   "metadata": {},
   "outputs": [],
   "source": []
  }
 ],
 "metadata": {
  "kernelspec": {
   "display_name": "Python 3",
   "language": "python",
   "name": "python3"
  },
  "language_info": {
   "codemirror_mode": {
    "name": "ipython",
    "version": 3
   },
   "file_extension": ".py",
   "mimetype": "text/x-python",
   "name": "python",
   "nbconvert_exporter": "python",
   "pygments_lexer": "ipython3",
   "version": "3.8.2"
  },
  "latex_envs": {
   "LaTeX_envs_menu_present": true,
   "autoclose": false,
   "autocomplete": true,
   "bibliofile": "biblio.bib",
   "cite_by": "apalike",
   "current_citInitial": 1,
   "eqLabelWithNumbers": true,
   "eqNumInitial": 1,
   "hotkeys": {
    "equation": "Ctrl-E",
    "itemize": "Ctrl-I"
   },
   "labels_anchors": false,
   "latex_user_defs": false,
   "report_style_numbering": false,
   "user_envs_cfg": false
  },
  "varInspector": {
   "cols": {
    "lenName": 16,
    "lenType": 16,
    "lenVar": 40
   },
   "kernels_config": {
    "python": {
     "delete_cmd_postfix": "",
     "delete_cmd_prefix": "del ",
     "library": "var_list.py",
     "varRefreshCmd": "print(var_dic_list())"
    },
    "r": {
     "delete_cmd_postfix": ") ",
     "delete_cmd_prefix": "rm(",
     "library": "var_list.r",
     "varRefreshCmd": "cat(var_dic_list()) "
    }
   },
   "types_to_exclude": [
    "module",
    "function",
    "builtin_function_or_method",
    "instance",
    "_Feature"
   ],
   "window_display": false
  }
 },
 "nbformat": 4,
 "nbformat_minor": 2
}
