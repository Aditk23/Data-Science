{
 "cells": [
  {
   "cell_type": "code",
   "execution_count": 20,
   "metadata": {
    "ExecuteTime": {
     "end_time": "2021-05-08T03:52:20.899513Z",
     "start_time": "2021-05-08T03:52:20.882688Z"
    }
   },
   "outputs": [
    {
     "data": {
      "text/plain": [
       "21"
      ]
     },
     "execution_count": 20,
     "metadata": {},
     "output_type": "execute_result"
    }
   ],
   "source": [
    "# reduce - it gives a single value\n",
    "# sum, product, max, min - Aggregate\n",
    "# Syntax - reduce(func, seq)\n",
    "\n",
    "# print(dir(__builtins__))\n",
    "# print(dir())\n",
    "\n",
    "# def my_add(a,b):\n",
    "#     return a+b\n",
    "\n",
    "# from functools import reduce\n",
    "# reduce(my_add,[10,20,30,40,50,60,70,80,90])\n",
    "\n",
    "# x = 10\n",
    "# y = 20\n",
    "# x = x+y = 30\n",
    "\n",
    "# x = 30\n",
    "# y = 30\n",
    "# x = x+y = 60\n",
    "\n",
    "# x = 60\n",
    "# y = 40\n",
    "# x = x+y = 100\n",
    "\n",
    "# \n",
    "\n",
    "\n",
    "# print(reduce(lambda x, y : x*y,[10,20,30,40,50,60,70,80,90]))\n",
    "\n",
    "# print(reduce(lambda x, y : x if x>y else y,'Python'))\n",
    "# print(reduce(lambda x, y : x if x<y else y,[10,20,30,40,50,60,70,80,90]))\n",
    "\n",
    "# Prod, max, min\n",
    "\n",
    "# lst = [(1,2), (5, 9), (7, 6), (4, 3), (8, 0), (9, 1)]\n",
    "# def add_last_ele(x,y):\n",
    "#     try:\n",
    "#         if lst.index(x) == 0:\n",
    "#             return x[-1] + y[-1]\n",
    "#     except:\n",
    "#         return x + y[-1]\n",
    "\n",
    "# reduce(add_last_ele, lst)\n",
    "\n"
   ]
  },
  {
   "cell_type": "code",
   "execution_count": 29,
   "metadata": {
    "ExecuteTime": {
     "end_time": "2021-05-08T04:00:48.622320Z",
     "start_time": "2021-05-08T04:00:48.614958Z"
    }
   },
   "outputs": [
    {
     "name": "stdout",
     "output_type": "stream",
     "text": [
      "10\n",
      "20\n",
      "30\n",
      "40\n",
      "50\n",
      "60\n",
      "70\n",
      "80\n"
     ]
    }
   ],
   "source": [
    "# Iterators and Generators\n",
    "\n",
    "# Iterable - Any object which implements __iter__ function\n",
    "# print(dir(list))\n",
    "\n",
    "# print(dir(str))\n",
    "\n",
    "# print(dir(dict))\n",
    "\n",
    "\n",
    "lst = [10,20,30,40,50,60,70,80]\n",
    "# my_iter = iter(lst)\n",
    "# print(my_iter)\n",
    "# print(next(my_iter))\n",
    "# print(next(my_iter))\n",
    "# print(next(my_iter))\n",
    "# print(next(my_iter))\n",
    "# print(next(my_iter))\n",
    "# print(next(my_iter))\n",
    "# print(next(my_iter))\n",
    "# print(next(my_iter))\n",
    "# print(next(my_iter))\n",
    "\n",
    "# for i in lst:\n",
    "#     print(i)\n"
   ]
  },
  {
   "cell_type": "code",
   "execution_count": 55,
   "metadata": {
    "ExecuteTime": {
     "end_time": "2021-05-08T04:21:14.308647Z",
     "start_time": "2021-05-08T04:21:14.265270Z"
    }
   },
   "outputs": [
    {
     "name": "stdout",
     "output_type": "stream",
     "text": [
      "<generator object <genexpr> at 0x1168969e0>\n",
      "10\n",
      "20\n",
      "30\n",
      "40\n",
      "50\n"
     ]
    }
   ],
   "source": [
    "# Generator - Generator is a seq which generates the value as and when required\n",
    "# The only differece between generator and other sequence is generator is memory efficient.\n",
    "\n",
    "import sys\n",
    "# lst = list(range(1000))\n",
    "# print(lst)\n",
    "# print(sys.getsizeof(lst))\n",
    "\n",
    "# a = [i for i in range(1000000)]\n",
    "# print(sys.getsizeof(a))\n",
    "\n",
    "b = (i for i in [10,20,30,40,50])\n",
    "print(b)\n",
    "for i in b:\n",
    "    print(i)\n",
    "# print(sys.getsizeof(b))\n",
    "# print(b)\n",
    "\n",
    "# Generator is memory efficient\n",
    "# Tuple comprehension gives a generator object\n",
    "\n",
    "# print(dir(b))\n",
    "\n",
    "# my_iter = iter(b)\n",
    "# print(next(my_iter))\n",
    "# print(next(my_iter))\n",
    "# print(next(my_iter))\n",
    "# print(next(my_iter))\n",
    "# print(next(my_iter))\n",
    "# print(next(my_iter))\n",
    "# print(next(my_iter))\n",
    "# print(next(my_iter))\n",
    "\n",
    "# for i in b:\n",
    "#     print(i)\n",
    "\n",
    "# lst = [10, 10.20, 10+20j, 'Hello', None, True, [1,2,3], (11,22,33), {1:100, 2:200, 3:300}, {1:100, 2:200, 3:300}]\n",
    "# print(lst)\n",
    "# print(sys.getsizeof(lst))\n",
    "\n",
    "\n",
    "# if we use a yield keyword at least onec in any function definition then that function is a generator object.\n",
    "# yield and returns statement are same, yield can be used multiple time whereas retrun can be used only once in a function call\n",
    "# yield remebers it's last state\n",
    "\n",
    "\n",
    "def my_gen():\n",
    "    yield 10\n",
    "    yield 10.20\n",
    "    yield 10+20j\n",
    "    yield 'hello'\n",
    "    yield None\n",
    "    yield True\n",
    "    yield [10,20,30]\n",
    "    yield (1,2,3)\n",
    "    yield {1:100, 2:200, 3:300}\n",
    "    yield {1:100, 2:200, 3:300}\n",
    "    \n",
    "g = my_gen()\n",
    "# print(g)\n",
    "# print(sys.getsizeof(g))\n",
    "\n",
    "# my_iter = iter(g)\n",
    "# print(next(my_iter))\n",
    "# print(next(my_iter))\n",
    "# print(next(my_iter))\n",
    "# print(next(my_iter))\n",
    "# print(next(my_iter))\n",
    "# print(next(my_iter))\n",
    "# print(next(my_iter))\n",
    "# print(next(my_iter))\n",
    "\n",
    "# for i in my_gen():\n",
    "#     print(i)\n",
    "\n"
   ]
  },
  {
   "cell_type": "code",
   "execution_count": null,
   "metadata": {},
   "outputs": [],
   "source": [
    "# Create a genertaor which yields 100 user defined input"
   ]
  },
  {
   "cell_type": "code",
   "execution_count": 57,
   "metadata": {
    "ExecuteTime": {
     "end_time": "2021-05-08T04:34:00.612761Z",
     "start_time": "2021-05-08T04:34:00.607663Z"
    }
   },
   "outputs": [],
   "source": [
    "# def my_gen():\n",
    "#     for i in range(100):\n",
    "#         yield input('Enter a value :')    \n",
    "# g = my_gen()\n",
    "# for i in g:\n",
    "#     print(i)"
   ]
  },
  {
   "cell_type": "code",
   "execution_count": null,
   "metadata": {},
   "outputs": [],
   "source": [
    "# Modules\n",
    "# Any python file with .py extension - module\n",
    "\n",
    "Modules\n",
    "    1. Built-in Module - math, sys, datetime, random\n",
    "    2. Userdefined module - \n",
    "\n",
    "\n"
   ]
  },
  {
   "cell_type": "code",
   "execution_count": 4,
   "metadata": {
    "ExecuteTime": {
     "end_time": "2021-05-08T04:51:07.389378Z",
     "start_time": "2021-05-08T04:51:07.375623Z"
    }
   },
   "outputs": [
    {
     "name": "stdout",
     "output_type": "stream",
     "text": [
      "['In', 'NamespaceMagics', 'Out', '_', '_1', '_Jupyter', '__', '___', '__builtin__', '__builtins__', '__doc__', '__loader__', '__name__', '__package__', '__spec__', '_dh', '_getshapeof', '_getsizeof', '_i', '_i1', '_i2', '_i3', '_i4', '_ih', '_ii', '_iii', '_nms', '_oh', 'exit', 'get_ipython', 'getsizeof', 'json', 'math', 'np', 'quit', 'var_dic_list']\n"
     ]
    },
    {
     "data": {
      "text/plain": [
       "2.0"
      ]
     },
     "execution_count": 4,
     "metadata": {},
     "output_type": "execute_result"
    }
   ],
   "source": [
    "# Importing a module\n",
    "# print(dir())\n",
    "import math\n",
    "print(dir())\n",
    "# print(dir(math))\n",
    "math.sqrt(4)\n"
   ]
  },
  {
   "cell_type": "code",
   "execution_count": 4,
   "metadata": {
    "ExecuteTime": {
     "end_time": "2021-05-08T04:39:38.401655Z",
     "start_time": "2021-05-08T04:39:38.395448Z"
    }
   },
   "outputs": [
    {
     "name": "stdout",
     "output_type": "stream",
     "text": [
      "['__doc__', '__file__', '__loader__', '__name__', '__package__', '__spec__', 'acos', 'acosh', 'asin', 'asinh', 'atan', 'atan2', 'atanh', 'ceil', 'comb', 'copysign', 'cos', 'cosh', 'degrees', 'dist', 'e', 'erf', 'erfc', 'exp', 'expm1', 'fabs', 'factorial', 'floor', 'fmod', 'frexp', 'fsum', 'gamma', 'gcd', 'hypot', 'inf', 'isclose', 'isfinite', 'isinf', 'isnan', 'isqrt', 'ldexp', 'lgamma', 'log', 'log10', 'log1p', 'log2', 'modf', 'nan', 'perm', 'pi', 'pow', 'prod', 'radians', 'remainder', 'sin', 'sinh', 'sqrt', 'tan', 'tanh', 'tau', 'trunc']\n"
     ]
    }
   ],
   "source": [
    "# print(dir())\n",
    "# import math as m\n",
    "# print(dir())\n",
    "# m.sqrt(4)\n",
    "# print(dir(m))"
   ]
  },
  {
   "cell_type": "code",
   "execution_count": 6,
   "metadata": {
    "ExecuteTime": {
     "end_time": "2021-05-08T04:41:53.378539Z",
     "start_time": "2021-05-08T04:41:53.370620Z"
    }
   },
   "outputs": [
    {
     "name": "stdout",
     "output_type": "stream",
     "text": [
      "2.0\n",
      "2.302585092994046\n"
     ]
    }
   ],
   "source": [
    "# print(dir())\n",
    "from math import sqrt, log\n",
    "# print(dir())\n",
    "\n",
    "print(sqrt(4))\n",
    "print(log(10))\n",
    "# print(m.sin(10))"
   ]
  },
  {
   "cell_type": "code",
   "execution_count": 8,
   "metadata": {
    "ExecuteTime": {
     "end_time": "2021-05-08T04:45:30.649747Z",
     "start_time": "2021-05-08T04:45:30.645253Z"
    }
   },
   "outputs": [],
   "source": [
    "# from math import sqrt\n",
    "# from numpy import sqrt\n",
    "# print(sqrt())"
   ]
  },
  {
   "cell_type": "code",
   "execution_count": 2,
   "metadata": {
    "ExecuteTime": {
     "end_time": "2021-05-08T04:45:59.202341Z",
     "start_time": "2021-05-08T04:45:59.195974Z"
    }
   },
   "outputs": [],
   "source": [
    "# from math import *\n",
    "# print(dir())"
   ]
  },
  {
   "cell_type": "code",
   "execution_count": 1,
   "metadata": {
    "ExecuteTime": {
     "end_time": "2021-05-08T04:56:25.038347Z",
     "start_time": "2021-05-08T04:56:25.007836Z"
    }
   },
   "outputs": [
    {
     "name": "stdout",
     "output_type": "stream",
     "text": [
      "['In', 'Out', '_', '__', '___', '__builtin__', '__builtins__', '__doc__', '__loader__', '__name__', '__package__', '__spec__', '_dh', '_i', '_i1', '_ih', '_ii', '_iii', '_oh', 'exit', 'get_ipython', 'quit']\n",
      "['In', 'Out', '_', '__', '___', '__builtin__', '__builtins__', '__doc__', '__loader__', '__name__', '__package__', '__spec__', '_dh', '_i', '_i1', '_ih', '_ii', '_iii', '_oh', 'exit', 'get_ipython', 'my_mod', 'quit']\n"
     ]
    }
   ],
   "source": [
    "print(dir())\n",
    "import my_mod\n",
    "print(dir())"
   ]
  },
  {
   "cell_type": "code",
   "execution_count": 4,
   "metadata": {
    "ExecuteTime": {
     "end_time": "2021-05-08T04:59:39.393139Z",
     "start_time": "2021-05-08T04:59:39.386929Z"
    }
   },
   "outputs": [
    {
     "name": "stdout",
     "output_type": "stream",
     "text": [
      "Valid Password\n",
      "Invalid Password\n",
      "Valid email id\n"
     ]
    }
   ],
   "source": [
    "# my_mod.password_valid('Abc@123')\n",
    "# my_mod.password_valid('Abc123')\n",
    "\n",
    "# my_mod.validate_email('Abc@gmail.com')"
   ]
  },
  {
   "cell_type": "code",
   "execution_count": 2,
   "metadata": {
    "ExecuteTime": {
     "end_time": "2021-05-08T05:13:07.038136Z",
     "start_time": "2021-05-08T05:13:07.033385Z"
    }
   },
   "outputs": [],
   "source": [
    "import my_mod\n",
    "# my_mod.main()\n",
    "# my_mod.re.search('[@]', 'Python@123')"
   ]
  },
  {
   "cell_type": "code",
   "execution_count": 2,
   "metadata": {
    "ExecuteTime": {
     "end_time": "2021-05-08T05:02:30.457328Z",
     "start_time": "2021-05-08T05:02:30.449742Z"
    }
   },
   "outputs": [
    {
     "name": "stdout",
     "output_type": "stream",
     "text": [
      "['__doc__', '__file__', '__loader__', '__name__', '__package__', '__spec__', 'acos', 'acosh', 'asin', 'asinh', 'atan', 'atan2', 'atanh', 'ceil', 'comb', 'copysign', 'cos', 'cosh', 'degrees', 'dist', 'e', 'erf', 'erfc', 'exp', 'expm1', 'fabs', 'factorial', 'floor', 'fmod', 'frexp', 'fsum', 'gamma', 'gcd', 'hypot', 'inf', 'isclose', 'isfinite', 'isinf', 'isnan', 'isqrt', 'ldexp', 'lgamma', 'log', 'log10', 'log1p', 'log2', 'modf', 'nan', 'perm', 'pi', 'pow', 'prod', 'radians', 'remainder', 'sin', 'sinh', 'sqrt', 'tan', 'tanh', 'tau', 'trunc']\n"
     ]
    }
   ],
   "source": [
    "import math\n",
    "print(dir(math))"
   ]
  },
  {
   "cell_type": "code",
   "execution_count": 3,
   "metadata": {
    "ExecuteTime": {
     "end_time": "2021-05-08T05:43:37.067685Z",
     "start_time": "2021-05-08T05:43:37.048747Z"
    }
   },
   "outputs": [
    {
     "name": "stdout",
     "output_type": "stream",
     "text": [
      "__main__\n"
     ]
    }
   ],
   "source": [
    "print(__name__)"
   ]
  },
  {
   "cell_type": "code",
   "execution_count": null,
   "metadata": {},
   "outputs": [],
   "source": [
    "# File_Handling\n",
    "\n",
    "# Text File\n",
    "# Binary File - Image, pdf file, audio, video file\n",
    "\n",
    "# File related Operation\n",
    "# open a file\n",
    "# operations on file\n",
    "# closing a file\n",
    "\n",
    "# Function to open a file\n",
    "# file_var = open('file_name.ext', 'mode')\n",
    "# file_var.write()\n",
    "# file_var.read()\n",
    "# file_var.close()\n",
    "\n",
    "# Mode of operation on text file\n",
    "# Read mode - 'r'\n",
    "# Read and write mode - 'r+'\n",
    "# write mode - 'w'\n",
    "# write and read  mode - 'w+'\n",
    "# append mode - 'a'\n",
    "# append and read mode - 'a+'\n",
    "\n",
    "# Mode of operation on binary file\n",
    "# Read mode - 'rb'\n",
    "# Read and write mode - 'r+b'\n",
    "# write mode - 'wb'\n",
    "# write and read  mode - 'w+b'\n",
    "# append mode - 'ab'\n",
    "# append and read mode - 'a+b'\n"
   ]
  },
  {
   "cell_type": "code",
   "execution_count": 11,
   "metadata": {
    "ExecuteTime": {
     "end_time": "2021-05-08T06:07:08.220915Z",
     "start_time": "2021-05-08T06:07:08.209044Z"
    }
   },
   "outputs": [
    {
     "name": "stdout",
     "output_type": "stream",
     "text": [
      "0\n",
      "import re\n",
      "def validate_email(email):\n",
      "    if '@' in email and '.' in email:\n",
      "        print('Valid email id')\n",
      "    else:\n",
      "        print('Invalid Email id')\n",
      "    \n",
      "        print('Valid Password')\n",
      "    else:\n",
      "        print('Invalid Password')  \n",
      "\n",
      "def main():\n",
      "    validate_email('Abc@gmail.com')\n",
      "    password_valid('Abc@123')\n",
      "    print(__name__)\n",
      "    \n",
      "    \n",
      "if __name__ == '__main__':\n",
      "    main()\n",
      "Hello\n",
      "Hello\n",
      "392\n",
      "import re\n",
      "def validate_email(email):\n",
      "    if '@' in email and '.' in email:\n",
      "        print('Valid email id')\n",
      "    else:\n",
      "        print('Invalid Email id')\n",
      "    \n",
      "        print('Valid Password')\n",
      "    else:\n",
      "        print('Invalid Password')  \n",
      "\n",
      "def main():\n",
      "    validate_email('Abc@gmail.com')\n",
      "    password_valid('Abc@123')\n",
      "    print(__name__)\n",
      "    \n",
      "    \n",
      "if __name__ == '__main__':\n",
      "    main()\n",
      "Hello\n",
      "Hello\n",
      "Hello\n"
     ]
    }
   ],
   "source": [
    "# Read Mode - 'r'\n",
    "# 1. If file exist then it will open the file in read mode and places the cursor in the begining of the file\n",
    "# 2. If file does not exist then it will raise FileNotFoundError.\n",
    "# 3. In this mode of operation you are allowed only to read from the file but not allowed to write into the file.\n",
    "\n",
    "\n",
    "# f = open('my_file.py', 'r')    # FileNotFoundError: [Errno 2] No such file or directory: 'my_file.py'\n",
    "# print(f.read())\n",
    "# f.close()\n",
    "\n",
    "# f = open('my_mod.py', 'r')\n",
    "# print(f.tell())\n",
    "# print(f.read())\n",
    "# print(f.tell())\n",
    "# # f.write('\\nHello')   # UnsupportedOperation: not writable\n",
    "# f.close()\n",
    "\n",
    "# Read and write Mode - 'r+'\n",
    "# 1. If file exist then it will open the file in read mode and places the cursor in the begining of the file\n",
    "# 2. If file does not exist then it will raise FileNotFoundError.\n",
    "# 3. In this mode of operation you are allowed to read and write both into the file.\n",
    "\n",
    "# f = open('my_file.py', 'r+')    # FileNotFoundError: [Errno 2] No such file or directory: 'my_file.py'\n",
    "# print(f.read())\n",
    "# f.close()\n",
    "\n",
    "# f = open('my_mod.py', 'r+')\n",
    "# print(f.tell())\n",
    "# print(f.read())\n",
    "# print(f.tell())\n",
    "# f.write('\\nHello')   # UnsupportedOperation: not writable\n",
    "# f.seek(0)\n",
    "# print(f.read())\n",
    "# f.close()\n",
    "\n",
    "\n",
    "\n",
    "\n",
    "\n"
   ]
  },
  {
   "cell_type": "code",
   "execution_count": 16,
   "metadata": {
    "ExecuteTime": {
     "end_time": "2021-05-08T06:15:22.768093Z",
     "start_time": "2021-05-08T06:15:22.750677Z"
    }
   },
   "outputs": [
    {
     "name": "stdout",
     "output_type": "stream",
     "text": [
      "0\n",
      "24\n",
      "Python class at Learnbay\n"
     ]
    }
   ],
   "source": [
    "# Write mode - 'w'\n",
    "# 1. If file exist then it will open the file in write mode and places the cursor in the begining of the file after deleting the cinetnt of the file\n",
    "# 2. If file does not exist then it will create a file with this name.\n",
    "# 3. In this mode of operation you are allowed only to write into the file but not allowed to read from the file.\n",
    "\n",
    "# f = open('my_file.py', 'w')\n",
    "# f.close()\n",
    "\n",
    "# f = open('my_file.py', 'w')\n",
    "# print(f.tell())\n",
    "# f.write('Python class at Learnbay')\n",
    "# print(f.tell())\n",
    "# f.seek(0)\n",
    "# print(f.read())  # UnsupportedOperation: not readable\n",
    "# f.close()\n",
    "\n",
    "# Write and read mode - 'w+'\n",
    "# 1. If file exist then it will open the file in write mode and places the cursor in the begining of the file after deleting the cinetnt of the file\n",
    "# 2. If file does not exist then it will create a file with this name.\n",
    "# 3. In this mode of operation you are allowed to read and write both into the file.\n",
    "f = open('my_file.py', 'w+')\n",
    "print(f.tell())\n",
    "f.write('Python class at Learnbay')\n",
    "print(f.tell())\n",
    "f.seek(0)\n",
    "print(f.read())  \n",
    "f.close()\n"
   ]
  },
  {
   "cell_type": "code",
   "execution_count": null,
   "metadata": {},
   "outputs": [],
   "source": [
    "# Methods to write into a file\n",
    "# f.write('Str')\n",
    "# f.writelines(['ABC\\n', 'DEF\\n', 'GHI\\n', 'JKL\\n'])\n",
    "\n",
    "# Methods to read from a file\n",
    "# f.read() - it reads the whole content of the file from current cursor position and returns a string object\n",
    "# f.read(no of char) - it reads the specified no of characters from the file from current cursor position and returns a string object\n",
    "# f.readline() - it reads the current line from the file from current cursor position and returns a string object\n",
    "# f.readlines() - it reads the whole content of the file from current cursor position and returns a list of string object where every elemt of list is a line"
   ]
  },
  {
   "cell_type": "code",
   "execution_count": null,
   "metadata": {},
   "outputs": [],
   "source": [
    "# f.tell() - Gives you current cursor position - index\n",
    "# f.seek(index) -it moves teh cursor to specified position"
   ]
  },
  {
   "cell_type": "code",
   "execution_count": null,
   "metadata": {},
   "outputs": [],
   "source": []
  },
  {
   "cell_type": "code",
   "execution_count": null,
   "metadata": {},
   "outputs": [],
   "source": []
  },
  {
   "cell_type": "code",
   "execution_count": null,
   "metadata": {},
   "outputs": [],
   "source": []
  },
  {
   "cell_type": "code",
   "execution_count": null,
   "metadata": {},
   "outputs": [],
   "source": []
  },
  {
   "cell_type": "code",
   "execution_count": null,
   "metadata": {},
   "outputs": [],
   "source": []
  },
  {
   "cell_type": "code",
   "execution_count": null,
   "metadata": {},
   "outputs": [],
   "source": []
  },
  {
   "cell_type": "code",
   "execution_count": null,
   "metadata": {},
   "outputs": [],
   "source": []
  },
  {
   "cell_type": "code",
   "execution_count": null,
   "metadata": {},
   "outputs": [],
   "source": []
  },
  {
   "cell_type": "code",
   "execution_count": null,
   "metadata": {},
   "outputs": [],
   "source": []
  },
  {
   "cell_type": "code",
   "execution_count": null,
   "metadata": {},
   "outputs": [],
   "source": []
  }
 ],
 "metadata": {
  "kernelspec": {
   "display_name": "Python 3",
   "language": "python",
   "name": "python3"
  },
  "language_info": {
   "codemirror_mode": {
    "name": "ipython",
    "version": 3
   },
   "file_extension": ".py",
   "mimetype": "text/x-python",
   "name": "python",
   "nbconvert_exporter": "python",
   "pygments_lexer": "ipython3",
   "version": "3.8.2"
  },
  "latex_envs": {
   "LaTeX_envs_menu_present": true,
   "autoclose": false,
   "autocomplete": true,
   "bibliofile": "biblio.bib",
   "cite_by": "apalike",
   "current_citInitial": 1,
   "eqLabelWithNumbers": true,
   "eqNumInitial": 1,
   "hotkeys": {
    "equation": "Ctrl-E",
    "itemize": "Ctrl-I"
   },
   "labels_anchors": false,
   "latex_user_defs": false,
   "report_style_numbering": false,
   "user_envs_cfg": false
  },
  "varInspector": {
   "cols": {
    "lenName": 16,
    "lenType": 16,
    "lenVar": 40
   },
   "kernels_config": {
    "python": {
     "delete_cmd_postfix": "",
     "delete_cmd_prefix": "del ",
     "library": "var_list.py",
     "varRefreshCmd": "print(var_dic_list())"
    },
    "r": {
     "delete_cmd_postfix": ") ",
     "delete_cmd_prefix": "rm(",
     "library": "var_list.r",
     "varRefreshCmd": "cat(var_dic_list()) "
    }
   },
   "types_to_exclude": [
    "module",
    "function",
    "builtin_function_or_method",
    "instance",
    "_Feature"
   ],
   "window_display": false
  }
 },
 "nbformat": 4,
 "nbformat_minor": 2
}
