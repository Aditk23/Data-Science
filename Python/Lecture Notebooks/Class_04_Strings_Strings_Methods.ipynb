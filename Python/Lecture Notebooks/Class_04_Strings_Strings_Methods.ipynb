{
 "cells": [
  {
   "cell_type": "code",
   "execution_count": null,
   "metadata": {},
   "outputs": [],
   "source": [
    "# String Properties\n",
    "    1. String is a sequence\n",
    "        1. String follows +ve and -ve indexing both\n",
    "        2. +ve index starts from 0 from Left side\n",
    "        3. -ve index starts from -1 from Right side\n",
    "        4. Basic Operation \n",
    "            1. Indexing\n",
    "            2. Slicing\n",
    "            3. Concatenation\n",
    "            4. Repetition\n",
    "            5. Membership\n",
    "            6. Length\n",
    "        5. String methods"
   ]
  },
  {
   "cell_type": "code",
   "execution_count": 14,
   "metadata": {
    "ExecuteTime": {
     "end_time": "2021-04-24T03:34:19.152630Z",
     "start_time": "2021-04-24T03:34:19.130214Z"
    }
   },
   "outputs": [
    {
     "name": "stdout",
     "output_type": "stream",
     "text": [
      "4539409904 Python\n",
      "P 4539887472\n",
      "P 4539887472\n",
      "P 4539887472\n",
      "n 4539408944\n",
      "n 4539408944\n",
      "n 4539408944\n",
      "h\n"
     ]
    }
   ],
   "source": [
    "# How string is stored in the memeory\n",
    "my_str = 'Python'\n",
    "print(id(my_str), my_str)\n",
    "\n",
    "# Indexing - Accessing one charaxcter at a time\n",
    "# Syntax - str_name[index] = \n",
    "print(my_str[0], id(my_str[0]))\n",
    "print(my_str[-6], id(my_str[-6]))\n",
    "print(my_str[-len(my_str)], id(my_str[-len(my_str)]))\n",
    "\n",
    "# Accessing last characters\n",
    "print(my_str[-1], id(my_str[-1]))\n",
    "print(my_str[5], id(my_str[5]))\n",
    "print(my_str[len(my_str)-1], id(my_str[len(my_str)-1]))\n",
    "\n",
    "print(my_str[3])\n",
    "\n"
   ]
  },
  {
   "cell_type": "code",
   "execution_count": 29,
   "metadata": {
    "ExecuteTime": {
     "end_time": "2021-04-24T03:56:16.207422Z",
     "start_time": "2021-04-24T03:56:16.199332Z"
    }
   },
   "outputs": [],
   "source": [
    "# Slicing - Taking out a piece of the string\n",
    "# Accessing multiple characters ata time\n",
    "# Syntax - str_name[start_ind:stop_ind:step]\n",
    "# Start index - is the index from where you want to start the slicing\n",
    "# stop index - is the index till where you want to slice the string + 1\n",
    "# step -> step size - \n",
    "\n",
    "# Default step size - 1\n",
    "# Default start index - 0\n",
    "# Default stop index - len(my_str)\n",
    "\n",
    "# Step size can be +ve or -ve\n",
    "# +ve it means slicing is done from Left to Right\n",
    "# -ve it means slicing is done from Right to Left\n",
    "\n",
    "\n",
    "my_str = 'This is Python class'\n",
    "# print(my_str[8:14:1])\n",
    "# print(my_str[8:14])\n",
    "\n",
    "# print(my_str[::])\n",
    "# print(my_str[0:len(my_str):1])\n",
    "\n",
    "# print(my_str[::2])\n",
    "# print(my_str[::3])\n",
    "\n",
    "# print(my_str[14:8:1])   \n",
    "# Note:- When step size os +ve then start index should always be on left side compared to your stop index, \n",
    "    #otherwise it will give empty string\n",
    "    \n",
    "# print(my_str[13:7:-1])\n",
    "# print(my_str[-13:-7])\n",
    "\n",
    "# Note:- When step size os -ve then start index should always be on right side compared to your stop index, \n",
    "    #otherwise it will give empty string\n",
    "\n",
    "    \n",
    "# When step size - -ve\n",
    "# Default start index - -1\n",
    "# Default stop index - (-len(my_str)-1)\n",
    "# print(my_str[::-1])\n",
    "# print(my_str[-1:-len(my_str)-1:-1])\n"
   ]
  },
  {
   "cell_type": "code",
   "execution_count": 33,
   "metadata": {
    "ExecuteTime": {
     "end_time": "2021-04-24T04:00:08.098255Z",
     "start_time": "2021-04-24T04:00:08.091136Z"
    }
   },
   "outputs": [
    {
     "name": "stdout",
     "output_type": "stream",
     "text": [
      "\n"
     ]
    }
   ],
   "source": [
    "my_str='python' \n",
    "print(my_str[5:6:-1])"
   ]
  },
  {
   "cell_type": "code",
   "execution_count": 39,
   "metadata": {
    "ExecuteTime": {
     "end_time": "2021-04-24T04:05:50.200774Z",
     "start_time": "2021-04-24T04:05:50.197080Z"
    }
   },
   "outputs": [],
   "source": [
    "# String Methods\n",
    "# print(dir(str))\n",
    "\n",
    "#  'encode', , 'expandtabs', 'format', 'format_map', \n",
    "#  'maketrans', 'partition', \n",
    "#  'rpartition', 'rsplit','splitlines',  \n",
    "#  'translate',\n"
   ]
  },
  {
   "cell_type": "code",
   "execution_count": 48,
   "metadata": {
    "ExecuteTime": {
     "end_time": "2021-04-24T04:12:45.697863Z",
     "start_time": "2021-04-24T04:12:45.682842Z"
    }
   },
   "outputs": [
    {
     "name": "stdout",
     "output_type": "stream",
     "text": [
      "fließen\n",
      "fliessen\n"
     ]
    }
   ],
   "source": [
    "# 'capitalize', 'casefold', 'lower', 'swapcase', 'title', 'upper'\n",
    "\n",
    "str1 = 'this is python class'\n",
    "str2 = 'THIS is Python class'\n",
    "\n",
    "# capitalize\n",
    "# Signature: str1.capitalize()\n",
    "# Docstring:\n",
    "# Return a capitalized version of the string.\n",
    "# More specifically, make the first character have upper case and the rest lower case.\n",
    "\n",
    "# print(str1.capitalize())\n",
    "# print(str2.capitalize())\n",
    "\n",
    "# title\n",
    "# Signature: str1.title()\n",
    "# Docstring:\n",
    "# Return a version of the string where each word is titlecased.\n",
    "# More specifically, words start with uppercased characters and all remaining cased characters have lower case.\n",
    "# str1.title()\n",
    "\n",
    "# upper\n",
    "# Signature: str1.upper()\n",
    "# Docstring: Return a copy of the string converted to uppercase.\n",
    "# str1.upper()\n",
    "\n",
    "# swapcase\n",
    "# Signature: str2.swapcase()\n",
    "# Docstring: Convert uppercase characters to lowercase and lowercase characters to uppercase.\n",
    "# str2.swapcase()\n",
    "\n",
    "\n",
    "# lower and casefold\n",
    "# str3 = 'FLIEßEN'\n",
    "# print(str3.lower())\n",
    "# print(str3.casefold())\n",
    "\n",
    "\n",
    "\n",
    "\n"
   ]
  },
  {
   "cell_type": "code",
   "execution_count": 59,
   "metadata": {
    "ExecuteTime": {
     "end_time": "2021-04-24T04:28:12.333481Z",
     "start_time": "2021-04-24T04:28:12.323956Z"
    }
   },
   "outputs": [],
   "source": [
    "# 'isascii', \n",
    "# 'isprintable', \n",
    "\n",
    "# These methods returns Boolean value\n",
    "# isalnum - string is having alphanumeric characters\n",
    "# isalpha - string is having alphabet characters\n",
    "# islower - Whetehr all teh characetsr are in lower case\n",
    "# isupper - Whetehr all teh characetsr are in upper case\n",
    "# istitle - Whether the stringis in title case (First letter of every word is in capital)\n",
    "# isspace - Whether the string is having only space characters or not\n",
    "# isnumeric - wheher all the characters are numerical values\n",
    "# isidentifier - It check whether the string is a valid identifier - exception - for keywords it will give True\n",
    "# isascii - it checks whether he letters are in ascii table or not\n",
    "# isprintable - it checks whther thering is in printable format\n",
    "\n",
    "# my_str1 = 'This is \\n\\t Python class'\n",
    "# my_str2 = '\\n\\t\\f \\v\\n\\t'\n",
    "# print(my_str1.isspace())\n",
    "# print(my_str2.isspace())\n",
    "\n",
    "\n",
    "# my_str1 = 'Python'\n",
    "# my_str2 = '1num'\n",
    "# my_str3 = 'num$'\n",
    "# my_str4 = 'num2'\n",
    "# my_str5 = 'num2'\n",
    "# my_str6 = 'for'\n",
    "# print(my_str1.isidentifier())\n",
    "# print(my_str2.isidentifier())\n",
    "# print(my_str3.isidentifier())\n",
    "# print(my_str4.isidentifier())\n",
    "# print(my_str5.isidentifier())\n",
    "# print(my_str6.isidentifier())\n",
    "# import keyword\n",
    "# print(keyword.iskeyword(my_str6))\n",
    "\n",
    "# my_str1 = 'This is \\nPython class'\n",
    "# print(my_str1.isprintable())\n",
    "\n",
    "# my_str1 = 'This is \\\\nPython class'\n",
    "# print(my_str1.isprintable())\n",
    "\n"
   ]
  },
  {
   "cell_type": "code",
   "execution_count": 68,
   "metadata": {
    "ExecuteTime": {
     "end_time": "2021-04-24T04:35:06.317781Z",
     "start_time": "2021-04-24T04:35:06.307306Z"
    }
   },
   "outputs": [],
   "source": [
    "# 'count'\n",
    "# Docstring:\n",
    "# S.count(sub[, start[, end]]) -> int\n",
    "# Return the number of non-overlapping occurrences of substring sub in\n",
    "# string S[start:end].  Optional arguments start and end are\n",
    "# interpreted as in slice notation.\n",
    "\n",
    "# my_str = 'this is python class'\n",
    "# print(my_str.count('s'))\n",
    "# print(my_str.count('is'))\n",
    "# print(my_str.count('s', 4))\n",
    "# print(my_str.count('s',10, 15))"
   ]
  },
  {
   "cell_type": "code",
   "execution_count": 76,
   "metadata": {
    "ExecuteTime": {
     "end_time": "2021-04-24T04:40:26.978979Z",
     "start_time": "2021-04-24T04:40:26.974109Z"
    }
   },
   "outputs": [],
   "source": [
    "# 'endswith', 'startswith',\n",
    "# Returns Boolean Value\n",
    "\n",
    "# startswith\n",
    "# Docstring:\n",
    "# S.startswith(prefix[, start[, end]]) -> bool\n",
    "# Return True if S starts with the specified prefix, False otherwise.\n",
    "# With optional start, test S beginning at that position.\n",
    "# With optional end, stop comparing S at that position.\n",
    "# prefix can also be a tuple of strings to try.\n",
    "\n",
    "# my_str1 = 'this is python class'\n",
    "# print(my_str1.startswith('t'))\n",
    "# print(my_str1.startswith('this'))\n",
    "# print(my_str1.startswith('is'))\n",
    "# print(my_str1.startswith('is', 5))\n",
    "\n",
    "# endswith\n",
    "# Docstring:\n",
    "# S.endswith(suffix[, start[, end]]) -> bool\n",
    "# Return True if S ends with the specified suffix, False otherwise.\n",
    "# With optional start, test S beginning at that position.\n",
    "# With optional end, stop comparing S at that position.\n",
    "# suffix can also be a tuple of strings to try.\n",
    "\n",
    "# my_str1 = 'this is python class'\n",
    "# print(my_str1.endswith('s'))\n",
    "# print(my_str1.endswith('ss'))\n",
    "# print(my_str1.endswith('css'))\n",
    "# print(my_str1.endswith('class', 15, len(my_str1)))"
   ]
  },
  {
   "cell_type": "code",
   "execution_count": 90,
   "metadata": {
    "ExecuteTime": {
     "end_time": "2021-04-24T04:55:57.009709Z",
     "start_time": "2021-04-24T04:55:57.002837Z"
    }
   },
   "outputs": [],
   "source": [
    "# find, rfind, index, rindex\n",
    "# find \n",
    "# Docstring:\n",
    "# S.find(sub[, start[, end]]) -> int\n",
    "# Return the lowest index in S where substring sub is found,\n",
    "# such that sub is contained within S[start:end].  Optional\n",
    "# arguments start and end are interpreted as in slice notation.\n",
    "# Return -1 on failure.\n",
    "\n",
    "# my_str1 = 'this is python class'\n",
    "# print(my_str1.find('s'))\n",
    "# print(my_str1.find('z'))\n",
    "# print(my_str1.find('is'))\n",
    "# print(my_str1.find('is', 8, 20))\n",
    "\n",
    "\n",
    "# rfind\n",
    "# Docstring:\n",
    "# S.rfind(sub[, start[, end]]) -> int\n",
    "# Return the highest index in S where substring sub is found,\n",
    "# such that sub is contained within S[start:end].  Optional\n",
    "# arguments start and end are interpreted as in slice notation.\n",
    "# Return -1 on failure.\n",
    "\n",
    "# my_str1 = 'this is python class'\n",
    "# print(my_str1.rfind('s'))\n",
    "# print(my_str1.rfind('z'))\n",
    "# print(my_str1.rfind('is'))\n",
    "# print(my_str1.rfind('is', 8, 20))\n",
    "\n",
    "\n",
    "\n",
    "# index and rindex\n",
    "# index\n",
    "# Docstring:\n",
    "# S.index(sub[, start[, end]]) -> int\n",
    "# Return the lowest index in S where substring sub is found,\n",
    "# such that sub is contained within S[start:end].  Optional\n",
    "# arguments start and end are interpreted as in slice notation.\n",
    "# Raises ValueError when the substring is not found.\n",
    "\n",
    "# my_str1 = 'this is Python class'\n",
    "# print(my_str1.index('s'))\n",
    "# # print(my_str1.index('z'))\n",
    "# print(my_str1.index('is'))\n",
    "# # print(my_str1.index('is', 8, 20))\n",
    "\n",
    "# rindex\n",
    "# Docstring:\n",
    "# S.rindex(sub[, start[, end]]) -> int\n",
    "# Return the highest index in S where substring sub is found,\n",
    "# such that sub is contained within S[start:end].  Optional\n",
    "# arguments start and end are interpreted as in slice notation.\n",
    "# Raises ValueError when the substring is not found.\n",
    "\n",
    "my_str1 = 'this is Python class'\n",
    "# print(my_str1.rindex('s'))\n",
    "# print(my_str1.rindex('z'))\n",
    "# print(my_str1.rindex('is'))\n",
    "# print(my_str1.rindex('is', 8, 20))\n",
    "\n",
    "\n",
    "\n",
    "\n"
   ]
  },
  {
   "cell_type": "code",
   "execution_count": 107,
   "metadata": {
    "ExecuteTime": {
     "end_time": "2021-04-24T05:01:29.650184Z",
     "start_time": "2021-04-24T05:01:29.641714Z"
    }
   },
   "outputs": [
    {
     "data": {
      "text/plain": [
       "'++++Python+++'"
      ]
     },
     "execution_count": 107,
     "metadata": {},
     "output_type": "execute_result"
    }
   ],
   "source": [
    "# center, ljust, rjust, zfill\n",
    "my_str = 'Python'\n",
    "my_str.center(13, '+')\n",
    "\n",
    "# my_str.ljust(5, '0')\n",
    "# my_str.rjust(10, '*')\n",
    "# my_str.zfill(10)\n",
    "\n",
    "\n"
   ]
  },
  {
   "cell_type": "code",
   "execution_count": 120,
   "metadata": {
    "ExecuteTime": {
     "end_time": "2021-04-24T05:14:17.031051Z",
     "start_time": "2021-04-24T05:14:17.014823Z"
    }
   },
   "outputs": [
    {
     "name": "stdout",
     "output_type": "stream",
     "text": [
      "This is 000000 Python       class\n",
      "0000000This is 000000 Python       class000000\n",
      "0000000This is 000000 Python       class000000\n"
     ]
    }
   ],
   "source": [
    "# strip, rstrip, lstrip - Is used to remove the spaces from ends\n",
    "my_str = '0000000This is 000000 Python       class000000'\n",
    "print(my_str.strip('0'))  # Remove spaces from both ends\n",
    "print(my_str.lstrip())  # Remove spaces from left end\n",
    "print(my_str.rstrip())  # Remove spaces from right end"
   ]
  },
  {
   "cell_type": "code",
   "execution_count": 122,
   "metadata": {
    "ExecuteTime": {
     "end_time": "2021-04-24T05:15:34.060085Z",
     "start_time": "2021-04-24T05:15:34.054370Z"
    }
   },
   "outputs": [
    {
     "name": "stdout",
     "output_type": "stream",
     "text": [
      "Thiz iz python clazz\n",
      "Thiz iz python class\n"
     ]
    }
   ],
   "source": [
    "# split, replace, join\n",
    "my_str = '       This is          Python       class          '\n",
    "my_lst = my_str.split('is')\n",
    "# print(my_lst)\n",
    "\n",
    "# print(' '.join(my_lst))\n",
    "\n",
    "# replace\n",
    "my_str = 'This is python class'\n",
    "print(my_str.replace('s', 'z', ))\n",
    "print(my_str.replace('s', 'z', 2))\n"
   ]
  },
  {
   "cell_type": "code",
   "execution_count": null,
   "metadata": {},
   "outputs": [],
   "source": [
    "# Conditional Statement - if, elif, else\n",
    "# Loops - for, while\n"
   ]
  },
  {
   "cell_type": "code",
   "execution_count": null,
   "metadata": {},
   "outputs": [],
   "source": [
    "# Conditional Statement - if, elif, else\n",
    "# Syntax\n",
    "# stats\n",
    "# stats\n",
    "# stats\n",
    "# if cond:\n",
    "#     stats\n",
    "#     stats\n",
    "#     stats\n",
    "# elif cond:\n",
    "#     stats\n",
    "#     stats\n",
    "#     stats\n",
    "# else:\n",
    "#     stats\n",
    "#     stats\n",
    "#     stats\n",
    "# stats\n",
    "# stats\n",
    "# stats\n",
    "\n",
    "# if cond:\n",
    "#     stats\n",
    "#     stats\n",
    "#     if cond:\n",
    "#         stats\n",
    "#         stats\n",
    "#     else:\n",
    "#         stats\n",
    "#         stats\n",
    "\n",
    "# else block is always optional\n",
    "\n",
    "# \n",
    "\n"
   ]
  },
  {
   "cell_type": "code",
   "execution_count": 124,
   "metadata": {
    "ExecuteTime": {
     "end_time": "2021-04-24T05:37:33.339644Z",
     "start_time": "2021-04-24T05:37:31.313727Z"
    }
   },
   "outputs": [
    {
     "name": "stdout",
     "output_type": "stream",
     "text": [
      "Enter 1st number: 10\n",
      "Enter 2nd number: 9\n",
      "number1 and number2 are not equal\n"
     ]
    }
   ],
   "source": [
    "# Take two number from user and check whether those numbers are equal\n",
    "\n",
    "num1 = int(input('Enter 1st number: '))\n",
    "num2 = int(input('Enter 2nd number: '))\n",
    "if num1 == num2:\n",
    "    print('Number1 and number2 are equal')\n",
    "else:\n",
    "    print('number1 and number2 are not equal')\n",
    "\n",
    "\n"
   ]
  },
  {
   "cell_type": "code",
   "execution_count": 126,
   "metadata": {
    "ExecuteTime": {
     "end_time": "2021-04-24T05:39:15.246951Z",
     "start_time": "2021-04-24T05:39:13.339626Z"
    }
   },
   "outputs": [
    {
     "name": "stdout",
     "output_type": "stream",
     "text": [
      "Enter 1st number: 14\n",
      "Number is even\n"
     ]
    }
   ],
   "source": [
    "# Check whether a number is even or odd\n",
    "num1 = int(input('Enter 1st number: '))\n",
    "if num1%2 == 0:\n",
    "    print('Number is even')\n",
    "else:\n",
    "    print('Number is odd')"
   ]
  },
  {
   "cell_type": "code",
   "execution_count": 129,
   "metadata": {
    "ExecuteTime": {
     "end_time": "2021-04-24T05:41:53.326499Z",
     "start_time": "2021-04-24T05:41:52.309789Z"
    }
   },
   "outputs": [
    {
     "name": "stdout",
     "output_type": "stream",
     "text": [
      "Enter a number:-9\n",
      "Number isnegative\n"
     ]
    }
   ],
   "source": [
    "# Check whether a number is +ve or -ve\n",
    "num1 = int(input('Enter a number:'))\n",
    "if num1 > 0:\n",
    "    print('Number is positive')\n",
    "else:\n",
    "    print('Number isnegative')"
   ]
  },
  {
   "cell_type": "code",
   "execution_count": 132,
   "metadata": {
    "ExecuteTime": {
     "end_time": "2021-04-24T05:45:22.972220Z",
     "start_time": "2021-04-24T05:45:20.923432Z"
    }
   },
   "outputs": [
    {
     "name": "stdout",
     "output_type": "stream",
     "text": [
      "Enter the age: 18\n",
      "Candidate is eligible\n"
     ]
    }
   ],
   "source": [
    "# take the age of the candidate as input from user and tell whether he/she is eligible for casting vote or not\n",
    "# Min age - 18\n",
    "age = int(input('Enter the age: '))\n",
    "if age >= 18:\n",
    "     print('Candidate is eligible')\n",
    "else:\n",
    "    print('Candidate is not eligible')"
   ]
  },
  {
   "cell_type": "code",
   "execution_count": 135,
   "metadata": {
    "ExecuteTime": {
     "end_time": "2021-04-24T05:50:40.953112Z",
     "start_time": "2021-04-24T05:50:38.985023Z"
    }
   },
   "outputs": [
    {
     "name": "stdout",
     "output_type": "stream",
     "text": [
      "Enter the Number: -9\n",
      "-1\n"
     ]
    }
   ],
   "source": [
    "# Take a number from user and print\n",
    "# 1 if number is larger than 0\n",
    "# 0 if number is 0\n",
    "# -1 if number is less than 0\n",
    "\n",
    "num = float(input('Enter the Number: '))\n",
    "if num > 0.0:\n",
    "    print(1)\n",
    "elif num == 0.0:\n",
    "    print(0)\n",
    "else:\n",
    "    print(-1)"
   ]
  },
  {
   "cell_type": "code",
   "execution_count": 138,
   "metadata": {
    "ExecuteTime": {
     "end_time": "2021-04-24T05:57:04.157144Z",
     "start_time": "2021-04-24T05:57:01.405175Z"
    }
   },
   "outputs": [
    {
     "name": "stdout",
     "output_type": "stream",
     "text": [
      "Enter number 1: 10\n",
      "Enter number 2: 100\n",
      "Enter number 3: 1\n",
      "100 is greater\n"
     ]
    }
   ],
   "source": [
    "# take 3 numbers from user and find the largest of them\n",
    "num1=int(input(\"Enter number 1: \"))\n",
    "num2=int(input(\"Enter number 2: \"))\n",
    "num3=int(input(\"Enter number 3: \"))\n",
    "if (num1 > num2) and (num1>num3):\n",
    "    print(f'{num1} is greater')\n",
    "elif (num2 > num3):\n",
    "    print(f'{num2} is greater')\n",
    "else:\n",
    "    print(f'{num3} is greater')"
   ]
  },
  {
   "cell_type": "code",
   "execution_count": 139,
   "metadata": {
    "ExecuteTime": {
     "end_time": "2021-04-24T05:59:30.764789Z",
     "start_time": "2021-04-24T05:59:30.761085Z"
    }
   },
   "outputs": [],
   "source": [
    "# Write a program to find the eligibility of admission for a professional course based on the following criteria.\n",
    "# Eligibility Criteria : \n",
    "# Marks in Maths >=65 and Marks in Phy >=55 and Marks in Chem>=50 and Total in all three subject >=190 or \n",
    "# Total in Maths and Physics >=140"
   ]
  },
  {
   "cell_type": "code",
   "execution_count": 143,
   "metadata": {
    "ExecuteTime": {
     "end_time": "2021-04-24T06:09:44.181132Z",
     "start_time": "2021-04-24T06:09:44.176953Z"
    }
   },
   "outputs": [],
   "source": [
    "# m = int(input(\"Enter Maths number:\"))\n",
    "# p = int(input(\"Enter Physics number:\"))\n",
    "# c = int(input(\"Enter Chemistry number:\"))\n",
    "# total = m+p+c\n",
    "# # if((m>=65 and p>=55 and c>=50 and total>=190) or ((m+p)>=140)):\n",
    "# #     print(\"You are eligible for admission\")\n",
    "# # else:\n",
    "# #     print(\"You are not eligible for admission\")\n",
    "\n",
    "# if m >= 65:\n",
    "#     if p >= 55:\n",
    "#         if c >= 50:\n",
    "#             if ((total >=190) or (m+p)>=140):\n",
    "#                 print('You are eleigible')\n",
    "#             else:\n",
    "#                 print('Candidate is not eligible')\n",
    "#         else:\n",
    "#             print('Candidate is not eligible')\n",
    "#     else:\n",
    "#         print('Candidate is not eligible')\n",
    "# else:\n",
    "#     print('Candidate is not eligible')\n",
    "    \n",
    "# Enter Maths number:72\n",
    "# Enter Physics number:65\n",
    "# Enter Chemistry number:51\n",
    "# Candidate is not eligible"
   ]
  },
  {
   "cell_type": "code",
   "execution_count": null,
   "metadata": {},
   "outputs": [],
   "source": [
    "# Take the XY coordinate for a point in XY plane from user and tell the user that in which qudrant this point falls\n",
    "\n",
    "x = int(input('X: '))\n",
    "y = int(input('Y: '))\n",
    "\n",
    "if x > 0 and y > 0:\n",
    "    print('1st Quadrant')\n",
    "elif x < 0 and y > 0:\n",
    "    print('2nd Quadrant')\n",
    "elif x < 0 and y < 0:\n",
    "    print('3rd Quadrant')\n",
    "elif x > 0 and y < 0:\n",
    "    print('4th Quadrant')\n",
    "\n"
   ]
  },
  {
   "cell_type": "code",
   "execution_count": null,
   "metadata": {},
   "outputs": [],
   "source": [
    "# Loop in Python\n",
    "# for loop - with iterables and used when no of iterations are known\n",
    "# while - with condition and used when no of iteration are not known\n",
    "\n",
    "print()\n",
    "\n",
    "\n",
    "\n"
   ]
  },
  {
   "cell_type": "code",
   "execution_count": null,
   "metadata": {},
   "outputs": [],
   "source": [
    "10+(10*32)//2**5&20+(~(-10))<<2\n",
    "10 + 320 // 2 ** 5 & 20 + 9 << 2\n",
    "10 + 320 // 32 & 20 + 9 << 2\n",
    "10 + 10 & 20 + 9 << 2\n",
    "20 & 29 << 2\n",
    "20 & (29*2**2)"
   ]
  },
  {
   "cell_type": "code",
   "execution_count": null,
   "metadata": {},
   "outputs": [],
   "source": [
    "()\tParentheses\n",
    "**\tExponent\n",
    "+x, -x, ~x\tUnary plus, Unary minus, Bitwise NOT\n",
    "*, /, //, %\tMultiplication, Division, Floor division, Modulus\n",
    "+, -\tAddition, Subtraction\n",
    "<<, >>\tBitwise shift operators\n",
    "&\tBitwise AND\n",
    "^\tBitwise XOR\n",
    "|\tBitwise OR\n",
    "==, !=, >, >=, <, <=, is, is not, in, not in\tComparisons, Identity, Membership operators\n",
    "not\tLogical NOT\n",
    "and\tLogical AND\n",
    "or\tLogical OR"
   ]
  },
  {
   "cell_type": "code",
   "execution_count": null,
   "metadata": {},
   "outputs": [],
   "source": []
  },
  {
   "cell_type": "code",
   "execution_count": null,
   "metadata": {},
   "outputs": [],
   "source": []
  },
  {
   "cell_type": "code",
   "execution_count": null,
   "metadata": {},
   "outputs": [],
   "source": []
  },
  {
   "cell_type": "code",
   "execution_count": null,
   "metadata": {},
   "outputs": [],
   "source": []
  },
  {
   "cell_type": "code",
   "execution_count": null,
   "metadata": {},
   "outputs": [],
   "source": []
  },
  {
   "cell_type": "code",
   "execution_count": null,
   "metadata": {},
   "outputs": [],
   "source": []
  },
  {
   "cell_type": "code",
   "execution_count": null,
   "metadata": {},
   "outputs": [],
   "source": []
  },
  {
   "cell_type": "code",
   "execution_count": null,
   "metadata": {},
   "outputs": [],
   "source": []
  },
  {
   "cell_type": "code",
   "execution_count": null,
   "metadata": {},
   "outputs": [],
   "source": []
  },
  {
   "cell_type": "code",
   "execution_count": null,
   "metadata": {},
   "outputs": [],
   "source": []
  },
  {
   "cell_type": "code",
   "execution_count": null,
   "metadata": {},
   "outputs": [],
   "source": []
  },
  {
   "cell_type": "code",
   "execution_count": null,
   "metadata": {},
   "outputs": [],
   "source": []
  },
  {
   "cell_type": "code",
   "execution_count": null,
   "metadata": {},
   "outputs": [],
   "source": []
  },
  {
   "cell_type": "code",
   "execution_count": null,
   "metadata": {},
   "outputs": [],
   "source": []
  },
  {
   "cell_type": "code",
   "execution_count": null,
   "metadata": {},
   "outputs": [],
   "source": []
  },
  {
   "cell_type": "code",
   "execution_count": null,
   "metadata": {},
   "outputs": [],
   "source": []
  },
  {
   "cell_type": "code",
   "execution_count": null,
   "metadata": {},
   "outputs": [],
   "source": []
  },
  {
   "cell_type": "code",
   "execution_count": null,
   "metadata": {},
   "outputs": [],
   "source": []
  },
  {
   "cell_type": "code",
   "execution_count": null,
   "metadata": {},
   "outputs": [],
   "source": []
  },
  {
   "cell_type": "code",
   "execution_count": null,
   "metadata": {},
   "outputs": [],
   "source": []
  },
  {
   "cell_type": "code",
   "execution_count": null,
   "metadata": {},
   "outputs": [],
   "source": []
  },
  {
   "cell_type": "code",
   "execution_count": null,
   "metadata": {},
   "outputs": [],
   "source": []
  },
  {
   "cell_type": "code",
   "execution_count": null,
   "metadata": {},
   "outputs": [],
   "source": []
  },
  {
   "cell_type": "code",
   "execution_count": null,
   "metadata": {},
   "outputs": [],
   "source": []
  },
  {
   "cell_type": "code",
   "execution_count": null,
   "metadata": {},
   "outputs": [],
   "source": []
  }
 ],
 "metadata": {
  "kernelspec": {
   "display_name": "Python 3",
   "language": "python",
   "name": "python3"
  },
  "language_info": {
   "codemirror_mode": {
    "name": "ipython",
    "version": 3
   },
   "file_extension": ".py",
   "mimetype": "text/x-python",
   "name": "python",
   "nbconvert_exporter": "python",
   "pygments_lexer": "ipython3",
   "version": "3.8.2"
  },
  "latex_envs": {
   "LaTeX_envs_menu_present": true,
   "autoclose": false,
   "autocomplete": true,
   "bibliofile": "biblio.bib",
   "cite_by": "apalike",
   "current_citInitial": 1,
   "eqLabelWithNumbers": true,
   "eqNumInitial": 1,
   "hotkeys": {
    "equation": "Ctrl-E",
    "itemize": "Ctrl-I"
   },
   "labels_anchors": false,
   "latex_user_defs": false,
   "report_style_numbering": false,
   "user_envs_cfg": false
  },
  "varInspector": {
   "cols": {
    "lenName": 16,
    "lenType": 16,
    "lenVar": 40
   },
   "kernels_config": {
    "python": {
     "delete_cmd_postfix": "",
     "delete_cmd_prefix": "del ",
     "library": "var_list.py",
     "varRefreshCmd": "print(var_dic_list())"
    },
    "r": {
     "delete_cmd_postfix": ") ",
     "delete_cmd_prefix": "rm(",
     "library": "var_list.r",
     "varRefreshCmd": "cat(var_dic_list()) "
    }
   },
   "types_to_exclude": [
    "module",
    "function",
    "builtin_function_or_method",
    "instance",
    "_Feature"
   ],
   "window_display": false
  }
 },
 "nbformat": 4,
 "nbformat_minor": 2
}
