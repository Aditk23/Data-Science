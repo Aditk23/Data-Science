{
 "cells": [
  {
   "cell_type": "code",
   "execution_count": null,
   "metadata": {},
   "outputs": [],
   "source": [
    "# Loop in Python\n",
    "# for loop - with iterables and used when no of iterations are known\n",
    "# while - with condition and used when no of iteration are not known"
   ]
  },
  {
   "cell_type": "code",
   "execution_count": 4,
   "metadata": {
    "ExecuteTime": {
     "end_time": "2021-04-25T03:17:40.526007Z",
     "start_time": "2021-04-25T03:17:40.521602Z"
    }
   },
   "outputs": [],
   "source": [
    "# for i in 'absdefghij':\n",
    "#     print('Hi')\n",
    "\n",
    "# Syntax - \n",
    "# for var in iterable:\n",
    "#     stats\n",
    "#     stats\n",
    "#     stats\n"
   ]
  },
  {
   "cell_type": "code",
   "execution_count": 10,
   "metadata": {
    "ExecuteTime": {
     "end_time": "2021-04-25T03:19:47.946515Z",
     "start_time": "2021-04-25T03:19:47.936465Z"
    }
   },
   "outputs": [],
   "source": [
    "# Any object which implements __iter__ function is an iterable.\n",
    "# string, list, tuple, set, frozenset, dictionary, range, bytes, bytearray, \n",
    "# print(dir(str))\n",
    "# print(dir(list))\n",
    "# print(dir(dict))\n",
    "\n",
    "# print(dir(int))"
   ]
  },
  {
   "cell_type": "code",
   "execution_count": 15,
   "metadata": {
    "ExecuteTime": {
     "end_time": "2021-04-25T03:26:37.515581Z",
     "start_time": "2021-04-25T03:26:37.506594Z"
    }
   },
   "outputs": [
    {
     "name": "stdout",
     "output_type": "stream",
     "text": [
      "a\n",
      "Hello\n",
      "b\n",
      "Hello\n",
      "c\n",
      "Hello\n",
      "d\n",
      "Hello\n"
     ]
    }
   ],
   "source": [
    "for i in 'abcd':\n",
    "    print(i)\n",
    "    print('Hello')"
   ]
  },
  {
   "cell_type": "code",
   "execution_count": 14,
   "metadata": {
    "ExecuteTime": {
     "end_time": "2021-04-25T03:25:16.835758Z",
     "start_time": "2021-04-25T03:25:16.820973Z"
    }
   },
   "outputs": [
    {
     "name": "stdout",
     "output_type": "stream",
     "text": [
      "20\n",
      "400\n",
      "27000\n",
      "20\n",
      "400\n",
      "27000\n",
      "20\n",
      "400\n",
      "27000\n",
      "20\n",
      "400\n",
      "27000\n"
     ]
    }
   ],
   "source": [
    "for j in [10,20,30,40]:\n",
    "    print(10 * 2)\n",
    "    print(20 ** 2)\n",
    "    print(30 ** 3)"
   ]
  },
  {
   "cell_type": "code",
   "execution_count": 16,
   "metadata": {
    "ExecuteTime": {
     "end_time": "2021-04-25T03:27:20.658636Z",
     "start_time": "2021-04-25T03:27:20.648492Z"
    }
   },
   "outputs": [
    {
     "name": "stdout",
     "output_type": "stream",
     "text": [
      "1\n",
      "10.2\n",
      "(10+20j)\n",
      "a\n"
     ]
    }
   ],
   "source": [
    "# for j in {1:100, 10.20:200, 10+20j:20+30j, 'a':'Python'}:\n",
    "#     print(j)"
   ]
  },
  {
   "cell_type": "code",
   "execution_count": 35,
   "metadata": {
    "ExecuteTime": {
     "end_time": "2021-04-25T03:48:57.888354Z",
     "start_time": "2021-04-25T03:48:51.122499Z"
    }
   },
   "outputs": [
    {
     "name": "stdout",
     "output_type": "stream",
     "text": [
      "Enter the pwd: jdn\n",
      "Enter the pwd: ndj\n",
      "Enter the pwd: ABC@123\n",
      "You are in\n"
     ]
    }
   ],
   "source": [
    "pwd = 'ABC@123'\n",
    "count = 0\n",
    "for i in range(3):\n",
    "    user_pwd = input('Enter the pwd: ')\n",
    "    if user_pwd == pwd:\n",
    "        print('You are in')\n",
    "        break\n",
    "    else:\n",
    "        count += 1\n",
    "if count == 3:\n",
    "    print('Contact your admin')\n"
   ]
  },
  {
   "cell_type": "code",
   "execution_count": 27,
   "metadata": {
    "ExecuteTime": {
     "end_time": "2021-04-25T03:40:00.054177Z",
     "start_time": "2021-04-25T03:40:00.040379Z"
    }
   },
   "outputs": [
    {
     "data": {
      "text/plain": [
       "[0, 1, 2, 3, 4, 5, 6, 7, 8, 9]"
      ]
     },
     "execution_count": 27,
     "metadata": {},
     "output_type": "execute_result"
    }
   ],
   "source": [
    "# range(start, stop, step)\n",
    "# range(stop)\n",
    "\n",
    "# Default step = +1 -> from left to right\n",
    "# start = 0\n",
    "# stop = \n",
    "\n",
    "# Creating a seq of first 10 numbers starting from 0\n",
    "# print(list(range(10)))\n",
    "# print(list(range(0,10)))\n",
    "# print(list(range(0,10,1)))\n",
    "\n",
    "# Creating a seq of numbers from -10 to +10\n",
    "# print(list(range(-10, 10, 1)))\n",
    "\n",
    "# Creating a seq of all even numbers from 2 to 20(inclusive)\n",
    "# print(list(range(2, 21, 2)))\n",
    "\n",
    "# Creating a seq of all odd numbers from 1 to 20\n",
    "# print(list(range(1, 21, 2)))\n",
    "\n",
    "# creating a seq of numbers from 10 to -10\n",
    "# print(list(range(10, -10, -1)))\n",
    "\n",
    "# creating a seq of even numbers from 10 to -10\n",
    "# print(list(range(10, -10, -2)))\n",
    "\n",
    "# all sequences follow 0 based indexing\n",
    "# To access a sequence of 10 elements\n",
    "# list(range(10))\n"
   ]
  },
  {
   "cell_type": "code",
   "execution_count": 33,
   "metadata": {
    "ExecuteTime": {
     "end_time": "2021-04-25T03:44:00.178705Z",
     "start_time": "2021-04-25T03:44:00.173098Z"
    }
   },
   "outputs": [],
   "source": [
    "my_str = 'peter piper picked a peck of pickled peppers'\n",
    "# for i in my_str:\n",
    "#     print(i)\n",
    "\n",
    "# print(len(my_str))\n",
    "# for i in range(len(my_str)):\n",
    "#     print(my_str[i])\n",
    "\n",
    "# for i in range(-1, -len(my_str)-1, -1):\n",
    "#     print(my_str[i])\n"
   ]
  },
  {
   "cell_type": "code",
   "execution_count": 45,
   "metadata": {
    "ExecuteTime": {
     "end_time": "2021-04-25T04:03:47.254430Z",
     "start_time": "2021-04-25T04:03:47.249479Z"
    }
   },
   "outputs": [],
   "source": [
    "# while loop\n",
    "# Syntax\n",
    "# initialzation\n",
    "# condition checking\n",
    "# increment/decrement\n",
    "# my_str = 'Python'\n",
    "# ind = 0\n",
    "# while ind < len(my_str):\n",
    "#     print(my_str[ind])\n",
    "#     print()\n",
    "#     ind += 1\n",
    "\n",
    "# pwd = 'ABC@123'\n",
    "# inp_pwd = input('Enter the password: ')\n",
    "# while True:\n",
    "#     if inp_pwd == pwd:\n",
    "#         print('You are in')\n",
    "#         break\n",
    "#     else:\n",
    "#         print('Wrong Password')\n",
    "#         print('Enter the password again!!')\n",
    "#         inp_pwd = input()\n",
    "\n",
    "\n",
    "# d = {1:100, 2:200, 3:300, 4:400}\n",
    "# len_d = len(d)\n",
    "# var = 0\n",
    "# while var < len_d:\n",
    "#     print(d[var+1])\n",
    "#     var+= 1\n",
    "\n",
    "\n",
    "# my_str = 'peter piper picked a peck of pickled peppers'\n",
    "# ind = -1\n",
    "# while ind >= -len(my_str):\n",
    "#     print(my_str[ind])\n",
    "#     ind -= 1\n",
    "\n",
    "\n"
   ]
  },
  {
   "cell_type": "code",
   "execution_count": 2,
   "metadata": {
    "ExecuteTime": {
     "end_time": "2021-04-25T04:27:36.653299Z",
     "start_time": "2021-04-25T04:27:36.648322Z"
    }
   },
   "outputs": [],
   "source": [
    "for i in range(5):\n",
    "    for j in range(10):\n",
    "        if i==j:\n",
    "            break\n",
    "        else:\n",
    "            print(f'{i}-->{j}')\n",
    "    if i == j:\n",
    "        break\n",
    "            \n",
    "# i = 1\n",
    "# j = 0\n",
    "\n",
    "\n",
    "\n"
   ]
  },
  {
   "cell_type": "code",
   "execution_count": 51,
   "metadata": {
    "ExecuteTime": {
     "end_time": "2021-04-25T04:23:55.001515Z",
     "start_time": "2021-04-25T04:23:54.996724Z"
    }
   },
   "outputs": [],
   "source": [
    "# break - to exit the loop\n",
    "# continue - to skip the current iteration\n",
    "# for i in range(10):\n",
    "#     if i == 6:\n",
    "#         continue\n",
    "#     else:\n",
    "#         print(i)\n",
    "# i = 9\n",
    "# 0\n",
    "# 1\n",
    "# 2\n",
    "# 3\n",
    "# 4\n",
    "# 5\n",
    "# 7\n",
    "# 8\n",
    "# 9\n",
    "\n",
    "# for i in range(5):\n",
    "#     for j in range(5):\n",
    "#         if i==j:\n",
    "#             continue\n",
    "#         else:\n",
    "#             print(f'{i}-->{j}')\n",
    "\n",
    "# i = 2\n",
    "# j = 3\n",
    "# 0-->1\n",
    "# 0-->2\n",
    "# 0-->3\n",
    "# 0-->4\n",
    "# 1-->0\n",
    "# 1-->2\n",
    "# 1-->3\n",
    "# 1-->4\n",
    "# 2-->0\n",
    "# 2-->1\n",
    "# 2-->3\n",
    "\n",
    "\n",
    "\n",
    "\n",
    "\n",
    "\n"
   ]
  },
  {
   "cell_type": "code",
   "execution_count": 5,
   "metadata": {
    "ExecuteTime": {
     "end_time": "2021-04-25T04:29:35.468230Z",
     "start_time": "2021-04-25T04:29:35.458756Z"
    }
   },
   "outputs": [
    {
     "name": "stdout",
     "output_type": "stream",
     "text": [
      "1\n",
      "2\n",
      "3\n",
      "4\n",
      "5\n"
     ]
    }
   ],
   "source": [
    "i =0\n",
    "while i in range(5):\n",
    "    i+=1\n",
    "    print(i)\n",
    "    "
   ]
  },
  {
   "cell_type": "code",
   "execution_count": 7,
   "metadata": {
    "ExecuteTime": {
     "end_time": "2021-04-25T04:42:36.913259Z",
     "start_time": "2021-04-25T04:42:36.903367Z"
    }
   },
   "outputs": [
    {
     "name": "stdout",
     "output_type": "stream",
     "text": [
      "15\n",
      "55\n",
      "75\n",
      "150\n"
     ]
    }
   ],
   "source": [
    "# Given a list, iterate it, and display numbers divisible by five, \n",
    "# and if you find a number greater than 150, stop the loop iteration.\n",
    "lst = [12, 15, 32, 42, 55, 75, 122, 132, 150, 180, 200]\n",
    "for i in lst:\n",
    "    if i > 150:\n",
    "        break\n",
    "    elif i%5 == 0:\n",
    "        print(i)\n",
    "    \n",
    "\n"
   ]
  },
  {
   "cell_type": "code",
   "execution_count": 12,
   "metadata": {
    "ExecuteTime": {
     "end_time": "2021-04-25T04:45:34.447735Z",
     "start_time": "2021-04-25T04:45:30.982671Z"
    }
   },
   "outputs": [
    {
     "name": "stdout",
     "output_type": "stream",
     "text": [
      "Enter a number: 1234\n",
      "No. of Digits: 4\n"
     ]
    }
   ],
   "source": [
    "# Find a total number of digits in a number\n",
    "# inp_digit = 8765439\n",
    "# output = 7\n",
    "# inp_digit = 8765439\n",
    "# length = str(inp_digit)\n",
    "# print(len(length))\n",
    "\n",
    "# inp_digit = 8765439\n",
    "# count = 0\n",
    "# for i in range(len(str(inp_digit))):\n",
    "#     count+=1\n",
    "# print(count)\n",
    "\n",
    "n = eval(input(\"Enter a number: \"))\n",
    "count = 0\n",
    "while n > 0:\n",
    "    n = n // 10\n",
    "    count += 1\n",
    "print(f\"No. of Digits: {count}\")"
   ]
  },
  {
   "cell_type": "code",
   "execution_count": 15,
   "metadata": {
    "ExecuteTime": {
     "end_time": "2021-04-25T04:47:30.451655Z",
     "start_time": "2021-04-25T04:47:30.446708Z"
    }
   },
   "outputs": [],
   "source": [
    "lst  = [10,20,30,40,50]\n",
    "out_lst = [50,40,30,20,10]\n",
    "\n",
    "# lst  = [10,20,30,40,50]\n",
    "# out_lst = []\n",
    "# n = len(lst)\n",
    "# for i in range(n-1,-1,-1):\n",
    "#     out_lst.append(lst[i])\n",
    "# print(out_lst)\n",
    "\n",
    "# for i in range(-1,-len(lst)-1,-1):\n",
    "#     print(lst[i])"
   ]
  },
  {
   "cell_type": "code",
   "execution_count": 16,
   "metadata": {
    "ExecuteTime": {
     "end_time": "2021-04-25T04:55:51.901401Z",
     "start_time": "2021-04-25T04:55:51.894248Z"
    }
   },
   "outputs": [
    {
     "name": "stdout",
     "output_type": "stream",
     "text": [
      "29\n",
      "31\n",
      "37\n",
      "41\n",
      "43\n",
      "47\n"
     ]
    }
   ],
   "source": [
    "# Find all the prime numbers between 25 to 50\n",
    "\n",
    "# i = 25\n",
    "# j = 50\n",
    "\n",
    "# for m in range(i,j+1):\n",
    "#     for n in (range(2,(m//2)+1)):\n",
    "#         if(m%n == 0):\n",
    "#             break;\n",
    "#     else:\n",
    "#         print(m)\n",
    "lst = [1,]\n",
    "for i in range(25,51):\n",
    "    cnt=0\n",
    "    for j in range(2,(i//2+1)):\n",
    "        if i % j==0:\n",
    "            cnt=cnt+1;\n",
    "    if cnt==2:\n",
    "        print(i)"
   ]
  },
  {
   "cell_type": "code",
   "execution_count": 26,
   "metadata": {
    "ExecuteTime": {
     "end_time": "2021-04-25T05:03:52.663336Z",
     "start_time": "2021-04-25T05:03:52.659340Z"
    }
   },
   "outputs": [],
   "source": [
    "# Find the factorial ofa number\n",
    "# n=int(input('Enter the number: '))\n",
    "# prod=1;\n",
    "# for i in range(1,n+1):\n",
    "#     prod=prod*i\n",
    "# print('Factoraial: ',prod)\n",
    "\n",
    "# n = int(input(\"Enter a number: \"))\n",
    "# fact = 1\n",
    "# while n > 0:\n",
    "#     fact *= n\n",
    "#     n -= 1\n",
    "# print(f\"Factorial is {fact}\")\n",
    "\n",
    "# n=int(input('Enter a no:'))\n",
    "# f=1\n",
    "# for i in range(1,n+1):\n",
    "#     f=f*i\n",
    "# print(f)\n",
    "\n",
    "# num = 5\n",
    "# factorial = 1\n",
    "# if num < 0:\n",
    "#     print(\"Sorry, factorial does not exist for negative numbers\")\n",
    "# elif num == 0:\n",
    "#     print(\"The factorial of 0 is 1\")\n",
    "# else:\n",
    "#     for i in range(1,num + 1):\n",
    "#         factorial = factorial*i\n",
    "#     print(\"The factorial of\",num,\"is\",factorial)"
   ]
  },
  {
   "cell_type": "markdown",
   "metadata": {},
   "source": [
    "# List"
   ]
  },
  {
   "cell_type": "code",
   "execution_count": 38,
   "metadata": {
    "ExecuteTime": {
     "end_time": "2021-04-25T05:17:44.547850Z",
     "start_time": "2021-04-25T05:17:44.536713Z"
    }
   },
   "outputs": [
    {
     "name": "stdout",
     "output_type": "stream",
     "text": [
      "peter\n",
      "piper\n",
      "picked\n",
      "a\n",
      "peck\n",
      "of\n",
      "pickled\n",
      "peppers\n"
     ]
    }
   ],
   "source": [
    "# list - Is a collection(sequence) of heterogeneous element kept inside [] separated by comma\n",
    "# List can have duplicate elements\n",
    "\n",
    "lst = [10,20.30, 40+50j,'Python', None, True, 20.30, True, 'Python']\n",
    "# print(lst, type(lst))\n",
    "\n",
    "# List is a sequence\n",
    "#     Indexing\n",
    "#     Slicing\n",
    "#     concatenation\n",
    "#     repetition\n",
    "#     Membership\n",
    "#     length\n",
    "# List is mutable - List os modifiable\n",
    "# Changes willbe done to same existing list object\n",
    "\n",
    "\n",
    "# lst = [10,20,30,40]\n",
    "# print('Before operation')\n",
    "# print(lst, id(lst))\n",
    "# lst[0] = 111\n",
    "# print('After operation')\n",
    "# print(lst, id(lst))\n",
    "\n",
    "# List creation\n",
    "\n",
    "# Using list()\n",
    "# Syntax - list(iterable)\n",
    "# print(list('Python'))\n",
    "# print(list(lst))\n",
    "# print(list((1,2,3,4,5)))\n",
    "# print(list({1:100, 2:200, 3:300, 4:400}))\n",
    "\n",
    "# Taking list as input from user\n",
    "# lst = eval(input('Enter a list: '))\n",
    "# print(lst, type(lst))\n",
    "\n",
    "# lst = 'peter piper picked a peck of pickled peppers'\n",
    "# print(lst.split())\n",
    "\n",
    "# my_str = 'peter piper picked a peck of pickled peppers'\n",
    "\n",
    "# for i in my_str.split():\n",
    "#     print(i)\n",
    "\n",
    "\n"
   ]
  },
  {
   "cell_type": "code",
   "execution_count": 39,
   "metadata": {
    "ExecuteTime": {
     "end_time": "2021-04-25T05:19:09.881124Z",
     "start_time": "2021-04-25T05:19:09.871037Z"
    }
   },
   "outputs": [
    {
     "name": "stdout",
     "output_type": "stream",
     "text": [
      "10\n",
      "10\n",
      "Python\n",
      "Python\n"
     ]
    }
   ],
   "source": [
    "# Indexing\n",
    "lst = [10,20.30, 40+50j,'Python', None, True, 20.30, True, 'Python']\n",
    "print(lst[0])\n",
    "print(lst[-len(lst)])\n",
    "\n",
    "print(lst[-1])\n",
    "print(lst[len(lst)-1])"
   ]
  },
  {
   "cell_type": "code",
   "execution_count": 44,
   "metadata": {
    "ExecuteTime": {
     "end_time": "2021-04-25T05:20:17.713126Z",
     "start_time": "2021-04-25T05:20:17.703443Z"
    }
   },
   "outputs": [
    {
     "data": {
      "text/plain": [
       "['Python', 20.3, None, (40+50j), 10]"
      ]
     },
     "execution_count": 44,
     "metadata": {},
     "output_type": "execute_result"
    }
   ],
   "source": [
    "# Slicing\n",
    "# lst_name[start:stop:step]\n",
    "\n",
    "# lst[2:6:2]\n",
    "# lst[::-2]"
   ]
  },
  {
   "cell_type": "code",
   "execution_count": 58,
   "metadata": {
    "ExecuteTime": {
     "end_time": "2021-04-25T05:29:26.327775Z",
     "start_time": "2021-04-25T05:29:26.316619Z"
    }
   },
   "outputs": [
    {
     "name": "stdout",
     "output_type": "stream",
     "text": [
      "[10, 20, 30, 40, 1, 2, 3, 4]\n",
      "[10, 20, 30, 40]\n",
      "[1, 2, 3, 4]\n"
     ]
    }
   ],
   "source": [
    "# Concatenation - +\n",
    "# List concatenation, both operand should be list\n",
    "lst1 = [10,20,30,40]\n",
    "lst2 = [1,2,3,4]\n",
    "print(lst1+lst2)\n",
    "# print(lst1+2)\n",
    "print(lst1)\n",
    "print(lst2)"
   ]
  },
  {
   "cell_type": "code",
   "execution_count": 50,
   "metadata": {
    "ExecuteTime": {
     "end_time": "2021-04-25T05:23:30.491434Z",
     "start_time": "2021-04-25T05:23:30.484246Z"
    }
   },
   "outputs": [
    {
     "name": "stdout",
     "output_type": "stream",
     "text": [
      "[10, 20, 30, 40, 10, 20, 30, 40, 10, 20, 30, 40]\n"
     ]
    }
   ],
   "source": [
    "# Repetition - *\n",
    "# One of the operand should be list ad other should be int\n",
    "print(lst1 * 3)\n",
    "# print(lst1 * 3.0)"
   ]
  },
  {
   "cell_type": "code",
   "execution_count": 52,
   "metadata": {
    "ExecuteTime": {
     "end_time": "2021-04-25T05:23:58.619185Z",
     "start_time": "2021-04-25T05:23:58.609399Z"
    }
   },
   "outputs": [
    {
     "name": "stdout",
     "output_type": "stream",
     "text": [
      "True\n",
      "False\n"
     ]
    }
   ],
   "source": [
    "lst = [10,20.30, 40+50j,'Python', None, True, 20.30, True, 'Python']\n",
    "print(10 in lst)\n",
    "print(10 not in lst)"
   ]
  },
  {
   "cell_type": "markdown",
   "metadata": {},
   "source": [
    "# List Methods"
   ]
  },
  {
   "cell_type": "code",
   "execution_count": 54,
   "metadata": {
    "ExecuteTime": {
     "end_time": "2021-04-25T05:25:47.461004Z",
     "start_time": "2021-04-25T05:25:47.456799Z"
    }
   },
   "outputs": [],
   "source": [
    "# print(dir(list))\n",
    "# \n",
    "# 'copy'"
   ]
  },
  {
   "cell_type": "code",
   "execution_count": 62,
   "metadata": {
    "ExecuteTime": {
     "end_time": "2021-04-25T05:31:41.814080Z",
     "start_time": "2021-04-25T05:31:41.801904Z"
    }
   },
   "outputs": [
    {
     "name": "stdout",
     "output_type": "stream",
     "text": [
      "[10, 20.3, (40+50j), 'Python', None, True, 20.3, True, 'Python', 1, 2, 3, 4]\n"
     ]
    }
   ],
   "source": [
    "# Inserting the element/s insode a list\n",
    "lst = [10,20.30, 40+50j,'Python', None, True, 20.30, True, 'Python']\n",
    "# Append\n",
    "# - Adds theelement at the end of the list\n",
    "# print(lst.append(111))\n",
    "# print(lst)\n",
    "\n",
    "# lst.append([1,2,3,4])\n",
    "# print(lst)\n",
    "\n",
    "# extend\n",
    "# Similar to concatenation, but concatenation creates a new list whereas extend methods makes the changes go same list\n",
    "lst.extend([1,2,3,4])\n",
    "print(lst)\n",
    "\n",
    "# insert - used to add one element at a specified index\n",
    "# lst.insert(index, ele)\n",
    "# lst.insert(4, 111)\n",
    "# print(lst)\n"
   ]
  },
  {
   "cell_type": "code",
   "execution_count": 68,
   "metadata": {
    "ExecuteTime": {
     "end_time": "2021-04-25T05:36:41.392364Z",
     "start_time": "2021-04-25T05:36:41.353974Z"
    }
   },
   "outputs": [
    {
     "name": "stdout",
     "output_type": "stream",
     "text": [
      "[]\n"
     ]
    }
   ],
   "source": [
    "# 'pop', 'remove', 'clear'\n",
    "\n",
    "lst = [10,20,30,10,40,10,200,10,2,3,20,10,1,100,10]\n",
    "# print(lst.pop())     # remove the last element\n",
    "# print(lst)\n",
    "\n",
    "# print(lst.pop(5))      # it removes the lement at specified index\n",
    "# print(lst)\n",
    "\n",
    "# lst.remove(200)        # Removes the value from list\n",
    "# print(lst)\n",
    "\n",
    "# lst.remove(10)\n",
    "# print(lst)\n",
    "\n",
    "# clear - it deletes all the element from the list but does not deletes the list\n",
    "lst.clear()\n",
    "print(lst)\n"
   ]
  },
  {
   "cell_type": "code",
   "execution_count": 72,
   "metadata": {
    "ExecuteTime": {
     "end_time": "2021-04-25T05:39:39.285467Z",
     "start_time": "2021-04-25T05:39:39.276163Z"
    }
   },
   "outputs": [
    {
     "data": {
      "text/plain": [
       "13"
      ]
     },
     "execution_count": 72,
     "metadata": {},
     "output_type": "execute_result"
    }
   ],
   "source": [
    "# 'count', 'index', \n",
    "\n",
    "lst = [10,20,30,10,40,10,200,10,2,3,20,10,1,100,10]\n",
    "\n",
    "# count - gives how many time an element is repeating\n",
    "# print(lst.count(10))\n",
    "\n",
    "# index - returns the index of first occurence of the element\n",
    "# lst.index(100)"
   ]
  },
  {
   "cell_type": "code",
   "execution_count": 82,
   "metadata": {
    "ExecuteTime": {
     "end_time": "2021-04-25T05:43:45.365309Z",
     "start_time": "2021-04-25T05:43:45.356277Z"
    }
   },
   "outputs": [
    {
     "name": "stdout",
     "output_type": "stream",
     "text": [
      "[200, 100, 40, 30, 20, 20, 10, 10, 10, 10, 10, 10, 3, 2, 1]\n",
      "['a', 'aa', 'aabcd', 'abc', 'abcde']\n"
     ]
    }
   ],
   "source": [
    "# 'reverse', 'sort'\n",
    "\n",
    "lst = [10,20,30,10,40,10,200,10,2,3,20,10,1,100,10]\n",
    "# lst.reverse()\n",
    "# print(lst)\n",
    "\n",
    "# lst.sort()          # Default sorting is ascending order\n",
    "# print(lst)\n",
    "\n",
    "\n",
    "# to sort the list in descending order\n",
    "lst.sort(reverse = True)     # Descending order  \n",
    "print(lst)\n",
    "\n",
    "\n",
    "\n",
    "# sort method will work only on list of homogeneous data\n",
    "# lst = [10,20,30,10,40,10,200,10,2,3,20,10,1,100,'10']\n",
    "# lst.sort()\n",
    "\n",
    "lst = ['abc', 'a', 'aa', 'aabcd', 'abcde']\n",
    "lst.sort()\n",
    "print(lst)"
   ]
  },
  {
   "cell_type": "code",
   "execution_count": 83,
   "metadata": {
    "ExecuteTime": {
     "end_time": "2021-04-25T05:45:42.246849Z",
     "start_time": "2021-04-25T05:45:42.236809Z"
    }
   },
   "outputs": [
    {
     "name": "stdout",
     "output_type": "stream",
     "text": [
      "False\n",
      "True\n"
     ]
    }
   ],
   "source": [
    "a = 10.20\n",
    "b = 10.20\n",
    "print(a is b) #True or False? False 10.20<256\n",
    "print(a is not b) #True or False? True"
   ]
  },
  {
   "cell_type": "code",
   "execution_count": 84,
   "metadata": {
    "ExecuteTime": {
     "end_time": "2021-04-25T05:47:57.955123Z",
     "start_time": "2021-04-25T05:47:54.984591Z"
    }
   },
   "outputs": [
    {
     "name": "stdout",
     "output_type": "stream",
     "text": [
      "ENter a number: 20\n"
     ]
    },
    {
     "data": {
      "text/plain": [
       "True"
      ]
     },
     "execution_count": 84,
     "metadata": {},
     "output_type": "execute_result"
    }
   ],
   "source": [
    "val1 = bool(input('ENter a number: '))\n",
    "val1"
   ]
  },
  {
   "cell_type": "code",
   "execution_count": null,
   "metadata": {},
   "outputs": [],
   "source": []
  },
  {
   "cell_type": "code",
   "execution_count": null,
   "metadata": {},
   "outputs": [],
   "source": []
  },
  {
   "cell_type": "code",
   "execution_count": null,
   "metadata": {},
   "outputs": [],
   "source": []
  },
  {
   "cell_type": "code",
   "execution_count": null,
   "metadata": {},
   "outputs": [],
   "source": []
  },
  {
   "cell_type": "code",
   "execution_count": null,
   "metadata": {},
   "outputs": [],
   "source": []
  },
  {
   "cell_type": "code",
   "execution_count": null,
   "metadata": {},
   "outputs": [],
   "source": []
  },
  {
   "cell_type": "code",
   "execution_count": null,
   "metadata": {},
   "outputs": [],
   "source": []
  },
  {
   "cell_type": "code",
   "execution_count": null,
   "metadata": {},
   "outputs": [],
   "source": []
  },
  {
   "cell_type": "code",
   "execution_count": null,
   "metadata": {},
   "outputs": [],
   "source": []
  },
  {
   "cell_type": "code",
   "execution_count": null,
   "metadata": {},
   "outputs": [],
   "source": []
  },
  {
   "cell_type": "code",
   "execution_count": null,
   "metadata": {},
   "outputs": [],
   "source": []
  },
  {
   "cell_type": "code",
   "execution_count": null,
   "metadata": {},
   "outputs": [],
   "source": []
  },
  {
   "cell_type": "code",
   "execution_count": null,
   "metadata": {},
   "outputs": [],
   "source": []
  },
  {
   "cell_type": "code",
   "execution_count": null,
   "metadata": {},
   "outputs": [],
   "source": []
  },
  {
   "cell_type": "code",
   "execution_count": null,
   "metadata": {},
   "outputs": [],
   "source": []
  },
  {
   "cell_type": "code",
   "execution_count": null,
   "metadata": {},
   "outputs": [],
   "source": []
  },
  {
   "cell_type": "code",
   "execution_count": null,
   "metadata": {},
   "outputs": [],
   "source": []
  },
  {
   "cell_type": "code",
   "execution_count": null,
   "metadata": {},
   "outputs": [],
   "source": []
  },
  {
   "cell_type": "code",
   "execution_count": null,
   "metadata": {},
   "outputs": [],
   "source": []
  },
  {
   "cell_type": "code",
   "execution_count": null,
   "metadata": {},
   "outputs": [],
   "source": []
  },
  {
   "cell_type": "code",
   "execution_count": null,
   "metadata": {},
   "outputs": [],
   "source": []
  },
  {
   "cell_type": "code",
   "execution_count": null,
   "metadata": {},
   "outputs": [],
   "source": []
  },
  {
   "cell_type": "code",
   "execution_count": null,
   "metadata": {},
   "outputs": [],
   "source": []
  },
  {
   "cell_type": "code",
   "execution_count": null,
   "metadata": {},
   "outputs": [],
   "source": []
  },
  {
   "cell_type": "code",
   "execution_count": null,
   "metadata": {},
   "outputs": [],
   "source": []
  },
  {
   "cell_type": "code",
   "execution_count": null,
   "metadata": {},
   "outputs": [],
   "source": []
  },
  {
   "cell_type": "code",
   "execution_count": null,
   "metadata": {},
   "outputs": [],
   "source": []
  },
  {
   "cell_type": "code",
   "execution_count": null,
   "metadata": {},
   "outputs": [],
   "source": []
  },
  {
   "cell_type": "code",
   "execution_count": null,
   "metadata": {},
   "outputs": [],
   "source": []
  },
  {
   "cell_type": "code",
   "execution_count": null,
   "metadata": {},
   "outputs": [],
   "source": []
  },
  {
   "cell_type": "code",
   "execution_count": null,
   "metadata": {},
   "outputs": [],
   "source": []
  },
  {
   "cell_type": "code",
   "execution_count": null,
   "metadata": {},
   "outputs": [],
   "source": []
  },
  {
   "cell_type": "code",
   "execution_count": null,
   "metadata": {},
   "outputs": [],
   "source": []
  },
  {
   "cell_type": "code",
   "execution_count": null,
   "metadata": {},
   "outputs": [],
   "source": []
  },
  {
   "cell_type": "code",
   "execution_count": null,
   "metadata": {},
   "outputs": [],
   "source": []
  },
  {
   "cell_type": "code",
   "execution_count": null,
   "metadata": {},
   "outputs": [],
   "source": []
  },
  {
   "cell_type": "code",
   "execution_count": null,
   "metadata": {},
   "outputs": [],
   "source": []
  },
  {
   "cell_type": "code",
   "execution_count": null,
   "metadata": {},
   "outputs": [],
   "source": []
  }
 ],
 "metadata": {
  "kernelspec": {
   "display_name": "Python 3",
   "language": "python",
   "name": "python3"
  },
  "language_info": {
   "codemirror_mode": {
    "name": "ipython",
    "version": 3
   },
   "file_extension": ".py",
   "mimetype": "text/x-python",
   "name": "python",
   "nbconvert_exporter": "python",
   "pygments_lexer": "ipython3",
   "version": "3.8.2"
  },
  "latex_envs": {
   "LaTeX_envs_menu_present": true,
   "autoclose": false,
   "autocomplete": true,
   "bibliofile": "biblio.bib",
   "cite_by": "apalike",
   "current_citInitial": 1,
   "eqLabelWithNumbers": true,
   "eqNumInitial": 1,
   "hotkeys": {
    "equation": "Ctrl-E",
    "itemize": "Ctrl-I"
   },
   "labels_anchors": false,
   "latex_user_defs": false,
   "report_style_numbering": false,
   "user_envs_cfg": false
  },
  "varInspector": {
   "cols": {
    "lenName": 16,
    "lenType": 16,
    "lenVar": 40
   },
   "kernels_config": {
    "python": {
     "delete_cmd_postfix": "",
     "delete_cmd_prefix": "del ",
     "library": "var_list.py",
     "varRefreshCmd": "print(var_dic_list())"
    },
    "r": {
     "delete_cmd_postfix": ") ",
     "delete_cmd_prefix": "rm(",
     "library": "var_list.r",
     "varRefreshCmd": "cat(var_dic_list()) "
    }
   },
   "types_to_exclude": [
    "module",
    "function",
    "builtin_function_or_method",
    "instance",
    "_Feature"
   ],
   "window_display": false
  }
 },
 "nbformat": 4,
 "nbformat_minor": 2
}
