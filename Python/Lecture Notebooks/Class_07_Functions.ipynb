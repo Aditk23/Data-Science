{
 "cells": [
  {
   "cell_type": "code",
   "execution_count": 6,
   "metadata": {
    "ExecuteTime": {
     "end_time": "2021-05-02T03:23:54.073777Z",
     "start_time": "2021-05-02T03:23:54.064557Z"
    }
   },
   "outputs": [
    {
     "name": "stdout",
     "output_type": "stream",
     "text": [
      "['much', 'wood', 'would', 'woodchuck', 'chuck', 'could']\n",
      "['Write', 'Python', 'program', 'find', 'list', 'words', 'that', 'longer', 'than', 'equal', 'from', 'given', 'string']\n"
     ]
    }
   ],
   "source": [
    "#Write a Python program to find the list of words that are longer than or equal to 4 from a given string.\n",
    "#Input:- 'How much wood would a woodchuck chuck if a woodchuck could chuck wood'\n",
    "#Output:- ['much', 'wood', 'would', 'woodchuck', 'chuck', 'could']\n",
    "#Note:- Duplicate should be avoided.\n",
    "\n",
    "inp_str = 'How much wood would a woodchuck chuck if a woodchuck could chuck wood'\n",
    "out_lst = []\n",
    "word = ''\n",
    "for ind in range(len(inp_str)):\n",
    "    if ind == len(inp_str)-1:\n",
    "        if len(word) >= 4 and word not in out_lst:\n",
    "            out_lst.append(word)\n",
    "    elif inp_str[ind] == ' ':\n",
    "        if len(word) >= 4 and word not in out_lst:\n",
    "            out_lst.append(word)\n",
    "        word = '' \n",
    "    else:\n",
    "        word += inp_str[ind]   \n",
    "print(out_lst)\n",
    "\n",
    "inp_str = 'Write a Python program to find the list of words that are longer than or equal to 4 from a given string.'\n",
    "out_lst = []\n",
    "word = ''\n",
    "for ind in range(len(inp_str)):\n",
    "    if ind == len(inp_str)-1:\n",
    "        if len(word) >= 4 and word not in out_lst:\n",
    "            out_lst.append(word)\n",
    "    elif inp_str[ind] == ' ':\n",
    "        if len(word) >= 4 and word not in out_lst:\n",
    "            out_lst.append(word)\n",
    "        word = '' \n",
    "    else:\n",
    "        word += inp_str[ind]   \n",
    "print(out_lst)\n"
   ]
  },
  {
   "cell_type": "code",
   "execution_count": 10,
   "metadata": {
    "ExecuteTime": {
     "end_time": "2021-05-02T03:27:57.874112Z",
     "start_time": "2021-05-02T03:27:57.865031Z"
    }
   },
   "outputs": [
    {
     "name": "stdout",
     "output_type": "stream",
     "text": [
      "104\n"
     ]
    }
   ],
   "source": [
    "# Functions - DRY - Do not Repeat Yourself\n",
    "# Code Reusability\n",
    "\n",
    "# Types of Function\n",
    "#     1. Built-in Functions\n",
    "#     2. User Defined Functions\n",
    "    \n",
    "# 1. Built-in Functions - len, print, int, input, eval, list, tuple, abs, any, all, filter, map, enumerate, zip, dict\n",
    "# print(len('Write a Python program to find the list of words that are longer than or equal to 4 from a given string.'))\n",
    "\n",
    "# 2. User defined Functions\n",
    "# Syntax\n",
    "\n",
    "# Function Definition\n",
    "def func_name(params):\n",
    "    stats\n",
    "    stats\n",
    "    stats\n",
    "    stats\n",
    "    return stat\n",
    "\n",
    "# Function call\n",
    "func_name(args)\n",
    "\n",
    "# 1. Function definition is not function execution\n",
    "# 2. Function definition just create a function object into the memory and it is referred by the function identifier.\n",
    "# 3. Function call executes the function\n",
    "# 4. def, func_name, (), : -> mandatory while defining the function\n",
    "# 5. Params and returns stats are optional\n",
    "# 6. A function definition should have at least one line of code \n",
    "# 7. Function call - Function name and () are mandatory\n",
    "# 8. Functiona call - if parameters are taken while defining the function then args are mandatory else not required\n",
    "# 9. If return statement is not mentioned then default return value is None\n",
    "\n"
   ]
  },
  {
   "cell_type": "code",
   "execution_count": 12,
   "metadata": {
    "ExecuteTime": {
     "end_time": "2021-05-02T03:38:10.025629Z",
     "start_time": "2021-05-02T03:38:10.016961Z"
    }
   },
   "outputs": [
    {
     "name": "stdout",
     "output_type": "stream",
     "text": [
      "ABC\n",
      "101\n",
      "20000\n"
     ]
    }
   ],
   "source": [
    "def emp_info(emp_name, emp_id, emp_sal):   # Parameter - variable names - which are going to hold the arguments\n",
    "    print(emp_name)\n",
    "    print(emp_id)\n",
    "    print(emp_sal)\n",
    "    \n",
    "emp_info('ABC', 101, 20000)               # Arguments - the values that we pass"
   ]
  },
  {
   "cell_type": "code",
   "execution_count": 17,
   "metadata": {
    "ExecuteTime": {
     "end_time": "2021-05-02T03:44:45.536378Z",
     "start_time": "2021-05-02T03:44:45.524663Z"
    }
   },
   "outputs": [
    {
     "name": "stdout",
     "output_type": "stream",
     "text": [
      "abc\n",
      "None\n",
      "Invalid Email id\n"
     ]
    }
   ],
   "source": [
    "# Define a function which takes a email id from user and check whether it is valid.\n",
    "# If it is valid email email id then it returns the user name of the email id\n",
    "def email_valid_user_name(email):\n",
    "    if '@' in email and '.' in email:\n",
    "        return email[:email.index('@')]\n",
    "    else:\n",
    "        return 'Invalid Email id'\n",
    "\n",
    "user_name = email_valid_user_name('abc@gmail.com')\n",
    "print(email_valid_user_name('abc@gmailcom'))"
   ]
  },
  {
   "cell_type": "code",
   "execution_count": 21,
   "metadata": {
    "ExecuteTime": {
     "end_time": "2021-05-02T04:01:13.546624Z",
     "start_time": "2021-05-02T04:01:13.528977Z"
    }
   },
   "outputs": [
    {
     "data": {
      "text/plain": [
       "'much wood would woodchuck chuck could'"
      ]
     },
     "execution_count": 21,
     "metadata": {},
     "output_type": "execute_result"
    }
   ],
   "source": [
    "my_str = 'How much wood would a woodchuck chuck if a woodchuck could chuck wood'\n",
    "\n",
    "def lst_str_without_duplicate(inp_str):\n",
    "    out_lst = []\n",
    "    word = ''\n",
    "    for ind in range(len(inp_str)):\n",
    "        if ind == len(inp_str)-1:\n",
    "            if len(word) >= 4 and word not in out_lst:\n",
    "                out_lst.append(word)\n",
    "        elif inp_str[ind] == ' ':\n",
    "            if len(word) >= 4 and word not in out_lst:\n",
    "                out_lst.append(word)\n",
    "            word = '' \n",
    "        else:\n",
    "            word += inp_str[ind]   \n",
    "    return out_lst\n",
    "\n",
    "lst_words = lst_str_without_duplicate(my_str)\n",
    "\n",
    "' '.join(lst_words)\n"
   ]
  },
  {
   "cell_type": "code",
   "execution_count": 24,
   "metadata": {
    "ExecuteTime": {
     "end_time": "2021-05-02T04:02:32.435417Z",
     "start_time": "2021-05-02T04:02:32.427021Z"
    }
   },
   "outputs": [
    {
     "name": "stdout",
     "output_type": "stream",
     "text": [
      "[10, 20, 30, 40, 100]\n",
      "None\n"
     ]
    }
   ],
   "source": [
    "lst = [10,20,30,40]\n",
    "lst1 = lst.append(100)\n",
    "print(lst)\n",
    "print(lst1)"
   ]
  },
  {
   "cell_type": "code",
   "execution_count": 26,
   "metadata": {
    "ExecuteTime": {
     "end_time": "2021-05-02T04:03:15.750124Z",
     "start_time": "2021-05-02T04:03:15.744761Z"
    }
   },
   "outputs": [
    {
     "name": "stdout",
     "output_type": "stream",
     "text": [
      "Thiz iz Python clazz\n",
      "This is Python class\n"
     ]
    }
   ],
   "source": [
    "my_str = 'This is Python class'\n",
    "out_str = my_str.replace('s', 'z')\n",
    "print(my_str)"
   ]
  },
  {
   "cell_type": "code",
   "execution_count": 29,
   "metadata": {
    "ExecuteTime": {
     "end_time": "2021-05-02T04:22:30.305930Z",
     "start_time": "2021-05-02T04:22:30.297893Z"
    }
   },
   "outputs": [
    {
     "name": "stdout",
     "output_type": "stream",
     "text": [
      "No. of Uppercase characters = 3\n",
      "No. of Lowercase characters = 12\n"
     ]
    }
   ],
   "source": [
    "# Sample String : 'The quick Brow Fox'\n",
    "# Expected Output :\n",
    "# No. of Upper case characters : 3\n",
    "# No. of Lower case Characters : 12\n",
    "\n",
    "def upper_lower_count(inp_str):\n",
    "    u_letter_count = 0\n",
    "    l_letter_count = 0\n",
    "    for ele in inp_str:\n",
    "        if ele.isupper():\n",
    "            u_letter_count += 1\n",
    "        elif ele == ' ':\n",
    "            continue\n",
    "        else:\n",
    "            l_letter_count += 1\n",
    "    return f'No. of Uppercase characters = {u_letter_count}\\nNo. of Lowercase characters = {l_letter_count}'\n",
    "\n",
    "print(upper_lower_count('The quick Brow Fox'))"
   ]
  },
  {
   "cell_type": "code",
   "execution_count": 43,
   "metadata": {
    "ExecuteTime": {
     "end_time": "2021-05-02T04:32:28.440421Z",
     "start_time": "2021-05-02T04:32:28.427595Z"
    }
   },
   "outputs": [
    {
     "name": "stdout",
     "output_type": "stream",
     "text": [
      "Number is not prime\n"
     ]
    }
   ],
   "source": [
    "# Write a function which takes a number from user and check whether it is prime number or not?\n",
    "\n",
    "def prime_num(num):\n",
    "    div_count = 0\n",
    "    if num == 0 or num == 1:\n",
    "        print('0 and 1 are not a prime number')\n",
    "    elif num == 2:\n",
    "        print('2 is lowest prime number')\n",
    "    elif num > 2:\n",
    "        for i in range(1, (num//2)+1):\n",
    "            if num % i == 0:\n",
    "                div_count += 1\n",
    "    return div_count\n",
    "                \n",
    "\n",
    "res = prime_num(10) \n",
    "if res == 1:\n",
    "    print('Number is prime')\n",
    "else:\n",
    "    print('Number is not prime')\n",
    "\n"
   ]
  },
  {
   "cell_type": "code",
   "execution_count": 45,
   "metadata": {
    "ExecuteTime": {
     "end_time": "2021-05-02T04:36:16.790702Z",
     "start_time": "2021-05-02T04:36:16.771814Z"
    }
   },
   "outputs": [
    {
     "data": {
      "text/plain": [
       "'aba is palindrome'"
      ]
     },
     "execution_count": 45,
     "metadata": {},
     "output_type": "execute_result"
    }
   ],
   "source": [
    "# Write a Python function that checks whether a passed string is palindrome or not.\n",
    "\n",
    "def palindrome(my_str):\n",
    "    if my_str == my_str[::-1]:\n",
    "        return f'{my_str} is palindrome'\n",
    "    else:\n",
    "        return f'{my_str} is not a palindrome'\n",
    "    \n",
    "inp_str = input('Enter a string: ')\n",
    "palindrome(inp_str)"
   ]
  },
  {
   "cell_type": "code",
   "execution_count": 52,
   "metadata": {
    "ExecuteTime": {
     "end_time": "2021-05-02T04:41:08.711082Z",
     "start_time": "2021-05-02T04:41:08.693000Z"
    }
   },
   "outputs": [
    {
     "data": {
      "text/plain": [
       "'171 is not a perfect number'"
      ]
     },
     "execution_count": 52,
     "metadata": {},
     "output_type": "execute_result"
    }
   ],
   "source": [
    "# Write a Python function to check whether a number is perfect or not.\n",
    "\n",
    "# Perfect number - sum of factors of a number(number itself should not be included)\n",
    "# 6 -> 1, 2, 3 -> 1+2+3 = 6\n",
    "# 28 -> 1, 2, 4, 7, 14 -> 1+2+4+7+14 = 28\n",
    "\n",
    "def perfect_num(num):\n",
    "    total = 0\n",
    "    for i in range(1, (num//2)+1):\n",
    "        if num%i == 0:\n",
    "            total += i\n",
    "    if total == num:\n",
    "        return f'{num} is a perfect number'\n",
    "    else:\n",
    "        return f'{num} is not a perfect number'\n",
    "    \n",
    "perfect_num(171)"
   ]
  },
  {
   "cell_type": "code",
   "execution_count": 35,
   "metadata": {
    "ExecuteTime": {
     "end_time": "2021-05-02T04:29:23.815913Z",
     "start_time": "2021-05-02T04:29:23.803382Z"
    }
   },
   "outputs": [
    {
     "data": {
      "text/plain": [
       "[]"
      ]
     },
     "execution_count": 35,
     "metadata": {},
     "output_type": "execute_result"
    }
   ],
   "source": [
    "list(range(1, 1))"
   ]
  },
  {
   "cell_type": "code",
   "execution_count": null,
   "metadata": {},
   "outputs": [],
   "source": [
    "# Params/args - Input to the function\n",
    "# return statemet - Output to the function\n",
    "\n",
    "# Parameters/Arguments\n",
    "#     1. Positional Arguments\n",
    "#     2. Default Parameters\n",
    "#     3. Keyworded Arguments\n",
    "#     4. Variable length arguments\n",
    "#         1. *args - variable length positional arguments\n",
    "#         2. **kwargs - variable length keyworded arguments\n",
    "\n",
    "\n"
   ]
  },
  {
   "cell_type": "code",
   "execution_count": 61,
   "metadata": {
    "ExecuteTime": {
     "end_time": "2021-05-02T04:51:59.305627Z",
     "start_time": "2021-05-02T04:51:59.299373Z"
    }
   },
   "outputs": [
    {
     "name": "stdout",
     "output_type": "stream",
     "text": [
      "ABC\n",
      "101\n",
      "20000\n"
     ]
    }
   ],
   "source": [
    "# 1. Positional Arguments\n",
    "# Order of parameters and arguments should match\n",
    "# Number of parameters and arguments should match\n",
    "\n",
    "def emp_details(emp_name, emp_id, emp_sal):\n",
    "    print(emp_name)\n",
    "    print(emp_id)\n",
    "    print(emp_sal)\n",
    "\n",
    "emp_details('ABC',101, 20000)\n",
    "# emp_details('ABC',101)\n",
    "# emp_details('ABC',101, 20000, 'abc@gmail.com')\n",
    "\n",
    "\n",
    "# def email_valid_user_name(emp_id, emp_email):\n",
    "#     if '@' in emp_email and '.' in emp_email:\n",
    "#         return f\"User name of employee with emp id {emp_id} is {emp_email[:emp_email.index('@')]}\"\n",
    "#     else:\n",
    "#         return 'Invalid Email id'\n",
    "\n",
    "# email_valid_user_name(101, 'abc@gmail.com')\n"
   ]
  },
  {
   "cell_type": "code",
   "execution_count": 67,
   "metadata": {
    "ExecuteTime": {
     "end_time": "2021-05-02T04:56:54.765587Z",
     "start_time": "2021-05-02T04:56:54.754441Z"
    }
   },
   "outputs": [
    {
     "name": "stdout",
     "output_type": "stream",
     "text": [
      "ABC\n",
      "101\n",
      "20000\n",
      "India\n",
      "ABC\n",
      "101\n",
      "20000\n",
      "USA\n"
     ]
    }
   ],
   "source": [
    "# 2. Default Parameters\n",
    "# Default parameters should always be written after positional parameter if you have positional and default parameters both in function definition\n",
    "\n",
    "# my_str = 'Write a Python function to check whether a number is perfect or not.'.\n",
    "# my_str.split()\n",
    "\n",
    "\n",
    "\n",
    "\n",
    "def emp_details(emp_name, emp_id, emp_sal, emp_addr = 'India'):\n",
    "    print(emp_name)\n",
    "    print(emp_id)\n",
    "    print(emp_sal)\n",
    "    print(emp_addr)\n",
    "\n",
    "emp_details('ABC',101, 20000)\n",
    "emp_details('ABC',101, 20000, 'USA')"
   ]
  },
  {
   "cell_type": "code",
   "execution_count": 70,
   "metadata": {
    "ExecuteTime": {
     "end_time": "2021-05-02T04:59:08.998981Z",
     "start_time": "2021-05-02T04:59:08.989209Z"
    }
   },
   "outputs": [
    {
     "name": "stdout",
     "output_type": "stream",
     "text": [
      "ABC\n",
      "101\n",
      "30000\n",
      "India\n"
     ]
    }
   ],
   "source": [
    "# Keyworded Arguments\n",
    "\n",
    "def emp_details(emp_id, emp_sal, emp_name,  emp_addr = 'India'):\n",
    "    print(emp_name)\n",
    "    print(emp_id)\n",
    "    print(emp_sal)\n",
    "    print(emp_addr)\n",
    "    \n",
    "emp_details(101, 30000, emp_addr = 'India', emp_name = 'ABC')\n"
   ]
  },
  {
   "cell_type": "code",
   "execution_count": 85,
   "metadata": {
    "ExecuteTime": {
     "end_time": "2021-05-02T05:06:38.241460Z",
     "start_time": "2021-05-02T05:06:38.225315Z"
    }
   },
   "outputs": [
    {
     "name": "stdout",
     "output_type": "stream",
     "text": [
      "(10, 20, 30, 40)\n",
      "{'a': 100, 'b': 200, 'c': 300, 'd': 400}\n"
     ]
    }
   ],
   "source": [
    "# Variable length - *args, **kwargs\n",
    "# *args -> stores all values in form of tuple\n",
    "# **kwargs - stores the value in form of dictionary\n",
    "\n",
    "# def add(*var):\n",
    "#     total = 0\n",
    "#     for i in var:\n",
    "#         total += i\n",
    "#     return total\n",
    "    \n",
    "# print(add(10,20,30,40,50))\n",
    "    \n",
    "\n",
    "# add(10,20)\n",
    "# add(10,20, 30,40,50)\n",
    "\n",
    "\n",
    "# def add(**kwargs):\n",
    "#     print(kwargs)\n",
    "#     total = 0\n",
    "#     for i in kwargs:\n",
    "#         total += kwargs[i]\n",
    "#     return total\n",
    "    \n",
    "# add(z = 100, v= 200, c = 300,d = 400)\n",
    "\n",
    "# def add(*var, **kwvar, ):\n",
    "#     print(var)\n",
    "#     print(kwvar)\n",
    "    \n",
    "# add(10,20,30,40, a = 100, b = 200, c = 300, d = 400)\n"
   ]
  },
  {
   "cell_type": "code",
   "execution_count": null,
   "metadata": {},
   "outputs": [],
   "source": [
    "# Annonymous Functions, filter, map, reduce"
   ]
  },
  {
   "cell_type": "code",
   "execution_count": null,
   "metadata": {},
   "outputs": [],
   "source": [
    "# Python is a functional Programming Language\n",
    "    # Function in Python is treated as first class citizen"
   ]
  },
  {
   "cell_type": "code",
   "execution_count": null,
   "metadata": {},
   "outputs": [],
   "source": [
    "Structural Programming Language/Paradigm\n",
    "Procedural Programming Language/Paradigm\n",
    "Functional Programming Language/Paradigm\n",
    "Modular Programming Language/Paradigm\n",
    "Object Oriented Programming Language/Paradigm"
   ]
  },
  {
   "cell_type": "code",
   "execution_count": 86,
   "metadata": {
    "ExecuteTime": {
     "end_time": "2021-05-02T05:27:30.899981Z",
     "start_time": "2021-05-02T05:27:30.885939Z"
    }
   },
   "outputs": [
    {
     "data": {
      "text/plain": [
       "'class Python is This'"
      ]
     },
     "execution_count": 86,
     "metadata": {},
     "output_type": "execute_result"
    }
   ],
   "source": [
    "my_str = 'This is Python class'\n",
    "' '.join(my_str.split()[::-1])"
   ]
  },
  {
   "cell_type": "code",
   "execution_count": 93,
   "metadata": {
    "ExecuteTime": {
     "end_time": "2021-05-02T05:33:57.349477Z",
     "start_time": "2021-05-02T05:33:57.332016Z"
    }
   },
   "outputs": [
    {
     "data": {
      "text/plain": [
       "'28 is a perfect number'"
      ]
     },
     "execution_count": 93,
     "metadata": {},
     "output_type": "execute_result"
    }
   ],
   "source": [
    "def perfect_num(num):\n",
    "    total = 0\n",
    "    for i in range(1, (num//2)+1):\n",
    "        if num%i == 0:\n",
    "            total += i\n",
    "    if total == num:\n",
    "        return f'{num} is a perfect number'\n",
    "    else:\n",
    "        return f'{num} is not a perfect number'\n",
    "    \n",
    "func = perfect_num\n",
    "# print(func)\n",
    "# print(perfect_num)\n",
    "func(28)"
   ]
  },
  {
   "cell_type": "code",
   "execution_count": 90,
   "metadata": {
    "ExecuteTime": {
     "end_time": "2021-05-02T05:32:02.712042Z",
     "start_time": "2021-05-02T05:32:02.703647Z"
    }
   },
   "outputs": [
    {
     "name": "stdout",
     "output_type": "stream",
     "text": [
      "10\n"
     ]
    }
   ],
   "source": [
    "a = 10\n",
    "b = a\n",
    "print(b)"
   ]
  },
  {
   "cell_type": "code",
   "execution_count": 107,
   "metadata": {
    "ExecuteTime": {
     "end_time": "2021-05-02T05:54:11.677750Z",
     "start_time": "2021-05-02T05:54:11.669109Z"
    }
   },
   "outputs": [
    {
     "name": "stdout",
     "output_type": "stream",
     "text": [
      "This is outer function\n",
      "This is inner function\n"
     ]
    }
   ],
   "source": [
    "# Closure - A function which returns another function as output\n",
    "# def outer():\n",
    "#     print('This is outer function')\n",
    "#     def inner():\n",
    "#         print('This is inner function')\n",
    "# #     inner()\n",
    "# outer()\n",
    "# # inner()\n",
    "\n",
    "def outer():\n",
    "    print('This is outer function')\n",
    "    def inner():\n",
    "        print('This is inner function')\n",
    "    return inner\n",
    "\n",
    "func = outer()\n",
    "# print(outer)\n",
    "# func()\n",
    "func()\n",
    "\n",
    "\n",
    "\n"
   ]
  },
  {
   "cell_type": "code",
   "execution_count": null,
   "metadata": {},
   "outputs": [],
   "source": [
    "# Namespace and scope\n",
    "\n",
    "# Namespace - it os a container which keeps all the name defined inside a particular container or function\n",
    "# Built-in \n",
    "# Global\n",
    "# Extended\n",
    "# Local\n",
    "\n",
    "\n",
    "# Scope - defines a rule which says that in which order we should look for the references\n",
    "local > Extended > Global > Built-in\n"
   ]
  },
  {
   "cell_type": "code",
   "execution_count": 100,
   "metadata": {
    "ExecuteTime": {
     "end_time": "2021-05-02T05:48:57.034903Z",
     "start_time": "2021-05-02T05:48:57.017142Z"
    }
   },
   "outputs": [
    {
     "name": "stdout",
     "output_type": "stream",
     "text": [
      "111 222 22 11 20\n",
      "22 11 20\n",
      "10 20\n"
     ]
    }
   ],
   "source": [
    "a = 10\n",
    "b = 20\n",
    "def f1():\n",
    "    x = 11\n",
    "    a = 22\n",
    "    def f2():\n",
    "        m = 111\n",
    "        n = 222\n",
    "        print(m,n,a,x,b)\n",
    "    f2()\n",
    "    print(a,x,b)\n",
    "f1()\n",
    "print(a,b)"
   ]
  },
  {
   "cell_type": "code",
   "execution_count": 112,
   "metadata": {
    "ExecuteTime": {
     "end_time": "2021-05-02T06:05:39.624722Z",
     "start_time": "2021-05-02T06:05:39.613793Z"
    }
   },
   "outputs": [
    {
     "data": {
      "text/plain": [
       "'name'"
      ]
     },
     "execution_count": 112,
     "metadata": {},
     "output_type": "execute_result"
    }
   ],
   "source": [
    "# Annonymous function - lambda keyword to define the annonymous function\n",
    "# These functions does not have any name\n",
    "\n",
    "# Synatx - \n",
    "# lambda var/s : expr\n",
    "# expr will be return value of this lambda function, we do not need to write th return statment\n",
    "\n",
    "# def sqr(num):\n",
    "#     return num*num\n",
    "# sqr(4)\n",
    "\n",
    "# (lambda num:num*num)(4)\n",
    "\n",
    "# (lambda num:num**.5)(4)\n",
    "\n",
    "# Define a lambda function which takes an email id as argument and returns the user name\n",
    "\n",
    "(lambda email : email[:email.index(\"@\")])('name@gmail.com')"
   ]
  },
  {
   "cell_type": "code",
   "execution_count": 130,
   "metadata": {
    "ExecuteTime": {
     "end_time": "2021-05-02T06:25:05.907437Z",
     "start_time": "2021-05-02T06:25:05.898595Z"
    }
   },
   "outputs": [
    {
     "name": "stdout",
     "output_type": "stream",
     "text": [
      "['pqrst', 'mnopq']\n",
      "['pqrst', 'mnopq']\n"
     ]
    }
   ],
   "source": [
    "lst = ['abc@gmail.com', 'pqrst@hotmail.com', 'mnopq@rediffmail.com', 'xyz@yahoo.com']\n",
    "\n",
    "# filter - filters a sequnece based on some condition\n",
    "# Synatx - filter(func, seq)\n",
    "# filter function always returns filter object\n",
    "\n",
    "# lst = list(range(10,21))\n",
    "# # print(lst)\n",
    "# def even_odd(num):\n",
    "#     return True if num%2 == 0 else False\n",
    "\n",
    "# print(list(filter(even_odd,lst)))\n",
    "# print(list(filter(lambda num:num%2==0,lst)))\n",
    "\n",
    "# ['pqrst@hotmail.com', 'mnopq@rediffmail.com']\n",
    "\n",
    "# list(filter(lambda email:len(email[:email.index('@'):1]) > 3 ,lst))\n",
    "\n",
    "# map - maps every element of a seq to another value\n",
    "# synatx - map(func, seq)\n",
    "# map funtion always returns a map object\n",
    "\n",
    "# lst = list(range(10,21))\n",
    "# list(map(lambda num:num**2, lst))\n",
    "\n",
    "# ['pqrst', 'mnopq']\n",
    "\n",
    "print(list(filter(lambda x:len(x)>3, map(lambda x: x[0:x.find('@')], lst))))\n",
    "\n",
    "print(list(map(lambda email: email[:email.index('@')], filter(lambda email: len(email[:email.index('@')])>3, lst))))\n"
   ]
  },
  {
   "cell_type": "code",
   "execution_count": 123,
   "metadata": {
    "ExecuteTime": {
     "end_time": "2021-05-02T06:11:27.561954Z",
     "start_time": "2021-05-02T06:11:27.554031Z"
    }
   },
   "outputs": [
    {
     "name": "stdout",
     "output_type": "stream",
     "text": [
      "10\n",
      "20\n"
     ]
    }
   ],
   "source": [
    "a = 10\n",
    "b = 20\n",
    "print(a)\n",
    "print(b)"
   ]
  },
  {
   "cell_type": "code",
   "execution_count": null,
   "metadata": {},
   "outputs": [],
   "source": []
  },
  {
   "cell_type": "code",
   "execution_count": null,
   "metadata": {},
   "outputs": [],
   "source": []
  },
  {
   "cell_type": "code",
   "execution_count": null,
   "metadata": {},
   "outputs": [],
   "source": []
  },
  {
   "cell_type": "code",
   "execution_count": null,
   "metadata": {},
   "outputs": [],
   "source": []
  },
  {
   "cell_type": "code",
   "execution_count": null,
   "metadata": {},
   "outputs": [],
   "source": []
  },
  {
   "cell_type": "code",
   "execution_count": null,
   "metadata": {},
   "outputs": [],
   "source": []
  },
  {
   "cell_type": "code",
   "execution_count": null,
   "metadata": {},
   "outputs": [],
   "source": []
  },
  {
   "cell_type": "code",
   "execution_count": null,
   "metadata": {},
   "outputs": [],
   "source": []
  },
  {
   "cell_type": "code",
   "execution_count": null,
   "metadata": {},
   "outputs": [],
   "source": []
  },
  {
   "cell_type": "code",
   "execution_count": null,
   "metadata": {},
   "outputs": [],
   "source": []
  },
  {
   "cell_type": "code",
   "execution_count": null,
   "metadata": {},
   "outputs": [],
   "source": []
  },
  {
   "cell_type": "code",
   "execution_count": null,
   "metadata": {},
   "outputs": [],
   "source": []
  },
  {
   "cell_type": "code",
   "execution_count": null,
   "metadata": {},
   "outputs": [],
   "source": []
  },
  {
   "cell_type": "code",
   "execution_count": null,
   "metadata": {},
   "outputs": [],
   "source": []
  },
  {
   "cell_type": "code",
   "execution_count": null,
   "metadata": {},
   "outputs": [],
   "source": []
  },
  {
   "cell_type": "code",
   "execution_count": null,
   "metadata": {},
   "outputs": [],
   "source": []
  },
  {
   "cell_type": "code",
   "execution_count": null,
   "metadata": {},
   "outputs": [],
   "source": []
  },
  {
   "cell_type": "code",
   "execution_count": null,
   "metadata": {},
   "outputs": [],
   "source": []
  },
  {
   "cell_type": "code",
   "execution_count": null,
   "metadata": {},
   "outputs": [],
   "source": []
  },
  {
   "cell_type": "code",
   "execution_count": null,
   "metadata": {},
   "outputs": [],
   "source": []
  },
  {
   "cell_type": "code",
   "execution_count": null,
   "metadata": {},
   "outputs": [],
   "source": []
  },
  {
   "cell_type": "code",
   "execution_count": null,
   "metadata": {},
   "outputs": [],
   "source": []
  },
  {
   "cell_type": "code",
   "execution_count": null,
   "metadata": {},
   "outputs": [],
   "source": []
  },
  {
   "cell_type": "code",
   "execution_count": null,
   "metadata": {},
   "outputs": [],
   "source": []
  },
  {
   "cell_type": "code",
   "execution_count": null,
   "metadata": {},
   "outputs": [],
   "source": []
  },
  {
   "cell_type": "code",
   "execution_count": null,
   "metadata": {},
   "outputs": [],
   "source": []
  },
  {
   "cell_type": "code",
   "execution_count": null,
   "metadata": {},
   "outputs": [],
   "source": []
  },
  {
   "cell_type": "code",
   "execution_count": null,
   "metadata": {},
   "outputs": [],
   "source": []
  },
  {
   "cell_type": "code",
   "execution_count": null,
   "metadata": {},
   "outputs": [],
   "source": []
  },
  {
   "cell_type": "code",
   "execution_count": null,
   "metadata": {},
   "outputs": [],
   "source": []
  },
  {
   "cell_type": "code",
   "execution_count": null,
   "metadata": {},
   "outputs": [],
   "source": []
  },
  {
   "cell_type": "code",
   "execution_count": null,
   "metadata": {},
   "outputs": [],
   "source": []
  }
 ],
 "metadata": {
  "kernelspec": {
   "display_name": "Python 3",
   "language": "python",
   "name": "python3"
  },
  "language_info": {
   "codemirror_mode": {
    "name": "ipython",
    "version": 3
   },
   "file_extension": ".py",
   "mimetype": "text/x-python",
   "name": "python",
   "nbconvert_exporter": "python",
   "pygments_lexer": "ipython3",
   "version": "3.8.2"
  },
  "latex_envs": {
   "LaTeX_envs_menu_present": true,
   "autoclose": false,
   "autocomplete": true,
   "bibliofile": "biblio.bib",
   "cite_by": "apalike",
   "current_citInitial": 1,
   "eqLabelWithNumbers": true,
   "eqNumInitial": 1,
   "hotkeys": {
    "equation": "Ctrl-E",
    "itemize": "Ctrl-I"
   },
   "labels_anchors": false,
   "latex_user_defs": false,
   "report_style_numbering": false,
   "user_envs_cfg": false
  },
  "varInspector": {
   "cols": {
    "lenName": 16,
    "lenType": 16,
    "lenVar": 40
   },
   "kernels_config": {
    "python": {
     "delete_cmd_postfix": "",
     "delete_cmd_prefix": "del ",
     "library": "var_list.py",
     "varRefreshCmd": "print(var_dic_list())"
    },
    "r": {
     "delete_cmd_postfix": ") ",
     "delete_cmd_prefix": "rm(",
     "library": "var_list.r",
     "varRefreshCmd": "cat(var_dic_list()) "
    }
   },
   "types_to_exclude": [
    "module",
    "function",
    "builtin_function_or_method",
    "instance",
    "_Feature"
   ],
   "window_display": false
  }
 },
 "nbformat": 4,
 "nbformat_minor": 2
}
